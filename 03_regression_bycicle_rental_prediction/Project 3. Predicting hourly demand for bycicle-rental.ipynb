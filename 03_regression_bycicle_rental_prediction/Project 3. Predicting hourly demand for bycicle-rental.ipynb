{
 "cells": [
  {
   "cell_type": "markdown",
   "id": "edd4c042",
   "metadata": {},
   "source": [
    "# Project 3. Predicting hourly demand for bycicle-rental "
   ]
  },
  {
   "cell_type": "markdown",
   "id": "82f35f50",
   "metadata": {},
   "source": [
    "## 1. Defining the goal of the project "
   ]
  },
  {
   "cell_type": "markdown",
   "id": "f72b2642",
   "metadata": {},
   "source": [
    "The goal of this project is to predict the total count of bycicles rented during each hour based on time and weather features, optimizing the accuracy of the model for RMSLE.\n",
    "\n",
    "Using the \"Bike Sharing Demand\" data set from Kaggle website that provides hourly rental data spanning two years. The training set is comprised of the first 19 days of each month, while the test set is the 20th to the end of the month. We predict the total count of bikes rented during each hour covered by the test set, using only information available prior to the rental period.\n",
    "\n",
    "More information on the data fields: \n",
    "\n",
    "https://www.kaggle.com/c/bike-sharing-demand/data\n"
   ]
  },
  {
   "cell_type": "code",
   "execution_count": 1,
   "id": "82c7a542",
   "metadata": {},
   "outputs": [],
   "source": [
    "# Importing Libraries\n",
    "\n",
    "# EDA\n",
    "import pandas as pd\n",
    "import seaborn as sns\n",
    "import matplotlib.pyplot as plt\n",
    "import numpy as np\n",
    "\n",
    "# Feature Selection\n",
    "import statsmodels.api as sm\n",
    "from statsmodels.stats.outliers_influence import variance_inflation_factor\n",
    "from sklearn.feature_selection import RFE\n",
    "from sklearn.svm import SVR\n",
    "from statsmodels.api import OLS \n",
    "\n",
    "# Feature Engineering\n",
    "from sklearn.model_selection import train_test_split\n",
    "from sklearn.preprocessing import OneHotEncoder\n",
    "from sklearn.preprocessing import MinMaxScaler, StandardScaler\n",
    "from sklearn.compose import ColumnTransformer\n",
    "\n",
    "# Models\n",
    "from sklearn.linear_model import LinearRegression\n",
    "from sklearn.linear_model import PoissonRegressor\n",
    "from sklearn.linear_model import Ridge\n",
    "from sklearn.linear_model import ElasticNet\n",
    "from sklearn.preprocessing import PolynomialFeatures\n",
    "from sklearn.ensemble import RandomForestRegressor\n",
    "from sklearn.datasets import make_regression\n",
    "from sklearn import svm\n",
    "from sklearn.model_selection import GridSearchCV\n",
    "\n",
    "# Metrics\n",
    "from sklearn.metrics import mean_squared_log_error\n",
    "from sklearn.metrics import mean_squared_error, r2_score\n",
    "\n",
    "# Cross Validation \n",
    "from sklearn.model_selection import cross_validate\n",
    "from sklearn.model_selection import (KFold, ShuffleSplit, StratifiedKFold)\n",
    "from sklearn.model_selection import cross_val_score "
   ]
  },
  {
   "cell_type": "markdown",
   "id": "afe09a7f",
   "metadata": {},
   "source": [
    "## 2. Getting the data:"
   ]
  },
  {
   "cell_type": "code",
   "execution_count": 2,
   "id": "27c9c9fa",
   "metadata": {},
   "outputs": [],
   "source": [
    "# loading training set, pandas parse the column 'dates' and turn them into datetime: parse_dates=True\n",
    "train_set = pd.read_csv('../data/train.csv', index_col=0, parse_dates=True)"
   ]
  },
  {
   "cell_type": "code",
   "execution_count": 3,
   "id": "f759d0ed",
   "metadata": {},
   "outputs": [
    {
     "data": {
      "text/plain": [
       "(10886, 11)"
      ]
     },
     "execution_count": 3,
     "metadata": {},
     "output_type": "execute_result"
    }
   ],
   "source": [
    "train_set.shape"
   ]
  },
  {
   "cell_type": "code",
   "execution_count": 4,
   "id": "6c1056c6",
   "metadata": {},
   "outputs": [
    {
     "data": {
      "text/html": [
       "<div>\n",
       "<style scoped>\n",
       "    .dataframe tbody tr th:only-of-type {\n",
       "        vertical-align: middle;\n",
       "    }\n",
       "\n",
       "    .dataframe tbody tr th {\n",
       "        vertical-align: top;\n",
       "    }\n",
       "\n",
       "    .dataframe thead th {\n",
       "        text-align: right;\n",
       "    }\n",
       "</style>\n",
       "<table border=\"1\" class=\"dataframe\">\n",
       "  <thead>\n",
       "    <tr style=\"text-align: right;\">\n",
       "      <th></th>\n",
       "      <th>season</th>\n",
       "      <th>holiday</th>\n",
       "      <th>workingday</th>\n",
       "      <th>weather</th>\n",
       "      <th>temp</th>\n",
       "      <th>atemp</th>\n",
       "      <th>humidity</th>\n",
       "      <th>windspeed</th>\n",
       "      <th>casual</th>\n",
       "      <th>registered</th>\n",
       "      <th>count</th>\n",
       "    </tr>\n",
       "    <tr>\n",
       "      <th>datetime</th>\n",
       "      <th></th>\n",
       "      <th></th>\n",
       "      <th></th>\n",
       "      <th></th>\n",
       "      <th></th>\n",
       "      <th></th>\n",
       "      <th></th>\n",
       "      <th></th>\n",
       "      <th></th>\n",
       "      <th></th>\n",
       "      <th></th>\n",
       "    </tr>\n",
       "  </thead>\n",
       "  <tbody>\n",
       "    <tr>\n",
       "      <th>2011-01-01 00:00:00</th>\n",
       "      <td>1</td>\n",
       "      <td>0</td>\n",
       "      <td>0</td>\n",
       "      <td>1</td>\n",
       "      <td>9.84</td>\n",
       "      <td>14.395</td>\n",
       "      <td>81</td>\n",
       "      <td>0.0</td>\n",
       "      <td>3</td>\n",
       "      <td>13</td>\n",
       "      <td>16</td>\n",
       "    </tr>\n",
       "    <tr>\n",
       "      <th>2011-01-01 01:00:00</th>\n",
       "      <td>1</td>\n",
       "      <td>0</td>\n",
       "      <td>0</td>\n",
       "      <td>1</td>\n",
       "      <td>9.02</td>\n",
       "      <td>13.635</td>\n",
       "      <td>80</td>\n",
       "      <td>0.0</td>\n",
       "      <td>8</td>\n",
       "      <td>32</td>\n",
       "      <td>40</td>\n",
       "    </tr>\n",
       "  </tbody>\n",
       "</table>\n",
       "</div>"
      ],
      "text/plain": [
       "                     season  holiday  workingday  weather  temp   atemp  \\\n",
       "datetime                                                                  \n",
       "2011-01-01 00:00:00       1        0           0        1  9.84  14.395   \n",
       "2011-01-01 01:00:00       1        0           0        1  9.02  13.635   \n",
       "\n",
       "                     humidity  windspeed  casual  registered  count  \n",
       "datetime                                                             \n",
       "2011-01-01 00:00:00        81        0.0       3          13     16  \n",
       "2011-01-01 01:00:00        80        0.0       8          32     40  "
      ]
     },
     "execution_count": 4,
     "metadata": {},
     "output_type": "execute_result"
    }
   ],
   "source": [
    "train_set.head(2)"
   ]
  },
  {
   "cell_type": "markdown",
   "id": "30adefb4",
   "metadata": {},
   "source": [
    "## 3. Preparing dataset to Train-Test Splitting"
   ]
  },
  {
   "cell_type": "markdown",
   "id": "239d8a50",
   "metadata": {},
   "source": [
    "### 3.1. The variables of the dataset:\n"
   ]
  },
  {
   "cell_type": "markdown",
   "id": "78787365",
   "metadata": {},
   "source": [
    "\n",
    "    datetime - date and hour\n",
    "    season - 1 = spring, 2 = summer, 3 = fall, 4 = winter\n",
    "    holiday - whether the day is considered a holiday\n",
    "    workingday - whether the day is neither a weekend nor holiday\n",
    "    weather\n",
    "    1: Clear, Few clouds, Partly cloudy, Partly cloudy\n",
    "    2: Mist + Cloudy, Mist + Broken clouds, Mist + Few clouds, Mist\n",
    "    3: Light Snow, Light Rain + Thunderstorm + Scattered clouds, Light Rain + Scattered clouds\n",
    "    4: Heavy Rain + Ice Pallets + Thunderstorm + Mist, Snow + Fog\n",
    "    temp - temperature in Celsius\n",
    "    atemp - \"feels like\" temperature in Celsius\n",
    "    humidity - relative humidity\n",
    "    windspeed - wind speed\n",
    "    casual - number of non-registered user rentals initiated\n",
    "    registered - number of registered user rentals initiated\n",
    "    count - number of total rentals\n"
   ]
  },
  {
   "cell_type": "markdown",
   "id": "4353d4bf",
   "metadata": {},
   "source": [
    "### 3.2. Extracting time features from the DatetimeIndex"
   ]
  },
  {
   "cell_type": "code",
   "execution_count": 5,
   "id": "f0beecb7",
   "metadata": {},
   "outputs": [],
   "source": [
    "# Extracting hour, weekday, month and year from datetime \n",
    "train_set['hour'] = train_set.index.hour\n",
    "train_set['weekday'] = train_set.index.weekday\n",
    "train_set['month'] = train_set.index.month\n",
    "train_set['year'] = train_set.index.year"
   ]
  },
  {
   "cell_type": "code",
   "execution_count": 6,
   "id": "5d0fafea",
   "metadata": {},
   "outputs": [
    {
     "data": {
      "text/html": [
       "<div>\n",
       "<style scoped>\n",
       "    .dataframe tbody tr th:only-of-type {\n",
       "        vertical-align: middle;\n",
       "    }\n",
       "\n",
       "    .dataframe tbody tr th {\n",
       "        vertical-align: top;\n",
       "    }\n",
       "\n",
       "    .dataframe thead th {\n",
       "        text-align: right;\n",
       "    }\n",
       "</style>\n",
       "<table border=\"1\" class=\"dataframe\">\n",
       "  <thead>\n",
       "    <tr style=\"text-align: right;\">\n",
       "      <th></th>\n",
       "      <th>season</th>\n",
       "      <th>holiday</th>\n",
       "      <th>workingday</th>\n",
       "      <th>weather</th>\n",
       "      <th>temp</th>\n",
       "      <th>atemp</th>\n",
       "      <th>humidity</th>\n",
       "      <th>windspeed</th>\n",
       "      <th>casual</th>\n",
       "      <th>registered</th>\n",
       "      <th>count</th>\n",
       "      <th>hour</th>\n",
       "      <th>weekday</th>\n",
       "      <th>month</th>\n",
       "      <th>year</th>\n",
       "    </tr>\n",
       "    <tr>\n",
       "      <th>datetime</th>\n",
       "      <th></th>\n",
       "      <th></th>\n",
       "      <th></th>\n",
       "      <th></th>\n",
       "      <th></th>\n",
       "      <th></th>\n",
       "      <th></th>\n",
       "      <th></th>\n",
       "      <th></th>\n",
       "      <th></th>\n",
       "      <th></th>\n",
       "      <th></th>\n",
       "      <th></th>\n",
       "      <th></th>\n",
       "      <th></th>\n",
       "    </tr>\n",
       "  </thead>\n",
       "  <tbody>\n",
       "    <tr>\n",
       "      <th>2011-01-01 00:00:00</th>\n",
       "      <td>1</td>\n",
       "      <td>0</td>\n",
       "      <td>0</td>\n",
       "      <td>1</td>\n",
       "      <td>9.84</td>\n",
       "      <td>14.395</td>\n",
       "      <td>81</td>\n",
       "      <td>0.0</td>\n",
       "      <td>3</td>\n",
       "      <td>13</td>\n",
       "      <td>16</td>\n",
       "      <td>0</td>\n",
       "      <td>5</td>\n",
       "      <td>1</td>\n",
       "      <td>2011</td>\n",
       "    </tr>\n",
       "    <tr>\n",
       "      <th>2011-01-01 01:00:00</th>\n",
       "      <td>1</td>\n",
       "      <td>0</td>\n",
       "      <td>0</td>\n",
       "      <td>1</td>\n",
       "      <td>9.02</td>\n",
       "      <td>13.635</td>\n",
       "      <td>80</td>\n",
       "      <td>0.0</td>\n",
       "      <td>8</td>\n",
       "      <td>32</td>\n",
       "      <td>40</td>\n",
       "      <td>1</td>\n",
       "      <td>5</td>\n",
       "      <td>1</td>\n",
       "      <td>2011</td>\n",
       "    </tr>\n",
       "  </tbody>\n",
       "</table>\n",
       "</div>"
      ],
      "text/plain": [
       "                     season  holiday  workingday  weather  temp   atemp  \\\n",
       "datetime                                                                  \n",
       "2011-01-01 00:00:00       1        0           0        1  9.84  14.395   \n",
       "2011-01-01 01:00:00       1        0           0        1  9.02  13.635   \n",
       "\n",
       "                     humidity  windspeed  casual  registered  count  hour  \\\n",
       "datetime                                                                    \n",
       "2011-01-01 00:00:00        81        0.0       3          13     16     0   \n",
       "2011-01-01 01:00:00        80        0.0       8          32     40     1   \n",
       "\n",
       "                     weekday  month  year  \n",
       "datetime                                   \n",
       "2011-01-01 00:00:00        5      1  2011  \n",
       "2011-01-01 01:00:00        5      1  2011  "
      ]
     },
     "execution_count": 6,
     "metadata": {},
     "output_type": "execute_result"
    }
   ],
   "source": [
    "train_set.head(2)"
   ]
  },
  {
   "cell_type": "markdown",
   "id": "db5c9a76",
   "metadata": {},
   "source": [
    "### 3.3. Removing variables against potential data leackages from the dataset"
   ]
  },
  {
   "cell_type": "code",
   "execution_count": 7,
   "id": "4417802c",
   "metadata": {},
   "outputs": [],
   "source": [
    "X = train_set.drop(train_set[['count']], axis=1)\n",
    "y = train_set['count']"
   ]
  },
  {
   "cell_type": "code",
   "execution_count": 8,
   "id": "9ed23af0",
   "metadata": {},
   "outputs": [],
   "source": [
    "X_train, X_test, y_train, y_test = train_test_split(X, y, test_size=0.20, random_state=101)"
   ]
  },
  {
   "cell_type": "code",
   "execution_count": 9,
   "id": "49a66daa",
   "metadata": {
    "scrolled": false
   },
   "outputs": [
    {
     "data": {
      "text/html": [
       "<div>\n",
       "<style scoped>\n",
       "    .dataframe tbody tr th:only-of-type {\n",
       "        vertical-align: middle;\n",
       "    }\n",
       "\n",
       "    .dataframe tbody tr th {\n",
       "        vertical-align: top;\n",
       "    }\n",
       "\n",
       "    .dataframe thead th {\n",
       "        text-align: right;\n",
       "    }\n",
       "</style>\n",
       "<table border=\"1\" class=\"dataframe\">\n",
       "  <thead>\n",
       "    <tr style=\"text-align: right;\">\n",
       "      <th></th>\n",
       "      <th>season</th>\n",
       "      <th>holiday</th>\n",
       "      <th>workingday</th>\n",
       "      <th>weather</th>\n",
       "      <th>temp</th>\n",
       "      <th>atemp</th>\n",
       "      <th>humidity</th>\n",
       "      <th>windspeed</th>\n",
       "      <th>casual</th>\n",
       "      <th>registered</th>\n",
       "      <th>hour</th>\n",
       "      <th>weekday</th>\n",
       "      <th>month</th>\n",
       "      <th>year</th>\n",
       "    </tr>\n",
       "    <tr>\n",
       "      <th>datetime</th>\n",
       "      <th></th>\n",
       "      <th></th>\n",
       "      <th></th>\n",
       "      <th></th>\n",
       "      <th></th>\n",
       "      <th></th>\n",
       "      <th></th>\n",
       "      <th></th>\n",
       "      <th></th>\n",
       "      <th></th>\n",
       "      <th></th>\n",
       "      <th></th>\n",
       "      <th></th>\n",
       "      <th></th>\n",
       "    </tr>\n",
       "  </thead>\n",
       "  <tbody>\n",
       "    <tr>\n",
       "      <th>2011-06-18 19:00:00</th>\n",
       "      <td>2</td>\n",
       "      <td>0</td>\n",
       "      <td>0</td>\n",
       "      <td>2</td>\n",
       "      <td>30.34</td>\n",
       "      <td>33.335</td>\n",
       "      <td>51</td>\n",
       "      <td>7.0015</td>\n",
       "      <td>99</td>\n",
       "      <td>227</td>\n",
       "      <td>19</td>\n",
       "      <td>5</td>\n",
       "      <td>6</td>\n",
       "      <td>2011</td>\n",
       "    </tr>\n",
       "    <tr>\n",
       "      <th>2012-09-08 17:00:00</th>\n",
       "      <td>3</td>\n",
       "      <td>0</td>\n",
       "      <td>0</td>\n",
       "      <td>3</td>\n",
       "      <td>23.78</td>\n",
       "      <td>27.275</td>\n",
       "      <td>83</td>\n",
       "      <td>12.9980</td>\n",
       "      <td>52</td>\n",
       "      <td>119</td>\n",
       "      <td>17</td>\n",
       "      <td>5</td>\n",
       "      <td>9</td>\n",
       "      <td>2012</td>\n",
       "    </tr>\n",
       "  </tbody>\n",
       "</table>\n",
       "</div>"
      ],
      "text/plain": [
       "                     season  holiday  workingday  weather   temp   atemp  \\\n",
       "datetime                                                                   \n",
       "2011-06-18 19:00:00       2        0           0        2  30.34  33.335   \n",
       "2012-09-08 17:00:00       3        0           0        3  23.78  27.275   \n",
       "\n",
       "                     humidity  windspeed  casual  registered  hour  weekday  \\\n",
       "datetime                                                                      \n",
       "2011-06-18 19:00:00        51     7.0015      99         227    19        5   \n",
       "2012-09-08 17:00:00        83    12.9980      52         119    17        5   \n",
       "\n",
       "                     month  year  \n",
       "datetime                          \n",
       "2011-06-18 19:00:00      6  2011  \n",
       "2012-09-08 17:00:00      9  2012  "
      ]
     },
     "execution_count": 9,
     "metadata": {},
     "output_type": "execute_result"
    }
   ],
   "source": [
    "X_train.head(2)"
   ]
  },
  {
   "cell_type": "code",
   "execution_count": 10,
   "id": "922ea728",
   "metadata": {},
   "outputs": [
    {
     "data": {
      "text/plain": [
       "datetime\n",
       "2012-07-10 13:00:00    280\n",
       "2012-10-07 13:00:00    320\n",
       "Name: count, dtype: int64"
      ]
     },
     "execution_count": 10,
     "metadata": {},
     "output_type": "execute_result"
    }
   ],
   "source": [
    "y_test.head(2)"
   ]
  },
  {
   "cell_type": "markdown",
   "id": "49ec28c2",
   "metadata": {},
   "source": [
    "## 3. Exploratory data analysis (EDA):"
   ]
  },
  {
   "cell_type": "code",
   "execution_count": 7,
   "id": "0415f5a1",
   "metadata": {},
   "outputs": [
    {
     "name": "stdout",
     "output_type": "stream",
     "text": [
      "<class 'pandas.core.frame.DataFrame'>\n",
      "DatetimeIndex: 10886 entries, 2011-01-01 00:00:00 to 2012-12-19 23:00:00\n",
      "Data columns (total 11 columns):\n",
      " #   Column      Non-Null Count  Dtype  \n",
      "---  ------      --------------  -----  \n",
      " 0   season      10886 non-null  int64  \n",
      " 1   holiday     10886 non-null  int64  \n",
      " 2   workingday  10886 non-null  int64  \n",
      " 3   weather     10886 non-null  int64  \n",
      " 4   temp        10886 non-null  float64\n",
      " 5   atemp       10886 non-null  float64\n",
      " 6   humidity    10886 non-null  int64  \n",
      " 7   windspeed   10886 non-null  float64\n",
      " 8   casual      10886 non-null  int64  \n",
      " 9   registered  10886 non-null  int64  \n",
      " 10  count       10886 non-null  int64  \n",
      "dtypes: float64(3), int64(8)\n",
      "memory usage: 1020.6 KB\n"
     ]
    }
   ],
   "source": [
    "train_set.info()"
   ]
  },
  {
   "cell_type": "code",
   "execution_count": 11,
   "id": "9b73ab7a",
   "metadata": {},
   "outputs": [],
   "source": [
    "# redefining X, dropping casual and registered as well \n",
    "X = train_set.drop(train_set[['casual', 'registered', 'count']], axis=1)\n",
    "y = train_set['count']"
   ]
  },
  {
   "cell_type": "code",
   "execution_count": 12,
   "id": "690fe0b2",
   "metadata": {},
   "outputs": [
    {
     "data": {
      "text/html": [
       "<div>\n",
       "<style scoped>\n",
       "    .dataframe tbody tr th:only-of-type {\n",
       "        vertical-align: middle;\n",
       "    }\n",
       "\n",
       "    .dataframe tbody tr th {\n",
       "        vertical-align: top;\n",
       "    }\n",
       "\n",
       "    .dataframe thead th {\n",
       "        text-align: right;\n",
       "    }\n",
       "</style>\n",
       "<table border=\"1\" class=\"dataframe\">\n",
       "  <thead>\n",
       "    <tr style=\"text-align: right;\">\n",
       "      <th></th>\n",
       "      <th>season</th>\n",
       "      <th>holiday</th>\n",
       "      <th>workingday</th>\n",
       "      <th>weather</th>\n",
       "      <th>temp</th>\n",
       "      <th>atemp</th>\n",
       "      <th>humidity</th>\n",
       "      <th>windspeed</th>\n",
       "      <th>hour</th>\n",
       "      <th>weekday</th>\n",
       "      <th>month</th>\n",
       "      <th>year</th>\n",
       "    </tr>\n",
       "    <tr>\n",
       "      <th>datetime</th>\n",
       "      <th></th>\n",
       "      <th></th>\n",
       "      <th></th>\n",
       "      <th></th>\n",
       "      <th></th>\n",
       "      <th></th>\n",
       "      <th></th>\n",
       "      <th></th>\n",
       "      <th></th>\n",
       "      <th></th>\n",
       "      <th></th>\n",
       "      <th></th>\n",
       "    </tr>\n",
       "  </thead>\n",
       "  <tbody>\n",
       "    <tr>\n",
       "      <th>2011-01-01 00:00:00</th>\n",
       "      <td>1</td>\n",
       "      <td>0</td>\n",
       "      <td>0</td>\n",
       "      <td>1</td>\n",
       "      <td>9.84</td>\n",
       "      <td>14.395</td>\n",
       "      <td>81</td>\n",
       "      <td>0.0</td>\n",
       "      <td>0</td>\n",
       "      <td>5</td>\n",
       "      <td>1</td>\n",
       "      <td>2011</td>\n",
       "    </tr>\n",
       "    <tr>\n",
       "      <th>2011-01-01 01:00:00</th>\n",
       "      <td>1</td>\n",
       "      <td>0</td>\n",
       "      <td>0</td>\n",
       "      <td>1</td>\n",
       "      <td>9.02</td>\n",
       "      <td>13.635</td>\n",
       "      <td>80</td>\n",
       "      <td>0.0</td>\n",
       "      <td>1</td>\n",
       "      <td>5</td>\n",
       "      <td>1</td>\n",
       "      <td>2011</td>\n",
       "    </tr>\n",
       "  </tbody>\n",
       "</table>\n",
       "</div>"
      ],
      "text/plain": [
       "                     season  holiday  workingday  weather  temp   atemp  \\\n",
       "datetime                                                                  \n",
       "2011-01-01 00:00:00       1        0           0        1  9.84  14.395   \n",
       "2011-01-01 01:00:00       1        0           0        1  9.02  13.635   \n",
       "\n",
       "                     humidity  windspeed  hour  weekday  month  year  \n",
       "datetime                                                              \n",
       "2011-01-01 00:00:00        81        0.0     0        5      1  2011  \n",
       "2011-01-01 01:00:00        80        0.0     1        5      1  2011  "
      ]
     },
     "execution_count": 12,
     "metadata": {},
     "output_type": "execute_result"
    }
   ],
   "source": [
    "X.head(2)"
   ]
  },
  {
   "cell_type": "markdown",
   "id": "35f61830",
   "metadata": {},
   "source": [
    "### 3.3. Inspecting descriptive statistics of your features and the target variable"
   ]
  },
  {
   "cell_type": "code",
   "execution_count": 13,
   "id": "ba1c5221",
   "metadata": {},
   "outputs": [
    {
     "data": {
      "text/html": [
       "<div>\n",
       "<style scoped>\n",
       "    .dataframe tbody tr th:only-of-type {\n",
       "        vertical-align: middle;\n",
       "    }\n",
       "\n",
       "    .dataframe tbody tr th {\n",
       "        vertical-align: top;\n",
       "    }\n",
       "\n",
       "    .dataframe thead th {\n",
       "        text-align: right;\n",
       "    }\n",
       "</style>\n",
       "<table border=\"1\" class=\"dataframe\">\n",
       "  <thead>\n",
       "    <tr style=\"text-align: right;\">\n",
       "      <th></th>\n",
       "      <th>season</th>\n",
       "      <th>holiday</th>\n",
       "      <th>workingday</th>\n",
       "      <th>weather</th>\n",
       "      <th>temp</th>\n",
       "      <th>atemp</th>\n",
       "      <th>humidity</th>\n",
       "      <th>windspeed</th>\n",
       "      <th>casual</th>\n",
       "      <th>registered</th>\n",
       "      <th>count</th>\n",
       "      <th>hour</th>\n",
       "      <th>weekday</th>\n",
       "      <th>month</th>\n",
       "      <th>year</th>\n",
       "    </tr>\n",
       "  </thead>\n",
       "  <tbody>\n",
       "    <tr>\n",
       "      <th>count</th>\n",
       "      <td>10886.000000</td>\n",
       "      <td>10886.000000</td>\n",
       "      <td>10886.000000</td>\n",
       "      <td>10886.000000</td>\n",
       "      <td>10886.00000</td>\n",
       "      <td>10886.000000</td>\n",
       "      <td>10886.000000</td>\n",
       "      <td>10886.000000</td>\n",
       "      <td>10886.000000</td>\n",
       "      <td>10886.000000</td>\n",
       "      <td>10886.000000</td>\n",
       "      <td>10886.000000</td>\n",
       "      <td>10886.000000</td>\n",
       "      <td>10886.000000</td>\n",
       "      <td>10886.000000</td>\n",
       "    </tr>\n",
       "    <tr>\n",
       "      <th>mean</th>\n",
       "      <td>2.506614</td>\n",
       "      <td>0.028569</td>\n",
       "      <td>0.680875</td>\n",
       "      <td>1.418427</td>\n",
       "      <td>20.23086</td>\n",
       "      <td>23.655084</td>\n",
       "      <td>61.886460</td>\n",
       "      <td>12.799395</td>\n",
       "      <td>36.021955</td>\n",
       "      <td>155.552177</td>\n",
       "      <td>191.574132</td>\n",
       "      <td>11.541613</td>\n",
       "      <td>3.013963</td>\n",
       "      <td>6.521495</td>\n",
       "      <td>2011.501929</td>\n",
       "    </tr>\n",
       "    <tr>\n",
       "      <th>std</th>\n",
       "      <td>1.116174</td>\n",
       "      <td>0.166599</td>\n",
       "      <td>0.466159</td>\n",
       "      <td>0.633839</td>\n",
       "      <td>7.79159</td>\n",
       "      <td>8.474601</td>\n",
       "      <td>19.245033</td>\n",
       "      <td>8.164537</td>\n",
       "      <td>49.960477</td>\n",
       "      <td>151.039033</td>\n",
       "      <td>181.144454</td>\n",
       "      <td>6.915838</td>\n",
       "      <td>2.004585</td>\n",
       "      <td>3.444373</td>\n",
       "      <td>0.500019</td>\n",
       "    </tr>\n",
       "    <tr>\n",
       "      <th>min</th>\n",
       "      <td>1.000000</td>\n",
       "      <td>0.000000</td>\n",
       "      <td>0.000000</td>\n",
       "      <td>1.000000</td>\n",
       "      <td>0.82000</td>\n",
       "      <td>0.760000</td>\n",
       "      <td>0.000000</td>\n",
       "      <td>0.000000</td>\n",
       "      <td>0.000000</td>\n",
       "      <td>0.000000</td>\n",
       "      <td>1.000000</td>\n",
       "      <td>0.000000</td>\n",
       "      <td>0.000000</td>\n",
       "      <td>1.000000</td>\n",
       "      <td>2011.000000</td>\n",
       "    </tr>\n",
       "    <tr>\n",
       "      <th>25%</th>\n",
       "      <td>2.000000</td>\n",
       "      <td>0.000000</td>\n",
       "      <td>0.000000</td>\n",
       "      <td>1.000000</td>\n",
       "      <td>13.94000</td>\n",
       "      <td>16.665000</td>\n",
       "      <td>47.000000</td>\n",
       "      <td>7.001500</td>\n",
       "      <td>4.000000</td>\n",
       "      <td>36.000000</td>\n",
       "      <td>42.000000</td>\n",
       "      <td>6.000000</td>\n",
       "      <td>1.000000</td>\n",
       "      <td>4.000000</td>\n",
       "      <td>2011.000000</td>\n",
       "    </tr>\n",
       "    <tr>\n",
       "      <th>50%</th>\n",
       "      <td>3.000000</td>\n",
       "      <td>0.000000</td>\n",
       "      <td>1.000000</td>\n",
       "      <td>1.000000</td>\n",
       "      <td>20.50000</td>\n",
       "      <td>24.240000</td>\n",
       "      <td>62.000000</td>\n",
       "      <td>12.998000</td>\n",
       "      <td>17.000000</td>\n",
       "      <td>118.000000</td>\n",
       "      <td>145.000000</td>\n",
       "      <td>12.000000</td>\n",
       "      <td>3.000000</td>\n",
       "      <td>7.000000</td>\n",
       "      <td>2012.000000</td>\n",
       "    </tr>\n",
       "    <tr>\n",
       "      <th>75%</th>\n",
       "      <td>4.000000</td>\n",
       "      <td>0.000000</td>\n",
       "      <td>1.000000</td>\n",
       "      <td>2.000000</td>\n",
       "      <td>26.24000</td>\n",
       "      <td>31.060000</td>\n",
       "      <td>77.000000</td>\n",
       "      <td>16.997900</td>\n",
       "      <td>49.000000</td>\n",
       "      <td>222.000000</td>\n",
       "      <td>284.000000</td>\n",
       "      <td>18.000000</td>\n",
       "      <td>5.000000</td>\n",
       "      <td>10.000000</td>\n",
       "      <td>2012.000000</td>\n",
       "    </tr>\n",
       "    <tr>\n",
       "      <th>max</th>\n",
       "      <td>4.000000</td>\n",
       "      <td>1.000000</td>\n",
       "      <td>1.000000</td>\n",
       "      <td>4.000000</td>\n",
       "      <td>41.00000</td>\n",
       "      <td>45.455000</td>\n",
       "      <td>100.000000</td>\n",
       "      <td>56.996900</td>\n",
       "      <td>367.000000</td>\n",
       "      <td>886.000000</td>\n",
       "      <td>977.000000</td>\n",
       "      <td>23.000000</td>\n",
       "      <td>6.000000</td>\n",
       "      <td>12.000000</td>\n",
       "      <td>2012.000000</td>\n",
       "    </tr>\n",
       "  </tbody>\n",
       "</table>\n",
       "</div>"
      ],
      "text/plain": [
       "             season       holiday    workingday       weather         temp  \\\n",
       "count  10886.000000  10886.000000  10886.000000  10886.000000  10886.00000   \n",
       "mean       2.506614      0.028569      0.680875      1.418427     20.23086   \n",
       "std        1.116174      0.166599      0.466159      0.633839      7.79159   \n",
       "min        1.000000      0.000000      0.000000      1.000000      0.82000   \n",
       "25%        2.000000      0.000000      0.000000      1.000000     13.94000   \n",
       "50%        3.000000      0.000000      1.000000      1.000000     20.50000   \n",
       "75%        4.000000      0.000000      1.000000      2.000000     26.24000   \n",
       "max        4.000000      1.000000      1.000000      4.000000     41.00000   \n",
       "\n",
       "              atemp      humidity     windspeed        casual    registered  \\\n",
       "count  10886.000000  10886.000000  10886.000000  10886.000000  10886.000000   \n",
       "mean      23.655084     61.886460     12.799395     36.021955    155.552177   \n",
       "std        8.474601     19.245033      8.164537     49.960477    151.039033   \n",
       "min        0.760000      0.000000      0.000000      0.000000      0.000000   \n",
       "25%       16.665000     47.000000      7.001500      4.000000     36.000000   \n",
       "50%       24.240000     62.000000     12.998000     17.000000    118.000000   \n",
       "75%       31.060000     77.000000     16.997900     49.000000    222.000000   \n",
       "max       45.455000    100.000000     56.996900    367.000000    886.000000   \n",
       "\n",
       "              count          hour       weekday         month          year  \n",
       "count  10886.000000  10886.000000  10886.000000  10886.000000  10886.000000  \n",
       "mean     191.574132     11.541613      3.013963      6.521495   2011.501929  \n",
       "std      181.144454      6.915838      2.004585      3.444373      0.500019  \n",
       "min        1.000000      0.000000      0.000000      1.000000   2011.000000  \n",
       "25%       42.000000      6.000000      1.000000      4.000000   2011.000000  \n",
       "50%      145.000000     12.000000      3.000000      7.000000   2012.000000  \n",
       "75%      284.000000     18.000000      5.000000     10.000000   2012.000000  \n",
       "max      977.000000     23.000000      6.000000     12.000000   2012.000000  "
      ]
     },
     "execution_count": 13,
     "metadata": {},
     "output_type": "execute_result"
    }
   ],
   "source": [
    "train_set.describe()"
   ]
  },
  {
   "cell_type": "markdown",
   "id": "115949d4",
   "metadata": {},
   "source": [
    "### 3.4. Visualize the relationships between single features and the target variable"
   ]
  },
  {
   "cell_type": "code",
   "execution_count": 14,
   "id": "e07034b1",
   "metadata": {},
   "outputs": [],
   "source": [
    "resampled = train_set.resample('M').sum()"
   ]
  },
  {
   "cell_type": "code",
   "execution_count": 15,
   "id": "9c5e1f17",
   "metadata": {},
   "outputs": [
    {
     "data": {
      "text/html": [
       "<div>\n",
       "<style scoped>\n",
       "    .dataframe tbody tr th:only-of-type {\n",
       "        vertical-align: middle;\n",
       "    }\n",
       "\n",
       "    .dataframe tbody tr th {\n",
       "        vertical-align: top;\n",
       "    }\n",
       "\n",
       "    .dataframe thead th {\n",
       "        text-align: right;\n",
       "    }\n",
       "</style>\n",
       "<table border=\"1\" class=\"dataframe\">\n",
       "  <thead>\n",
       "    <tr style=\"text-align: right;\">\n",
       "      <th></th>\n",
       "      <th>season</th>\n",
       "      <th>holiday</th>\n",
       "      <th>workingday</th>\n",
       "      <th>weather</th>\n",
       "      <th>temp</th>\n",
       "      <th>atemp</th>\n",
       "      <th>humidity</th>\n",
       "      <th>windspeed</th>\n",
       "      <th>casual</th>\n",
       "      <th>registered</th>\n",
       "      <th>count</th>\n",
       "      <th>hour</th>\n",
       "      <th>weekday</th>\n",
       "      <th>month</th>\n",
       "      <th>year</th>\n",
       "    </tr>\n",
       "    <tr>\n",
       "      <th>datetime</th>\n",
       "      <th></th>\n",
       "      <th></th>\n",
       "      <th></th>\n",
       "      <th></th>\n",
       "      <th></th>\n",
       "      <th></th>\n",
       "      <th></th>\n",
       "      <th></th>\n",
       "      <th></th>\n",
       "      <th></th>\n",
       "      <th></th>\n",
       "      <th></th>\n",
       "      <th></th>\n",
       "      <th></th>\n",
       "      <th></th>\n",
       "    </tr>\n",
       "  </thead>\n",
       "  <tbody>\n",
       "    <tr>\n",
       "      <th>2011-01-31</th>\n",
       "      <td>431</td>\n",
       "      <td>24</td>\n",
       "      <td>264</td>\n",
       "      <td>621</td>\n",
       "      <td>3721.16</td>\n",
       "      <td>4641.000</td>\n",
       "      <td>24269</td>\n",
       "      <td>5926.1768</td>\n",
       "      <td>2008</td>\n",
       "      <td>21544</td>\n",
       "      <td>23552</td>\n",
       "      <td>5135</td>\n",
       "      <td>1304</td>\n",
       "      <td>431</td>\n",
       "      <td>866741</td>\n",
       "    </tr>\n",
       "    <tr>\n",
       "      <th>2011-02-28</th>\n",
       "      <td>446</td>\n",
       "      <td>0</td>\n",
       "      <td>327</td>\n",
       "      <td>615</td>\n",
       "      <td>5053.66</td>\n",
       "      <td>6243.965</td>\n",
       "      <td>23897</td>\n",
       "      <td>6917.1470</td>\n",
       "      <td>3776</td>\n",
       "      <td>29068</td>\n",
       "      <td>32844</td>\n",
       "      <td>5208</td>\n",
       "      <td>1338</td>\n",
       "      <td>892</td>\n",
       "      <td>896906</td>\n",
       "    </tr>\n",
       "    <tr>\n",
       "      <th>2011-03-31</th>\n",
       "      <td>446</td>\n",
       "      <td>0</td>\n",
       "      <td>328</td>\n",
       "      <td>654</td>\n",
       "      <td>6272.18</td>\n",
       "      <td>7535.435</td>\n",
       "      <td>24942</td>\n",
       "      <td>7151.1043</td>\n",
       "      <td>7910</td>\n",
       "      <td>30825</td>\n",
       "      <td>38735</td>\n",
       "      <td>5211</td>\n",
       "      <td>1339</td>\n",
       "      <td>1338</td>\n",
       "      <td>896906</td>\n",
       "    </tr>\n",
       "    <tr>\n",
       "      <th>2011-04-30</th>\n",
       "      <td>910</td>\n",
       "      <td>24</td>\n",
       "      <td>287</td>\n",
       "      <td>737</td>\n",
       "      <td>8088.48</td>\n",
       "      <td>9664.125</td>\n",
       "      <td>30160</td>\n",
       "      <td>7209.1263</td>\n",
       "      <td>12229</td>\n",
       "      <td>38288</td>\n",
       "      <td>50517</td>\n",
       "      <td>5241</td>\n",
       "      <td>1392</td>\n",
       "      <td>1820</td>\n",
       "      <td>915005</td>\n",
       "    </tr>\n",
       "    <tr>\n",
       "      <th>2011-05-31</th>\n",
       "      <td>912</td>\n",
       "      <td>0</td>\n",
       "      <td>336</td>\n",
       "      <td>697</td>\n",
       "      <td>9817.04</td>\n",
       "      <td>11607.545</td>\n",
       "      <td>32568</td>\n",
       "      <td>5634.0434</td>\n",
       "      <td>15865</td>\n",
       "      <td>63848</td>\n",
       "      <td>79713</td>\n",
       "      <td>5244</td>\n",
       "      <td>1296</td>\n",
       "      <td>2280</td>\n",
       "      <td>917016</td>\n",
       "    </tr>\n",
       "    <tr>\n",
       "      <th>2011-06-30</th>\n",
       "      <td>912</td>\n",
       "      <td>0</td>\n",
       "      <td>312</td>\n",
       "      <td>583</td>\n",
       "      <td>12855.14</td>\n",
       "      <td>14660.815</td>\n",
       "      <td>26581</td>\n",
       "      <td>5440.1253</td>\n",
       "      <td>19600</td>\n",
       "      <td>70176</td>\n",
       "      <td>89776</td>\n",
       "      <td>5244</td>\n",
       "      <td>1488</td>\n",
       "      <td>2736</td>\n",
       "      <td>917016</td>\n",
       "    </tr>\n",
       "    <tr>\n",
       "      <th>2011-07-31</th>\n",
       "      <td>1368</td>\n",
       "      <td>24</td>\n",
       "      <td>288</td>\n",
       "      <td>540</td>\n",
       "      <td>13665.30</td>\n",
       "      <td>15509.315</td>\n",
       "      <td>27544</td>\n",
       "      <td>5454.1216</td>\n",
       "      <td>26145</td>\n",
       "      <td>66703</td>\n",
       "      <td>92848</td>\n",
       "      <td>5244</td>\n",
       "      <td>1392</td>\n",
       "      <td>3192</td>\n",
       "      <td>917016</td>\n",
       "    </tr>\n",
       "    <tr>\n",
       "      <th>2011-08-31</th>\n",
       "      <td>1368</td>\n",
       "      <td>0</td>\n",
       "      <td>360</td>\n",
       "      <td>613</td>\n",
       "      <td>13528.36</td>\n",
       "      <td>15258.540</td>\n",
       "      <td>28348</td>\n",
       "      <td>5691.1274</td>\n",
       "      <td>17580</td>\n",
       "      <td>65716</td>\n",
       "      <td>83296</td>\n",
       "      <td>5244</td>\n",
       "      <td>1248</td>\n",
       "      <td>3648</td>\n",
       "      <td>917016</td>\n",
       "    </tr>\n",
       "    <tr>\n",
       "      <th>2011-09-30</th>\n",
       "      <td>1359</td>\n",
       "      <td>24</td>\n",
       "      <td>285</td>\n",
       "      <td>733</td>\n",
       "      <td>11388.98</td>\n",
       "      <td>12998.045</td>\n",
       "      <td>33898</td>\n",
       "      <td>5210.1545</td>\n",
       "      <td>18311</td>\n",
       "      <td>60793</td>\n",
       "      <td>79104</td>\n",
       "      <td>5238</td>\n",
       "      <td>1436</td>\n",
       "      <td>4077</td>\n",
       "      <td>910983</td>\n",
       "    </tr>\n",
       "    <tr>\n",
       "      <th>2011-10-31</th>\n",
       "      <td>1820</td>\n",
       "      <td>24</td>\n",
       "      <td>287</td>\n",
       "      <td>698</td>\n",
       "      <td>9511.18</td>\n",
       "      <td>11265.905</td>\n",
       "      <td>32565</td>\n",
       "      <td>4992.1834</td>\n",
       "      <td>17159</td>\n",
       "      <td>62363</td>\n",
       "      <td>79522</td>\n",
       "      <td>5241</td>\n",
       "      <td>1342</td>\n",
       "      <td>4550</td>\n",
       "      <td>915005</td>\n",
       "    </tr>\n",
       "    <tr>\n",
       "      <th>2011-11-30</th>\n",
       "      <td>1824</td>\n",
       "      <td>24</td>\n",
       "      <td>312</td>\n",
       "      <td>608</td>\n",
       "      <td>7312.76</td>\n",
       "      <td>8854.290</td>\n",
       "      <td>29242</td>\n",
       "      <td>5523.1718</td>\n",
       "      <td>10155</td>\n",
       "      <td>60734</td>\n",
       "      <td>70889</td>\n",
       "      <td>5244</td>\n",
       "      <td>1368</td>\n",
       "      <td>5016</td>\n",
       "      <td>917016</td>\n",
       "    </tr>\n",
       "    <tr>\n",
       "      <th>2011-12-31</th>\n",
       "      <td>1824</td>\n",
       "      <td>0</td>\n",
       "      <td>312</td>\n",
       "      <td>635</td>\n",
       "      <td>5881.04</td>\n",
       "      <td>7318.740</td>\n",
       "      <td>29768</td>\n",
       "      <td>4926.2286</td>\n",
       "      <td>5079</td>\n",
       "      <td>56104</td>\n",
       "      <td>61183</td>\n",
       "      <td>5244</td>\n",
       "      <td>1440</td>\n",
       "      <td>5472</td>\n",
       "      <td>917016</td>\n",
       "    </tr>\n",
       "    <tr>\n",
       "      <th>2012-01-31</th>\n",
       "      <td>453</td>\n",
       "      <td>47</td>\n",
       "      <td>286</td>\n",
       "      <td>617</td>\n",
       "      <td>4977.40</td>\n",
       "      <td>6035.580</td>\n",
       "      <td>25157</td>\n",
       "      <td>6965.1592</td>\n",
       "      <td>5244</td>\n",
       "      <td>51088</td>\n",
       "      <td>56332</td>\n",
       "      <td>5235</td>\n",
       "      <td>1294</td>\n",
       "      <td>453</td>\n",
       "      <td>911436</td>\n",
       "    </tr>\n",
       "    <tr>\n",
       "      <th>2012-02-29</th>\n",
       "      <td>455</td>\n",
       "      <td>0</td>\n",
       "      <td>311</td>\n",
       "      <td>699</td>\n",
       "      <td>5576.82</td>\n",
       "      <td>6849.915</td>\n",
       "      <td>26826</td>\n",
       "      <td>5664.1532</td>\n",
       "      <td>5521</td>\n",
       "      <td>60748</td>\n",
       "      <td>66269</td>\n",
       "      <td>5241</td>\n",
       "      <td>1488</td>\n",
       "      <td>910</td>\n",
       "      <td>915460</td>\n",
       "    </tr>\n",
       "    <tr>\n",
       "      <th>2012-03-31</th>\n",
       "      <td>455</td>\n",
       "      <td>0</td>\n",
       "      <td>312</td>\n",
       "      <td>620</td>\n",
       "      <td>8055.68</td>\n",
       "      <td>9599.080</td>\n",
       "      <td>26125</td>\n",
       "      <td>6691.1828</td>\n",
       "      <td>17146</td>\n",
       "      <td>77620</td>\n",
       "      <td>94766</td>\n",
       "      <td>5242</td>\n",
       "      <td>1434</td>\n",
       "      <td>1365</td>\n",
       "      <td>915460</td>\n",
       "    </tr>\n",
       "    <tr>\n",
       "      <th>2012-04-30</th>\n",
       "      <td>908</td>\n",
       "      <td>24</td>\n",
       "      <td>310</td>\n",
       "      <td>565</td>\n",
       "      <td>8926.52</td>\n",
       "      <td>10611.930</td>\n",
       "      <td>20469</td>\n",
       "      <td>6954.0841</td>\n",
       "      <td>27584</td>\n",
       "      <td>89301</td>\n",
       "      <td>116885</td>\n",
       "      <td>5237</td>\n",
       "      <td>1294</td>\n",
       "      <td>1816</td>\n",
       "      <td>913448</td>\n",
       "    </tr>\n",
       "    <tr>\n",
       "      <th>2012-05-31</th>\n",
       "      <td>912</td>\n",
       "      <td>0</td>\n",
       "      <td>336</td>\n",
       "      <td>696</td>\n",
       "      <td>10861.72</td>\n",
       "      <td>12681.180</td>\n",
       "      <td>29525</td>\n",
       "      <td>5578.0448</td>\n",
       "      <td>25420</td>\n",
       "      <td>95014</td>\n",
       "      <td>120434</td>\n",
       "      <td>5244</td>\n",
       "      <td>1368</td>\n",
       "      <td>2280</td>\n",
       "      <td>917472</td>\n",
       "    </tr>\n",
       "    <tr>\n",
       "      <th>2012-06-30</th>\n",
       "      <td>912</td>\n",
       "      <td>0</td>\n",
       "      <td>312</td>\n",
       "      <td>611</td>\n",
       "      <td>11827.68</td>\n",
       "      <td>13600.925</td>\n",
       "      <td>27008</td>\n",
       "      <td>5822.0990</td>\n",
       "      <td>28974</td>\n",
       "      <td>101983</td>\n",
       "      <td>130957</td>\n",
       "      <td>5244</td>\n",
       "      <td>1392</td>\n",
       "      <td>2736</td>\n",
       "      <td>917472</td>\n",
       "    </tr>\n",
       "    <tr>\n",
       "      <th>2012-07-31</th>\n",
       "      <td>1368</td>\n",
       "      <td>24</td>\n",
       "      <td>312</td>\n",
       "      <td>605</td>\n",
       "      <td>14462.34</td>\n",
       "      <td>16319.845</td>\n",
       "      <td>25719</td>\n",
       "      <td>4596.0526</td>\n",
       "      <td>24802</td>\n",
       "      <td>96967</td>\n",
       "      <td>121769</td>\n",
       "      <td>5244</td>\n",
       "      <td>1296</td>\n",
       "      <td>3192</td>\n",
       "      <td>917472</td>\n",
       "    </tr>\n",
       "    <tr>\n",
       "      <th>2012-08-31</th>\n",
       "      <td>1368</td>\n",
       "      <td>0</td>\n",
       "      <td>312</td>\n",
       "      <td>620</td>\n",
       "      <td>13591.50</td>\n",
       "      <td>14948.725</td>\n",
       "      <td>29118</td>\n",
       "      <td>5190.1081</td>\n",
       "      <td>28290</td>\n",
       "      <td>101930</td>\n",
       "      <td>130220</td>\n",
       "      <td>5244</td>\n",
       "      <td>1488</td>\n",
       "      <td>3648</td>\n",
       "      <td>917472</td>\n",
       "    </tr>\n",
       "    <tr>\n",
       "      <th>2012-09-30</th>\n",
       "      <td>1368</td>\n",
       "      <td>24</td>\n",
       "      <td>288</td>\n",
       "      <td>624</td>\n",
       "      <td>12044.16</td>\n",
       "      <td>13899.490</td>\n",
       "      <td>30623</td>\n",
       "      <td>5312.1553</td>\n",
       "      <td>27590</td>\n",
       "      <td>105835</td>\n",
       "      <td>133425</td>\n",
       "      <td>5244</td>\n",
       "      <td>1344</td>\n",
       "      <td>4104</td>\n",
       "      <td>917472</td>\n",
       "    </tr>\n",
       "    <tr>\n",
       "      <th>2012-10-31</th>\n",
       "      <td>1824</td>\n",
       "      <td>24</td>\n",
       "      <td>336</td>\n",
       "      <td>694</td>\n",
       "      <td>9559.56</td>\n",
       "      <td>11271.945</td>\n",
       "      <td>30670</td>\n",
       "      <td>5235.1187</td>\n",
       "      <td>20928</td>\n",
       "      <td>106984</td>\n",
       "      <td>127912</td>\n",
       "      <td>5244</td>\n",
       "      <td>1248</td>\n",
       "      <td>4560</td>\n",
       "      <td>917472</td>\n",
       "    </tr>\n",
       "    <tr>\n",
       "      <th>2012-11-30</th>\n",
       "      <td>1820</td>\n",
       "      <td>24</td>\n",
       "      <td>287</td>\n",
       "      <td>630</td>\n",
       "      <td>6521.46</td>\n",
       "      <td>7840.745</td>\n",
       "      <td>26076</td>\n",
       "      <td>6435.1490</td>\n",
       "      <td>15198</td>\n",
       "      <td>90353</td>\n",
       "      <td>105551</td>\n",
       "      <td>5241</td>\n",
       "      <td>1437</td>\n",
       "      <td>5005</td>\n",
       "      <td>915460</td>\n",
       "    </tr>\n",
       "    <tr>\n",
       "      <th>2012-12-31</th>\n",
       "      <td>1824</td>\n",
       "      <td>0</td>\n",
       "      <td>312</td>\n",
       "      <td>726</td>\n",
       "      <td>6733.02</td>\n",
       "      <td>8292.165</td>\n",
       "      <td>32598</td>\n",
       "      <td>4816.2012</td>\n",
       "      <td>9621</td>\n",
       "      <td>89356</td>\n",
       "      <td>98977</td>\n",
       "      <td>5244</td>\n",
       "      <td>1344</td>\n",
       "      <td>5472</td>\n",
       "      <td>917472</td>\n",
       "    </tr>\n",
       "  </tbody>\n",
       "</table>\n",
       "</div>"
      ],
      "text/plain": [
       "            season  holiday  workingday  weather      temp      atemp  \\\n",
       "datetime                                                                \n",
       "2011-01-31     431       24         264      621   3721.16   4641.000   \n",
       "2011-02-28     446        0         327      615   5053.66   6243.965   \n",
       "2011-03-31     446        0         328      654   6272.18   7535.435   \n",
       "2011-04-30     910       24         287      737   8088.48   9664.125   \n",
       "2011-05-31     912        0         336      697   9817.04  11607.545   \n",
       "2011-06-30     912        0         312      583  12855.14  14660.815   \n",
       "2011-07-31    1368       24         288      540  13665.30  15509.315   \n",
       "2011-08-31    1368        0         360      613  13528.36  15258.540   \n",
       "2011-09-30    1359       24         285      733  11388.98  12998.045   \n",
       "2011-10-31    1820       24         287      698   9511.18  11265.905   \n",
       "2011-11-30    1824       24         312      608   7312.76   8854.290   \n",
       "2011-12-31    1824        0         312      635   5881.04   7318.740   \n",
       "2012-01-31     453       47         286      617   4977.40   6035.580   \n",
       "2012-02-29     455        0         311      699   5576.82   6849.915   \n",
       "2012-03-31     455        0         312      620   8055.68   9599.080   \n",
       "2012-04-30     908       24         310      565   8926.52  10611.930   \n",
       "2012-05-31     912        0         336      696  10861.72  12681.180   \n",
       "2012-06-30     912        0         312      611  11827.68  13600.925   \n",
       "2012-07-31    1368       24         312      605  14462.34  16319.845   \n",
       "2012-08-31    1368        0         312      620  13591.50  14948.725   \n",
       "2012-09-30    1368       24         288      624  12044.16  13899.490   \n",
       "2012-10-31    1824       24         336      694   9559.56  11271.945   \n",
       "2012-11-30    1820       24         287      630   6521.46   7840.745   \n",
       "2012-12-31    1824        0         312      726   6733.02   8292.165   \n",
       "\n",
       "            humidity  windspeed  casual  registered   count  hour  weekday  \\\n",
       "datetime                                                                     \n",
       "2011-01-31     24269  5926.1768    2008       21544   23552  5135     1304   \n",
       "2011-02-28     23897  6917.1470    3776       29068   32844  5208     1338   \n",
       "2011-03-31     24942  7151.1043    7910       30825   38735  5211     1339   \n",
       "2011-04-30     30160  7209.1263   12229       38288   50517  5241     1392   \n",
       "2011-05-31     32568  5634.0434   15865       63848   79713  5244     1296   \n",
       "2011-06-30     26581  5440.1253   19600       70176   89776  5244     1488   \n",
       "2011-07-31     27544  5454.1216   26145       66703   92848  5244     1392   \n",
       "2011-08-31     28348  5691.1274   17580       65716   83296  5244     1248   \n",
       "2011-09-30     33898  5210.1545   18311       60793   79104  5238     1436   \n",
       "2011-10-31     32565  4992.1834   17159       62363   79522  5241     1342   \n",
       "2011-11-30     29242  5523.1718   10155       60734   70889  5244     1368   \n",
       "2011-12-31     29768  4926.2286    5079       56104   61183  5244     1440   \n",
       "2012-01-31     25157  6965.1592    5244       51088   56332  5235     1294   \n",
       "2012-02-29     26826  5664.1532    5521       60748   66269  5241     1488   \n",
       "2012-03-31     26125  6691.1828   17146       77620   94766  5242     1434   \n",
       "2012-04-30     20469  6954.0841   27584       89301  116885  5237     1294   \n",
       "2012-05-31     29525  5578.0448   25420       95014  120434  5244     1368   \n",
       "2012-06-30     27008  5822.0990   28974      101983  130957  5244     1392   \n",
       "2012-07-31     25719  4596.0526   24802       96967  121769  5244     1296   \n",
       "2012-08-31     29118  5190.1081   28290      101930  130220  5244     1488   \n",
       "2012-09-30     30623  5312.1553   27590      105835  133425  5244     1344   \n",
       "2012-10-31     30670  5235.1187   20928      106984  127912  5244     1248   \n",
       "2012-11-30     26076  6435.1490   15198       90353  105551  5241     1437   \n",
       "2012-12-31     32598  4816.2012    9621       89356   98977  5244     1344   \n",
       "\n",
       "            month    year  \n",
       "datetime                   \n",
       "2011-01-31    431  866741  \n",
       "2011-02-28    892  896906  \n",
       "2011-03-31   1338  896906  \n",
       "2011-04-30   1820  915005  \n",
       "2011-05-31   2280  917016  \n",
       "2011-06-30   2736  917016  \n",
       "2011-07-31   3192  917016  \n",
       "2011-08-31   3648  917016  \n",
       "2011-09-30   4077  910983  \n",
       "2011-10-31   4550  915005  \n",
       "2011-11-30   5016  917016  \n",
       "2011-12-31   5472  917016  \n",
       "2012-01-31    453  911436  \n",
       "2012-02-29    910  915460  \n",
       "2012-03-31   1365  915460  \n",
       "2012-04-30   1816  913448  \n",
       "2012-05-31   2280  917472  \n",
       "2012-06-30   2736  917472  \n",
       "2012-07-31   3192  917472  \n",
       "2012-08-31   3648  917472  \n",
       "2012-09-30   4104  917472  \n",
       "2012-10-31   4560  917472  \n",
       "2012-11-30   5005  915460  \n",
       "2012-12-31   5472  917472  "
      ]
     },
     "execution_count": 15,
     "metadata": {},
     "output_type": "execute_result"
    }
   ],
   "source": [
    "resampled.head(3)"
   ]
  },
  {
   "cell_type": "code",
   "execution_count": 15,
   "id": "28995eb3",
   "metadata": {},
   "outputs": [
    {
     "data": {
      "text/plain": [
       "<AxesSubplot:xlabel='workingday', ylabel='count'>"
      ]
     },
     "execution_count": 15,
     "metadata": {},
     "output_type": "execute_result"
    },
    {
     "data": {
      "image/png": "[encoded data removed]",
      "text/plain": [
       "<Figure size 1800x1440 with 6 Axes>"
      ]
     },
     "metadata": {
      "needs_background": "light"
     },
     "output_type": "display_data"
    }
   ],
   "source": [
    "# plotting time related variables \n",
    "plt.figure(figsize=(25,20))\n",
    "sns.set_theme()\n",
    "plt.subplot(3,2,1)\n",
    "sns.lineplot(data=resampled, x=resampled.index, y='count')\n",
    "plt.subplot(3,2,2)\n",
    "sns.barplot(data=train_set, x='month',y='count',estimator=np.mean)\n",
    "plt.subplot(3,2,3)\n",
    "sns.barplot(data=train_set,x='weekday',y='count',estimator=np.mean)\n",
    "plt.subplot(3,2,4)\n",
    "sns.lineplot(data=train_set,x='hour',y='count', marker='o', estimator=np.mean)\n",
    "plt.subplot(3,2,5)\n",
    "sns.barplot(data=train_set, x=\"holiday\", y=\"count\", estimator=np.mean)\n",
    "plt.subplot(3,2,6)\n",
    "sns.barplot(data=train_set, x=\"workingday\", y=\"count\",  estimator=np.mean)\n"
   ]
  },
  {
   "cell_type": "code",
   "execution_count": 16,
   "id": "30027b5a",
   "metadata": {
    "scrolled": false
   },
   "outputs": [
    {
     "data": {
      "text/plain": [
       "<AxesSubplot:xlabel='windspeed', ylabel='count'>"
      ]
     },
     "execution_count": 16,
     "metadata": {},
     "output_type": "execute_result"
    },
    {
     "data": {
      "image/png": "[encoded data removed]",
      "text/plain": [
       "<Figure size 1800x1440 with 6 Axes>"
      ]
     },
     "metadata": {},
     "output_type": "display_data"
    }
   ],
   "source": [
    "# Plotting weather related variables\n",
    "plt.figure(figsize=(25,20))\n",
    "sns.set_theme()\n",
    "plt.subplot(3,2,1)\n",
    "sns.barplot(x=\"season\", y=\"count\", data=train_set, estimator=np.mean)\n",
    "plt.subplot(3,2,2)\n",
    "sns.barplot(x=\"weather\", y=\"count\", data=train_set, estimator=np.sum)\n",
    "plt.subplot(3,2,3)\n",
    "sns.lineplot(x=\"temp\", y=\"count\", data=train_set)\n",
    "plt.subplot(3,2,4)\n",
    "sns.lineplot(x=\"atemp\", y=\"count\", data=train_set) \n",
    "plt.subplot(3,2,5)\n",
    "sns.lineplot(x=\"humidity\", y=\"count\", data=train_set) \n",
    "plt.subplot(3,2,6)\n",
    "sns.lineplot(x=\"windspeed\", y=\"count\", data=train_set)"
   ]
  },
  {
   "cell_type": "markdown",
   "id": "651aa419",
   "metadata": {},
   "source": [
    "### 3.5. Correlations between predicators and target / Multicollinearity - Feature Selection"
   ]
  },
  {
   "cell_type": "code",
   "execution_count": 17,
   "id": "e45ac73f",
   "metadata": {},
   "outputs": [
    {
     "data": {
      "image/png": "[encoded data removed]",
      "text/plain": [
       "<Figure size 1080x648 with 2 Axes>"
      ]
     },
     "metadata": {},
     "output_type": "display_data"
    }
   ],
   "source": [
    "plt.figure(figsize=(15,9)) \n",
    "ax = sns.heatmap(train_set.corr(),annot=True, cmap='coolwarm')\n",
    "ax.tick_params(axis='x', rotation=45)"
   ]
  },
  {
   "cell_type": "markdown",
   "id": "04e204a5",
   "metadata": {},
   "source": [
    "### 3.5.1 Variance Inflation Factor "
   ]
  },
  {
   "cell_type": "code",
   "execution_count": 18,
   "id": "cc47ef54",
   "metadata": {},
   "outputs": [],
   "source": [
    "vif_data = pd.DataFrame()\n",
    "vif_data[\"feature\"] = X.columns"
   ]
  },
  {
   "cell_type": "code",
   "execution_count": 22,
   "id": "b393d7d8",
   "metadata": {},
   "outputs": [
    {
     "data": {
      "text/html": [
       "<div>\n",
       "<style scoped>\n",
       "    .dataframe tbody tr th:only-of-type {\n",
       "        vertical-align: middle;\n",
       "    }\n",
       "\n",
       "    .dataframe tbody tr th {\n",
       "        vertical-align: top;\n",
       "    }\n",
       "\n",
       "    .dataframe thead th {\n",
       "        text-align: right;\n",
       "    }\n",
       "</style>\n",
       "<table border=\"1\" class=\"dataframe\">\n",
       "  <thead>\n",
       "    <tr style=\"text-align: right;\">\n",
       "      <th></th>\n",
       "      <th>feature</th>\n",
       "    </tr>\n",
       "  </thead>\n",
       "  <tbody>\n",
       "    <tr>\n",
       "      <th>0</th>\n",
       "      <td>season</td>\n",
       "    </tr>\n",
       "    <tr>\n",
       "      <th>1</th>\n",
       "      <td>holiday</td>\n",
       "    </tr>\n",
       "    <tr>\n",
       "      <th>2</th>\n",
       "      <td>workingday</td>\n",
       "    </tr>\n",
       "    <tr>\n",
       "      <th>3</th>\n",
       "      <td>weather</td>\n",
       "    </tr>\n",
       "    <tr>\n",
       "      <th>4</th>\n",
       "      <td>temp</td>\n",
       "    </tr>\n",
       "    <tr>\n",
       "      <th>5</th>\n",
       "      <td>atemp</td>\n",
       "    </tr>\n",
       "    <tr>\n",
       "      <th>6</th>\n",
       "      <td>humidity</td>\n",
       "    </tr>\n",
       "    <tr>\n",
       "      <th>7</th>\n",
       "      <td>windspeed</td>\n",
       "    </tr>\n",
       "    <tr>\n",
       "      <th>8</th>\n",
       "      <td>hour</td>\n",
       "    </tr>\n",
       "    <tr>\n",
       "      <th>9</th>\n",
       "      <td>weekday</td>\n",
       "    </tr>\n",
       "    <tr>\n",
       "      <th>10</th>\n",
       "      <td>month</td>\n",
       "    </tr>\n",
       "    <tr>\n",
       "      <th>11</th>\n",
       "      <td>year</td>\n",
       "    </tr>\n",
       "  </tbody>\n",
       "</table>\n",
       "</div>"
      ],
      "text/plain": [
       "       feature\n",
       "0       season\n",
       "1      holiday\n",
       "2   workingday\n",
       "3      weather\n",
       "4         temp\n",
       "5        atemp\n",
       "6     humidity\n",
       "7    windspeed\n",
       "8         hour\n",
       "9      weekday\n",
       "10       month\n",
       "11        year"
      ]
     },
     "execution_count": 22,
     "metadata": {},
     "output_type": "execute_result"
    }
   ],
   "source": [
    "vif_data"
   ]
  },
  {
   "cell_type": "code",
   "execution_count": 23,
   "id": "d59b379d",
   "metadata": {},
   "outputs": [
    {
     "name": "stdout",
     "output_type": "stream",
     "text": [
      "       feature         VIF\n",
      "0       season  109.474112\n",
      "1      holiday    1.565106\n",
      "2   workingday    9.064293\n",
      "3      weather    7.508942\n",
      "4         temp  276.719498\n",
      "5        atemp  315.197703\n",
      "6     humidity   17.493027\n",
      "7    windspeed    4.161167\n",
      "8         hour    4.247420\n",
      "9      weekday    9.196941\n",
      "10       month   83.524540\n",
      "11        year   67.055738\n"
     ]
    }
   ],
   "source": [
    "# calculating VIF for each feature\n",
    "vif_data[\"VIF\"] = [variance_inflation_factor(X.values, i)\n",
    "                          for i in range(len(X.columns))]\n",
    "print(vif_data)"
   ]
  },
  {
   "cell_type": "code",
   "execution_count": 24,
   "id": "bcfd5cf1",
   "metadata": {},
   "outputs": [
    {
     "name": "stdout",
     "output_type": "stream",
     "text": [
      "       feature         VIF\n",
      "0       season  109.473980\n",
      "1      holiday    1.555623\n",
      "2   workingday    8.995152\n",
      "3      weather    7.501700\n",
      "4         temp    8.588453\n",
      "5     humidity   17.444028\n",
      "6    windspeed    3.992635\n",
      "7         hour    4.242934\n",
      "8      weekday    9.130404\n",
      "9        month   83.521942\n",
      "10        year   63.049357\n"
     ]
    }
   ],
   "source": [
    "X2 = X.drop(['atemp'], axis=1)\n",
    "vif_data_2 = pd.DataFrame()\n",
    "vif_data_2[\"feature\"] = X2.columns\n",
    "vif_data_2[\"VIF\"] = [variance_inflation_factor(X2.values, i)\n",
    "                          for i in range(len(X2.columns))]\n",
    "print(vif_data_2)"
   ]
  },
  {
   "cell_type": "code",
   "execution_count": 25,
   "id": "dbe5e840",
   "metadata": {},
   "outputs": [
    {
     "name": "stdout",
     "output_type": "stream",
     "text": [
      "      feature        VIF\n",
      "0     holiday   1.542563\n",
      "1  workingday   8.994986\n",
      "2     weather   7.501312\n",
      "3        temp   8.578762\n",
      "4    humidity  17.420442\n",
      "5   windspeed   3.991422\n",
      "6        hour   4.242130\n",
      "7     weekday   9.129221\n",
      "8       month   5.245527\n",
      "9        year  59.644012\n"
     ]
    }
   ],
   "source": [
    "X3 = X.drop(['atemp', 'season'], axis=1)\n",
    "vif_data_3 = pd.DataFrame()\n",
    "vif_data_3[\"feature\"] = X3.columns\n",
    "vif_data_3[\"VIF\"] = [variance_inflation_factor(X3.values, i)\n",
    "                          for i in range(len(X3.columns))]\n",
    "print(vif_data_3)"
   ]
  },
  {
   "cell_type": "code",
   "execution_count": 26,
   "id": "a34644c6",
   "metadata": {
    "scrolled": true
   },
   "outputs": [
    {
     "name": "stdout",
     "output_type": "stream",
     "text": [
      "      feature        VIF\n",
      "0     holiday   1.293959\n",
      "1  workingday   5.460216\n",
      "2     weather   7.469605\n",
      "3        temp   7.728628\n",
      "4    humidity  12.879300\n",
      "5   windspeed   3.464645\n",
      "6        hour   3.925416\n",
      "7     weekday   5.321123\n",
      "8       month   5.203902\n"
     ]
    }
   ],
   "source": [
    "X4 = X.drop(['atemp', 'season', 'year'], axis=1)\n",
    "vif_data_4 = pd.DataFrame()\n",
    "vif_data_4[\"feature\"] = X4.columns\n",
    "vif_data_4[\"VIF\"] = [variance_inflation_factor(X4.values, i)\n",
    "                          for i in range(len(X4.columns))]\n",
    "print(vif_data_4)"
   ]
  },
  {
   "cell_type": "markdown",
   "id": "f5997acb",
   "metadata": {},
   "source": [
    "Result of VIF: drop 'atemp', 'season', 'year', 'humidity'"
   ]
  },
  {
   "cell_type": "markdown",
   "id": "fa99a55a",
   "metadata": {},
   "source": [
    "### 3.5.2. Recursive feature elimination (RFE)"
   ]
  },
  {
   "cell_type": "code",
   "execution_count": 27,
   "id": "3092cd76",
   "metadata": {},
   "outputs": [
    {
     "data": {
      "text/plain": [
       "array([ True,  True,  True, False,  True, False,  True, False,  True,\n",
       "       False,  True,  True])"
      ]
     },
     "execution_count": 27,
     "metadata": {},
     "output_type": "execute_result"
    }
   ],
   "source": [
    "estimator = SVR(kernel=\"linear\")\n",
    "selector = RFE(estimator, n_features_to_select=8, step=1)\n",
    "selector = selector.fit(X, y)\n",
    "\n",
    "selector.support_"
   ]
  },
  {
   "cell_type": "code",
   "execution_count": 28,
   "id": "0c30aa54",
   "metadata": {},
   "outputs": [
    {
     "data": {
      "text/plain": [
       "array([1, 1, 1, 4, 1, 3, 1, 5, 1, 2, 1, 1])"
      ]
     },
     "execution_count": 28,
     "metadata": {},
     "output_type": "execute_result"
    }
   ],
   "source": [
    "selector.ranking_"
   ]
  },
  {
   "cell_type": "code",
   "execution_count": 29,
   "id": "1a2479ca",
   "metadata": {},
   "outputs": [
    {
     "data": {
      "text/html": [
       "<div>\n",
       "<style scoped>\n",
       "    .dataframe tbody tr th:only-of-type {\n",
       "        vertical-align: middle;\n",
       "    }\n",
       "\n",
       "    .dataframe tbody tr th {\n",
       "        vertical-align: top;\n",
       "    }\n",
       "\n",
       "    .dataframe thead th {\n",
       "        text-align: right;\n",
       "    }\n",
       "</style>\n",
       "<table border=\"1\" class=\"dataframe\">\n",
       "  <thead>\n",
       "    <tr style=\"text-align: right;\">\n",
       "      <th></th>\n",
       "      <th>season</th>\n",
       "      <th>holiday</th>\n",
       "      <th>workingday</th>\n",
       "      <th>weather</th>\n",
       "      <th>temp</th>\n",
       "      <th>atemp</th>\n",
       "      <th>humidity</th>\n",
       "      <th>windspeed</th>\n",
       "      <th>hour</th>\n",
       "      <th>weekday</th>\n",
       "      <th>month</th>\n",
       "      <th>year</th>\n",
       "    </tr>\n",
       "    <tr>\n",
       "      <th>datetime</th>\n",
       "      <th></th>\n",
       "      <th></th>\n",
       "      <th></th>\n",
       "      <th></th>\n",
       "      <th></th>\n",
       "      <th></th>\n",
       "      <th></th>\n",
       "      <th></th>\n",
       "      <th></th>\n",
       "      <th></th>\n",
       "      <th></th>\n",
       "      <th></th>\n",
       "    </tr>\n",
       "  </thead>\n",
       "  <tbody>\n",
       "    <tr>\n",
       "      <th>2011-01-01 00:00:00</th>\n",
       "      <td>1</td>\n",
       "      <td>0</td>\n",
       "      <td>0</td>\n",
       "      <td>1</td>\n",
       "      <td>9.84</td>\n",
       "      <td>14.395</td>\n",
       "      <td>81</td>\n",
       "      <td>0.0</td>\n",
       "      <td>0</td>\n",
       "      <td>5</td>\n",
       "      <td>1</td>\n",
       "      <td>2011</td>\n",
       "    </tr>\n",
       "    <tr>\n",
       "      <th>2011-01-01 01:00:00</th>\n",
       "      <td>1</td>\n",
       "      <td>0</td>\n",
       "      <td>0</td>\n",
       "      <td>1</td>\n",
       "      <td>9.02</td>\n",
       "      <td>13.635</td>\n",
       "      <td>80</td>\n",
       "      <td>0.0</td>\n",
       "      <td>1</td>\n",
       "      <td>5</td>\n",
       "      <td>1</td>\n",
       "      <td>2011</td>\n",
       "    </tr>\n",
       "  </tbody>\n",
       "</table>\n",
       "</div>"
      ],
      "text/plain": [
       "                     season  holiday  workingday  weather  temp   atemp  \\\n",
       "datetime                                                                  \n",
       "2011-01-01 00:00:00       1        0           0        1  9.84  14.395   \n",
       "2011-01-01 01:00:00       1        0           0        1  9.02  13.635   \n",
       "\n",
       "                     humidity  windspeed  hour  weekday  month  year  \n",
       "datetime                                                              \n",
       "2011-01-01 00:00:00        81        0.0     0        5      1  2011  \n",
       "2011-01-01 01:00:00        80        0.0     1        5      1  2011  "
      ]
     },
     "execution_count": 29,
     "metadata": {},
     "output_type": "execute_result"
    }
   ],
   "source": [
    "X.head(2)"
   ]
  },
  {
   "cell_type": "markdown",
   "id": "ab0c1751",
   "metadata": {},
   "source": [
    "Result of RFE: drop 'weather', 'atemp', 'windspeed', 'weekday'"
   ]
  },
  {
   "cell_type": "markdown",
   "id": "7cd6e924",
   "metadata": {},
   "source": [
    "Decidide to drop: \n",
    "    season, (because of month)\n",
    "    holiday \n",
    "    workingday\n",
    "    weather\n",
    "    atemp (because of temp) \n",
    "    weekday   \n",
    "    windspeed\n",
    "    \n",
    "Keeping features:\n",
    "temp \n",
    "humidity\n",
    "hour\n",
    "month\n",
    "year\n"
   ]
  },
  {
   "cell_type": "code",
   "execution_count": 19,
   "id": "fdaee785",
   "metadata": {},
   "outputs": [],
   "source": [
    "# redefining X, dropping more features: \n",
    "X = train_set.drop(train_set[['casual', 'registered', 'count', 'season', 'holiday', 'workingday', 'weather', 'atemp', 'weekday', 'windspeed']], axis=1)\n",
    "y = train_set['count']"
   ]
  },
  {
   "cell_type": "code",
   "execution_count": 20,
   "id": "2b197a06",
   "metadata": {},
   "outputs": [
    {
     "data": {
      "text/html": [
       "<div>\n",
       "<style scoped>\n",
       "    .dataframe tbody tr th:only-of-type {\n",
       "        vertical-align: middle;\n",
       "    }\n",
       "\n",
       "    .dataframe tbody tr th {\n",
       "        vertical-align: top;\n",
       "    }\n",
       "\n",
       "    .dataframe thead th {\n",
       "        text-align: right;\n",
       "    }\n",
       "</style>\n",
       "<table border=\"1\" class=\"dataframe\">\n",
       "  <thead>\n",
       "    <tr style=\"text-align: right;\">\n",
       "      <th></th>\n",
       "      <th>temp</th>\n",
       "      <th>humidity</th>\n",
       "      <th>hour</th>\n",
       "      <th>month</th>\n",
       "      <th>year</th>\n",
       "    </tr>\n",
       "    <tr>\n",
       "      <th>datetime</th>\n",
       "      <th></th>\n",
       "      <th></th>\n",
       "      <th></th>\n",
       "      <th></th>\n",
       "      <th></th>\n",
       "    </tr>\n",
       "  </thead>\n",
       "  <tbody>\n",
       "    <tr>\n",
       "      <th>2011-01-01 00:00:00</th>\n",
       "      <td>9.84</td>\n",
       "      <td>81</td>\n",
       "      <td>0</td>\n",
       "      <td>1</td>\n",
       "      <td>2011</td>\n",
       "    </tr>\n",
       "    <tr>\n",
       "      <th>2011-01-01 01:00:00</th>\n",
       "      <td>9.02</td>\n",
       "      <td>80</td>\n",
       "      <td>1</td>\n",
       "      <td>1</td>\n",
       "      <td>2011</td>\n",
       "    </tr>\n",
       "  </tbody>\n",
       "</table>\n",
       "</div>"
      ],
      "text/plain": [
       "                     temp  humidity  hour  month  year\n",
       "datetime                                              \n",
       "2011-01-01 00:00:00  9.84        81     0      1  2011\n",
       "2011-01-01 01:00:00  9.02        80     1      1  2011"
      ]
     },
     "execution_count": 20,
     "metadata": {},
     "output_type": "execute_result"
    }
   ],
   "source": [
    "X.head(2)"
   ]
  },
  {
   "cell_type": "markdown",
   "id": "2089adb8",
   "metadata": {},
   "source": [
    "### 3.6. Checking Missing Values:"
   ]
  },
  {
   "cell_type": "code",
   "execution_count": 100,
   "id": "062961a9",
   "metadata": {},
   "outputs": [
    {
     "data": {
      "text/plain": [
       "weather     0\n",
       "temp        0\n",
       "humidity    0\n",
       "hour        0\n",
       "weekday     0\n",
       "month       0\n",
       "year        0\n",
       "dtype: int64"
      ]
     },
     "execution_count": 100,
     "metadata": {},
     "output_type": "execute_result"
    }
   ],
   "source": [
    "X.isnull().sum()"
   ]
  },
  {
   "cell_type": "code",
   "execution_count": 111,
   "id": "06e2b5a5",
   "metadata": {},
   "outputs": [
    {
     "data": {
      "text/plain": [
       "<AxesSubplot:>"
      ]
     },
     "execution_count": 111,
     "metadata": {},
     "output_type": "execute_result"
    },
    {
     "data": {
      "image/png": "[encoded data removed]",
      "text/plain": [
       "<Figure size 1800x720 with 2 Axes>"
      ]
     },
     "metadata": {},
     "output_type": "display_data"
    }
   ],
   "source": [
    "msno.matrix(X)"
   ]
  },
  {
   "cell_type": "markdown",
   "id": "f164b2bc",
   "metadata": {},
   "source": [
    "There are no missing values, therefore no need for dropna or impute"
   ]
  },
  {
   "cell_type": "markdown",
   "id": "5f728056",
   "metadata": {},
   "source": [
    "### 3.7 Dropping 4. value in weather column"
   ]
  },
  {
   "cell_type": "markdown",
   "id": "37947707",
   "metadata": {},
   "source": [
    "Weather column has only one 4 value. After train-test split, I got an error message at column transformation step that in this column there is an unknown value in the test data, therefore I removed this only one 4 value from weather in the train_set."
   ]
  },
  {
   "cell_type": "code",
   "execution_count": 191,
   "id": "b3d4ba4c",
   "metadata": {},
   "outputs": [],
   "source": [
    "# train_set['weather'].value_counts()"
   ]
  },
  {
   "cell_type": "code",
   "execution_count": null,
   "id": "6f4c4bc0",
   "metadata": {},
   "outputs": [],
   "source": [
    "# train['weather'][train['weather']==4] = 3\n",
    "# test[test['weather']==4] = 3"
   ]
  },
  {
   "cell_type": "code",
   "execution_count": 192,
   "id": "4f39e601",
   "metadata": {
    "scrolled": true
   },
   "outputs": [],
   "source": [
    "#train_set.loc[train_set['weather']==4]"
   ]
  },
  {
   "cell_type": "code",
   "execution_count": 193,
   "id": "e70d5319",
   "metadata": {},
   "outputs": [],
   "source": [
    "#train_set.drop('2012-01-09 18:00:00', inplace=True)"
   ]
  },
  {
   "cell_type": "code",
   "execution_count": 194,
   "id": "14d66d50",
   "metadata": {
    "scrolled": true
   },
   "outputs": [],
   "source": [
    "#train_set['weather'].value_counts()"
   ]
  },
  {
   "cell_type": "code",
   "execution_count": 195,
   "id": "47e6e5fb",
   "metadata": {},
   "outputs": [],
   "source": [
    "#train_set.shape"
   ]
  },
  {
   "cell_type": "code",
   "execution_count": 21,
   "id": "61b85879",
   "metadata": {},
   "outputs": [],
   "source": [
    "# redefining X, dropping more features: \n",
    "X = train_set.drop(train_set[['casual', 'registered', 'count', 'season', 'holiday', 'workingday', 'atemp', 'windspeed']], axis=1)\n",
    "y = train_set['count']"
   ]
  },
  {
   "cell_type": "code",
   "execution_count": 22,
   "id": "78dced08",
   "metadata": {},
   "outputs": [],
   "source": [
    "X_train, X_test, y_train, y_test = train_test_split(X, y, test_size=0.20, random_state=101)"
   ]
  },
  {
   "cell_type": "markdown",
   "id": "435624dd",
   "metadata": {},
   "source": [
    "## 5. Feature Engineering with ColumnTransformer"
   ]
  },
  {
   "cell_type": "markdown",
   "id": "8298269c",
   "metadata": {},
   "source": [
    "temp        cont. numerical Scaling\n",
    "humidity    cont. numerical Scaling\n",
    "hour        0-23 Scaling\n",
    "month       0-11 OneHotEncoder\n",
    "year        2011, 2012 OneHotEncoder\n",
    "weekday     0-6 OneHotEncoder\n",
    "weather     1-3 OneHotEncoder\n",
    "\n",
    "OneHotEncoder: month, year, weekday, weather\n",
    "MinMaxScaler: temp, humidity, hour"
   ]
  },
  {
   "cell_type": "code",
   "execution_count": 23,
   "id": "47b6715b",
   "metadata": {},
   "outputs": [],
   "source": [
    "column_transformer = ColumnTransformer([\n",
    "    ('cat_ohe', OneHotEncoder(handle_unknown = 'ignore'), ['month', 'year', 'weekday', 'weather']),\n",
    "    ('num_scaler', MinMaxScaler(), ['temp', 'humidity', 'hour',]) \n",
    "])"
   ]
  },
  {
   "cell_type": "code",
   "execution_count": 24,
   "id": "7dce4b57",
   "metadata": {
    "scrolled": false
   },
   "outputs": [
    {
     "data": {
      "text/plain": [
       "Index(['weather', 'temp', 'humidity', 'hour', 'weekday', 'month', 'year'], dtype='object')"
      ]
     },
     "execution_count": 24,
     "metadata": {},
     "output_type": "execute_result"
    }
   ],
   "source": [
    "X_train.columns"
   ]
  },
  {
   "cell_type": "code",
   "execution_count": 25,
   "id": "a51ee65a",
   "metadata": {
    "scrolled": true
   },
   "outputs": [],
   "source": [
    "column_transformer.fit(X_train)\n",
    "X_train_fe = column_transformer.transform(X_train)\n",
    "X_test_fe = column_transformer.transform(X_test)"
   ]
  },
  {
   "cell_type": "code",
   "execution_count": 31,
   "id": "05ad41ab",
   "metadata": {},
   "outputs": [],
   "source": [
    "#X_train_FE = pd.DataFrame(data=X_train_fe, columns=column_transformer.get_feature_names())\n",
    "#X_train_df.head(3) "
   ]
  },
  {
   "cell_type": "markdown",
   "id": "ec2276b3",
   "metadata": {},
   "source": [
    "## 6. Training Model"
   ]
  },
  {
   "cell_type": "markdown",
   "id": "74ead88c",
   "metadata": {},
   "source": [
    "### 6.1. Multiple Linear Regression "
   ]
  },
  {
   "cell_type": "code",
   "execution_count": 32,
   "id": "163382cc",
   "metadata": {},
   "outputs": [],
   "source": [
    "PoReg = PoissonRegressor()"
   ]
  },
  {
   "cell_type": "code",
   "execution_count": 33,
   "id": "f424491a",
   "metadata": {},
   "outputs": [
    {
     "data": {
      "text/plain": [
       "PoissonRegressor()"
      ]
     },
     "execution_count": 33,
     "metadata": {},
     "output_type": "execute_result"
    }
   ],
   "source": [
    "PoReg.fit(X_train_fe, y_train)"
   ]
  },
  {
   "cell_type": "code",
   "execution_count": 34,
   "id": "656181d1",
   "metadata": {},
   "outputs": [
    {
     "data": {
      "text/plain": [
       "0.4336737964963636"
      ]
     },
     "execution_count": 34,
     "metadata": {},
     "output_type": "execute_result"
    }
   ],
   "source": [
    "PoReg.score(X_train_fe, y_train)"
   ]
  },
  {
   "cell_type": "code",
   "execution_count": 35,
   "id": "f1f80bfc",
   "metadata": {},
   "outputs": [
    {
     "data": {
      "text/plain": [
       "0.4285111443331976"
      ]
     },
     "execution_count": 35,
     "metadata": {},
     "output_type": "execute_result"
    }
   ],
   "source": [
    "PoReg.score(X_test_fe, y_test)"
   ]
  },
  {
   "cell_type": "code",
   "execution_count": 36,
   "id": "361f1f7a",
   "metadata": {
    "scrolled": true
   },
   "outputs": [
    {
     "data": {
      "text/plain": [
       "(array([-0.36473444, -0.28092376, -0.14749771, -0.04629429,  0.13113752,\n",
       "         0.01334977, -0.13643746, -0.05167368,  0.16303493,  0.27058541,\n",
       "         0.20876594,  0.24068914, -0.21588982,  0.21589119, -0.02654207,\n",
       "        -0.00323312, -0.00181783,  0.01519134,  0.02359572,  0.03026424,\n",
       "        -0.03745691,  0.06187563,  0.10070938, -0.16258364,  1.33223802,\n",
       "        -0.99786352,  1.02833317]),\n",
       " 4.483079111075393)"
      ]
     },
     "execution_count": 36,
     "metadata": {},
     "output_type": "execute_result"
    }
   ],
   "source": [
    "PoReg.coef_, PoReg.intercept_"
   ]
  },
  {
   "cell_type": "code",
   "execution_count": 37,
   "id": "c3dc8b0b",
   "metadata": {},
   "outputs": [],
   "source": [
    "# Prediction: \n",
    "y_pred_PoReg = PoReg.predict(X_test_fe)"
   ]
  },
  {
   "cell_type": "code",
   "execution_count": 38,
   "id": "0b8fe30a",
   "metadata": {},
   "outputs": [
    {
     "data": {
      "text/plain": [
       "array([368.98656977, 236.63938462,  81.07177204, ...,  36.12458991,\n",
       "       174.83824859,  32.63544978])"
      ]
     },
     "execution_count": 38,
     "metadata": {},
     "output_type": "execute_result"
    }
   ],
   "source": [
    "y_pred_PoReg"
   ]
  },
  {
   "cell_type": "code",
   "execution_count": 39,
   "id": "886bebba",
   "metadata": {},
   "outputs": [
    {
     "name": "stdout",
     "output_type": "stream",
     "text": [
      "mean squared error = 138.166637331112\n",
      "r2 score = 0.39816247493532975\n"
     ]
    }
   ],
   "source": [
    "rmse_PoReg = np.sqrt(mean_squared_error(y_test, y_pred_PoReg))   \n",
    "               \n",
    "r2_PoReg = r2_score(y_test, y_pred_PoReg)\n",
    "print(\"mean squared error =\", rmse_PoReg)\n",
    "print(\"r2 score =\", r2_PoReg)"
   ]
  },
  {
   "cell_type": "code",
   "execution_count": 40,
   "id": "186edf5c",
   "metadata": {},
   "outputs": [
    {
     "name": "stdout",
     "output_type": "stream",
     "text": [
      "Kaggle score= 1.1979712092077877\n"
     ]
    }
   ],
   "source": [
    "kaggle_score_PoReg = np.sqrt(mean_squared_log_error(y_test, y_pred_PoReg))\n",
    "print(\"Kaggle score=\", kaggle_score_PoReg)"
   ]
  },
  {
   "cell_type": "markdown",
   "id": "2e5c1f88",
   "metadata": {},
   "source": [
    "### 6.2. Polynomial features "
   ]
  },
  {
   "cell_type": "code",
   "execution_count": 41,
   "id": "e888b7e9",
   "metadata": {},
   "outputs": [],
   "source": [
    "PoFe = PolynomialFeatures(degree=3)"
   ]
  },
  {
   "cell_type": "code",
   "execution_count": 42,
   "id": "dc4f563d",
   "metadata": {},
   "outputs": [],
   "source": [
    "X_train_PoFe = PoFe.fit_transform(X_train_fe)\n",
    "X_test_PoFe = PoFe.transform(X_test_fe)"
   ]
  },
  {
   "cell_type": "code",
   "execution_count": 43,
   "id": "1c3b109e",
   "metadata": {},
   "outputs": [
    {
     "name": "stderr",
     "output_type": "stream",
     "text": [
      "/home/marie/anaconda3/lib/python3.8/site-packages/sklearn/linear_model/_glm/glm.py:287: ConvergenceWarning: lbfgs failed to converge (status=1):\n",
      "STOP: TOTAL NO. of ITERATIONS REACHED LIMIT.\n",
      "\n",
      "Increase the number of iterations (max_iter) or scale the data as shown in:\n",
      "    https://scikit-learn.org/stable/modules/preprocessing.html\n",
      "  self.n_iter_ = _check_optimize_result(\"lbfgs\", opt_res)\n"
     ]
    },
    {
     "data": {
      "text/plain": [
       "PoissonRegressor()"
      ]
     },
     "execution_count": 43,
     "metadata": {},
     "output_type": "execute_result"
    }
   ],
   "source": [
    "PoReg.fit(X_train_PoFe, y_train)"
   ]
  },
  {
   "cell_type": "code",
   "execution_count": 44,
   "id": "bcdacef2",
   "metadata": {},
   "outputs": [
    {
     "data": {
      "text/plain": [
       "0.6446810632757076"
      ]
     },
     "execution_count": 44,
     "metadata": {},
     "output_type": "execute_result"
    }
   ],
   "source": [
    "PoReg.score(X_train_PoFe, y_train)"
   ]
  },
  {
   "cell_type": "code",
   "execution_count": 45,
   "id": "d1711080",
   "metadata": {},
   "outputs": [
    {
     "data": {
      "text/plain": [
       "0.6312700539599951"
      ]
     },
     "execution_count": 45,
     "metadata": {},
     "output_type": "execute_result"
    }
   ],
   "source": [
    "PoReg.score(X_test_PoFe, y_test)"
   ]
  },
  {
   "cell_type": "code",
   "execution_count": 46,
   "id": "4a06da0c",
   "metadata": {},
   "outputs": [],
   "source": [
    "y_pred_PoFe = PoReg.predict(X_test_PoFe)"
   ]
  },
  {
   "cell_type": "code",
   "execution_count": 47,
   "id": "eeb9324d",
   "metadata": {},
   "outputs": [
    {
     "data": {
      "text/plain": [
       "array([373.23323731, 258.9181508 , 101.62811138, ...,  28.48795487,\n",
       "       215.03061583,   9.67419983])"
      ]
     },
     "execution_count": 47,
     "metadata": {},
     "output_type": "execute_result"
    }
   ],
   "source": [
    "y_pred_PoFe"
   ]
  },
  {
   "cell_type": "code",
   "execution_count": 48,
   "id": "03762621",
   "metadata": {},
   "outputs": [
    {
     "name": "stdout",
     "output_type": "stream",
     "text": [
      "root mean squared error = 112.1949354738456\n",
      "r2 score = 0.6031563885858392\n"
     ]
    }
   ],
   "source": [
    "rmse_PoFe = np.sqrt(mean_squared_error(y_test, y_pred_PoFe))\n",
    "\n",
    "r2_PoFe = r2_score(y_test, y_pred_PoFe)\n",
    "print(\"root mean squared error =\", rmse_PoFe)\n",
    "print(\"r2 score =\", r2_PoFe)"
   ]
  },
  {
   "cell_type": "code",
   "execution_count": 49,
   "id": "6a522ee4",
   "metadata": {},
   "outputs": [
    {
     "name": "stdout",
     "output_type": "stream",
     "text": [
      "Kaggle score= 1.0108718151999483\n"
     ]
    }
   ],
   "source": [
    "kaggle_score_PoFe = np.sqrt(mean_squared_log_error(y_test, y_pred_PoFe))\n",
    "print(\"Kaggle score=\", kaggle_score_PoFe)"
   ]
  },
  {
   "cell_type": "markdown",
   "id": "584e5905",
   "metadata": {},
   "source": [
    "### 6.3. Regularization "
   ]
  },
  {
   "cell_type": "code",
   "execution_count": 101,
   "id": "6a4213bc",
   "metadata": {},
   "outputs": [],
   "source": [
    "# PoReg_ridge = Ridge(alpha=1.0)"
   ]
  },
  {
   "cell_type": "code",
   "execution_count": 102,
   "id": "5012ac9c",
   "metadata": {},
   "outputs": [],
   "source": [
    "#PoReg.fit(X_train_fe, y_train)  "
   ]
  },
  {
   "cell_type": "code",
   "execution_count": 103,
   "id": "044c0299",
   "metadata": {},
   "outputs": [],
   "source": [
    "# PoReg_ridge.fit(X_train_fe, y_train)"
   ]
  },
  {
   "cell_type": "code",
   "execution_count": 104,
   "id": "d60a0dc7",
   "metadata": {},
   "outputs": [],
   "source": [
    "# y_pred_Ridge = PoReg.predict(X_test_fe)"
   ]
  },
  {
   "cell_type": "code",
   "execution_count": 105,
   "id": "7a9dc5d8",
   "metadata": {},
   "outputs": [],
   "source": [
    "# y_pred_Ridge"
   ]
  },
  {
   "cell_type": "code",
   "execution_count": 106,
   "id": "b11d0f5f",
   "metadata": {},
   "outputs": [],
   "source": [
    "#rmse_Ridge = np.sqrt(mean_squared_error(y_test, y_pred_Ridge))\n",
    "\n",
    "#r2_Ridge = r2_score(y_test, y_pred_Ridge)\n",
    "#print(\"root mean squared error =\", rmse_Ridge)\n",
    "#print(\"r2 score =\", r2_Ridge)"
   ]
  },
  {
   "cell_type": "markdown",
   "id": "516dbb1f",
   "metadata": {},
   "source": [
    "### 6.4. RandomForest Regression "
   ]
  },
  {
   "cell_type": "code",
   "execution_count": 58,
   "id": "100fdadc",
   "metadata": {},
   "outputs": [],
   "source": [
    "RaFo = RandomForestRegressor(random_state = 1)"
   ]
  },
  {
   "cell_type": "code",
   "execution_count": 59,
   "id": "d400ec62",
   "metadata": {},
   "outputs": [
    {
     "data": {
      "text/plain": [
       "RandomForestRegressor(random_state=1)"
      ]
     },
     "execution_count": 59,
     "metadata": {},
     "output_type": "execute_result"
    }
   ],
   "source": [
    "RaFo.fit(X_train_fe, y_train)"
   ]
  },
  {
   "cell_type": "code",
   "execution_count": 60,
   "id": "3096f4a3",
   "metadata": {},
   "outputs": [
    {
     "data": {
      "text/plain": [
       "0.9903688125876157"
      ]
     },
     "execution_count": 60,
     "metadata": {},
     "output_type": "execute_result"
    }
   ],
   "source": [
    "RaFo.score(X_train_fe, y_train)"
   ]
  },
  {
   "cell_type": "code",
   "execution_count": 61,
   "id": "4de5a968",
   "metadata": {},
   "outputs": [
    {
     "data": {
      "text/plain": [
       "0.9283325861573154"
      ]
     },
     "execution_count": 61,
     "metadata": {},
     "output_type": "execute_result"
    }
   ],
   "source": [
    "RaFo.score(X_test_fe, y_test)"
   ]
  },
  {
   "cell_type": "code",
   "execution_count": 62,
   "id": "7bf81ea4",
   "metadata": {},
   "outputs": [],
   "source": [
    "y_pred_RaFo = RaFo.predict(X_test_fe) "
   ]
  },
  {
   "cell_type": "code",
   "execution_count": 63,
   "id": "7074a091",
   "metadata": {},
   "outputs": [
    {
     "data": {
      "text/plain": [
       "array([253.17, 385.11,  62.68, ...,   1.35, 133.78,  38.66])"
      ]
     },
     "execution_count": 63,
     "metadata": {},
     "output_type": "execute_result"
    }
   ],
   "source": [
    "y_pred_RaFo"
   ]
  },
  {
   "cell_type": "code",
   "execution_count": 64,
   "id": "43393bd6",
   "metadata": {},
   "outputs": [
    {
     "name": "stdout",
     "output_type": "stream",
     "text": [
      "root mean squared error = 47.67870192525799\n",
      "r2 score = 0.9283325861573154\n"
     ]
    }
   ],
   "source": [
    "rmse_RaFo = np.sqrt(mean_squared_error(y_test, y_pred_RaFo))\n",
    "\n",
    "r2_RaFo = r2_score(y_test, y_pred_RaFo)\n",
    "print(\"root mean squared error =\" , rmse_RaFo)\n",
    "print(\"r2 score =\" , r2_RaFo)"
   ]
  },
  {
   "cell_type": "code",
   "execution_count": 66,
   "id": "1cae845f",
   "metadata": {},
   "outputs": [
    {
     "name": "stdout",
     "output_type": "stream",
     "text": [
      "Kaggle score= 0.38745579006674985\n"
     ]
    }
   ],
   "source": [
    "kaggle_score_RaFo = np.sqrt(mean_squared_log_error(y_test, y_pred_RaFo))\n",
    "print(\"Kaggle score=\", kaggle_score_RaFo)"
   ]
  },
  {
   "cell_type": "markdown",
   "id": "ea0c373f",
   "metadata": {},
   "source": [
    "### 6.5. Hyperparameter Optimization"
   ]
  },
  {
   "cell_type": "code",
   "execution_count": 80,
   "id": "76689948",
   "metadata": {},
   "outputs": [
    {
     "data": {
      "text/plain": [
       "dict_keys(['bootstrap', 'ccp_alpha', 'criterion', 'max_depth', 'max_features', 'max_leaf_nodes', 'max_samples', 'min_impurity_decrease', 'min_impurity_split', 'min_samples_leaf', 'min_samples_split', 'min_weight_fraction_leaf', 'n_estimators', 'n_jobs', 'oob_score', 'random_state', 'verbose', 'warm_start'])"
      ]
     },
     "execution_count": 80,
     "metadata": {},
     "output_type": "execute_result"
    }
   ],
   "source": [
    "RaFo.get_params().keys()"
   ]
  },
  {
   "cell_type": "code",
   "execution_count": null,
   "id": "9a9089e1",
   "metadata": {},
   "outputs": [],
   "source": [
    "param_grid = {\n",
    "    'max_depth': [2, 5, 10, 20], \n",
    "    'n_estimators': [5, 10, 50, 90],\n",
    "    'min_samples_leaf': [1,5,10]\n",
    "}"
   ]
  },
  {
   "cell_type": "code",
   "execution_count": null,
   "id": "78d94b3d",
   "metadata": {},
   "outputs": [],
   "source": [
    "#g = GridSearchCV(RaFo, param_grid, cv=5, scoring='accuracy', return_train_score=True )"
   ]
  },
  {
   "cell_type": "code",
   "execution_count": null,
   "id": "0b4b111c",
   "metadata": {},
   "outputs": [],
   "source": [
    "g.fit(X_train_fe, y_train)"
   ]
  },
  {
   "cell_type": "code",
   "execution_count": null,
   "id": "3d1f6795",
   "metadata": {},
   "outputs": [],
   "source": [
    "g.cv_results_"
   ]
  },
  {
   "cell_type": "code",
   "execution_count": null,
   "id": "192b2ce6",
   "metadata": {},
   "outputs": [],
   "source": [
    "res = pd.DataFrame(g.cv_results_)"
   ]
  },
  {
   "cell_type": "code",
   "execution_count": null,
   "id": "2f33579e",
   "metadata": {},
   "outputs": [],
   "source": [
    "res.head(3)"
   ]
  },
  {
   "cell_type": "code",
   "execution_count": null,
   "id": "3e2828c1",
   "metadata": {},
   "outputs": [],
   "source": [
    "rf_best = g.best_estimator_"
   ]
  },
  {
   "cell_type": "markdown",
   "id": "956b4d29",
   "metadata": {},
   "source": [
    "### 6.6. Cross validation Model Assesment"
   ]
  },
  {
   "cell_type": "code",
   "execution_count": 89,
   "id": "2cd815c9",
   "metadata": {},
   "outputs": [],
   "source": [
    "kf = KFold(n_splits=10, shuffle=True,random_state=42)"
   ]
  },
  {
   "cell_type": "code",
   "execution_count": 93,
   "id": "6072fc33",
   "metadata": {},
   "outputs": [
    {
     "data": {
      "text/plain": [
       "array([326, 171, 196, ..., 153, 190,  55])"
      ]
     },
     "execution_count": 93,
     "metadata": {},
     "output_type": "execute_result"
    }
   ],
   "source": [
    "y_train.values"
   ]
  },
  {
   "cell_type": "code",
   "execution_count": 108,
   "id": "d181fa8c",
   "metadata": {},
   "outputs": [
    {
     "data": {
      "text/plain": [
       "<8708x27 sparse matrix of type '<class 'numpy.float64'>'\n",
       "\twith 60573 stored elements in Compressed Sparse Row format>"
      ]
     },
     "execution_count": 108,
     "metadata": {},
     "output_type": "execute_result"
    }
   ],
   "source": [
    "X_train_fe"
   ]
  },
  {
   "cell_type": "markdown",
   "id": "ac8f7654",
   "metadata": {},
   "source": [
    "cross_accuracy_log = cross_val_score(RaFo,   # estimator: # the model you want to evaluate \n",
    "                      X_train_fe,         # the training input data \n",
    "                      y_train.values,         # the training output data  \n",
    "                      #cv=10,          # number of cross validation datasets, k-folds \n",
    "                      cv=kf,  # evaluation metric \n",
    ")"
   ]
  },
  {
   "cell_type": "code",
   "execution_count": null,
   "id": "b401f8b6",
   "metadata": {},
   "outputs": [],
   "source": [
    "cross_accuracy_log"
   ]
  },
  {
   "cell_type": "code",
   "execution_count": null,
   "id": "b15cf862",
   "metadata": {},
   "outputs": [],
   "source": [
    "f\"Cross-validation mean {100 * cross_accuracy_log.mean():5.3f} +- {100 * cross_accuracy_log.std():5.3f}\""
   ]
  },
  {
   "cell_type": "code",
   "execution_count": 170,
   "id": "5373a064",
   "metadata": {},
   "outputs": [],
   "source": [
    "# cross_accuracy_log = cross_val_score(RaFo, X_train_fe, y_train, cv=10, scoring='accuracy')"
   ]
  },
  {
   "cell_type": "markdown",
   "id": "d5f7104b",
   "metadata": {},
   "source": [
    "## 7. Models comparison"
   ]
  },
  {
   "cell_type": "markdown",
   "id": "59533f4b",
   "metadata": {},
   "source": [
    "### 7.1 R2 scores (Bias, overfitting: high score, underfitting: low score)"
   ]
  },
  {
   "cell_type": "code",
   "execution_count": 99,
   "id": "5a475ad9",
   "metadata": {},
   "outputs": [
    {
     "data": {
      "text/plain": [
       "Text(0, 0.5, 'R2 score')"
      ]
     },
     "execution_count": 99,
     "metadata": {},
     "output_type": "execute_result"
    },
    {
     "data": {
      "image/png": "[encoded data removed]",
      "text/plain": [
       "<Figure size 864x576 with 1 Axes>"
      ]
     },
     "metadata": {},
     "output_type": "display_data"
    }
   ],
   "source": [
    "model_names = ['Multiple Linear Regression' , 'Poly RegressionD3', 'Random Forest Regressor']\n",
    "model_r2_scores = [r2_PoReg, r2_PoFe, r2_RaFo]\n",
    "\n",
    "plt.figure(figsize = (12,8))\n",
    "sns.barplot(x = model_names , y = model_r2_scores)\n",
    "plt.title(\"Model comparison\" , fontdict = {'family':'serif' , 'size':14})\n",
    "plt.ylabel(\"R2 score\" , fontdict = {'family':'serif' , 'size':14})"
   ]
  },
  {
   "cell_type": "code",
   "execution_count": 98,
   "id": "3484ffad",
   "metadata": {},
   "outputs": [
    {
     "data": {
      "text/plain": [
       "Text(0, 0.5, 'RMSLE score')"
      ]
     },
     "execution_count": 98,
     "metadata": {},
     "output_type": "execute_result"
    },
    {
     "data": {
      "image/png": "[encoded data removed]",
      "text/plain": [
       "<Figure size 864x576 with 1 Axes>"
      ]
     },
     "metadata": {},
     "output_type": "display_data"
    }
   ],
   "source": [
    "model_names = ['Multiple Linear Regression' , 'Poly RegressionD3', 'Random Forest Regressor']\n",
    "model_r2_scores = [kaggle_score_PoReg, kaggle_score_PoFe, kaggle_score_RaFo]\n",
    "\n",
    "plt.figure(figsize = (12,8))\n",
    "sns.barplot(x = model_names , y = model_r2_scores)\n",
    "plt.title(\"Model comparison\" , fontdict = {'family':'serif' , 'size':14})\n",
    "plt.ylabel(\"RMSLE score\" , fontdict = {'family':'serif' , 'size':14})"
   ]
  },
  {
   "cell_type": "markdown",
   "id": "ebc400bd",
   "metadata": {},
   "source": [
    "## 8. Submitting prediction to Kaggle"
   ]
  },
  {
   "cell_type": "code",
   "execution_count": 68,
   "id": "55da8034",
   "metadata": {},
   "outputs": [],
   "source": [
    "#getting Kaggle test file\n",
    "final_test = pd.read_csv('../data/test.csv', index_col=0, parse_dates=True)"
   ]
  },
  {
   "cell_type": "code",
   "execution_count": 69,
   "id": "4acc35ef",
   "metadata": {},
   "outputs": [
    {
     "data": {
      "text/html": [
       "<div>\n",
       "<style scoped>\n",
       "    .dataframe tbody tr th:only-of-type {\n",
       "        vertical-align: middle;\n",
       "    }\n",
       "\n",
       "    .dataframe tbody tr th {\n",
       "        vertical-align: top;\n",
       "    }\n",
       "\n",
       "    .dataframe thead th {\n",
       "        text-align: right;\n",
       "    }\n",
       "</style>\n",
       "<table border=\"1\" class=\"dataframe\">\n",
       "  <thead>\n",
       "    <tr style=\"text-align: right;\">\n",
       "      <th></th>\n",
       "      <th>season</th>\n",
       "      <th>holiday</th>\n",
       "      <th>workingday</th>\n",
       "      <th>weather</th>\n",
       "      <th>temp</th>\n",
       "      <th>atemp</th>\n",
       "      <th>humidity</th>\n",
       "      <th>windspeed</th>\n",
       "    </tr>\n",
       "    <tr>\n",
       "      <th>datetime</th>\n",
       "      <th></th>\n",
       "      <th></th>\n",
       "      <th></th>\n",
       "      <th></th>\n",
       "      <th></th>\n",
       "      <th></th>\n",
       "      <th></th>\n",
       "      <th></th>\n",
       "    </tr>\n",
       "  </thead>\n",
       "  <tbody>\n",
       "    <tr>\n",
       "      <th>2011-01-20 00:00:00</th>\n",
       "      <td>1</td>\n",
       "      <td>0</td>\n",
       "      <td>1</td>\n",
       "      <td>1</td>\n",
       "      <td>10.66</td>\n",
       "      <td>11.365</td>\n",
       "      <td>56</td>\n",
       "      <td>26.0027</td>\n",
       "    </tr>\n",
       "    <tr>\n",
       "      <th>2011-01-20 01:00:00</th>\n",
       "      <td>1</td>\n",
       "      <td>0</td>\n",
       "      <td>1</td>\n",
       "      <td>1</td>\n",
       "      <td>10.66</td>\n",
       "      <td>13.635</td>\n",
       "      <td>56</td>\n",
       "      <td>0.0000</td>\n",
       "    </tr>\n",
       "  </tbody>\n",
       "</table>\n",
       "</div>"
      ],
      "text/plain": [
       "                     season  holiday  workingday  weather   temp   atemp  \\\n",
       "datetime                                                                   \n",
       "2011-01-20 00:00:00       1        0           1        1  10.66  11.365   \n",
       "2011-01-20 01:00:00       1        0           1        1  10.66  13.635   \n",
       "\n",
       "                     humidity  windspeed  \n",
       "datetime                                  \n",
       "2011-01-20 00:00:00        56    26.0027  \n",
       "2011-01-20 01:00:00        56     0.0000  "
      ]
     },
     "execution_count": 69,
     "metadata": {},
     "output_type": "execute_result"
    }
   ],
   "source": [
    "final_test.head(2)"
   ]
  },
  {
   "cell_type": "code",
   "execution_count": null,
   "id": "adf745f0",
   "metadata": {},
   "outputs": [],
   "source": [
    "# temp, humidity, hour, month, year, weekday, weather "
   ]
  },
  {
   "cell_type": "code",
   "execution_count": 70,
   "id": "fea578e3",
   "metadata": {},
   "outputs": [],
   "source": [
    "## Transforming Final test file \n",
    "# Extracting hour, weekday, month and year from datetime \n",
    "final_test['hour'] = final_test.index.hour\n",
    "final_test['weekday'] = final_test.index.weekday\n",
    "final_test['month'] = final_test.index.month\n",
    "final_test['year'] = final_test.index.year    "
   ]
  },
  {
   "cell_type": "code",
   "execution_count": 71,
   "id": "aabd2493",
   "metadata": {},
   "outputs": [
    {
     "data": {
      "text/html": [
       "<div>\n",
       "<style scoped>\n",
       "    .dataframe tbody tr th:only-of-type {\n",
       "        vertical-align: middle;\n",
       "    }\n",
       "\n",
       "    .dataframe tbody tr th {\n",
       "        vertical-align: top;\n",
       "    }\n",
       "\n",
       "    .dataframe thead th {\n",
       "        text-align: right;\n",
       "    }\n",
       "</style>\n",
       "<table border=\"1\" class=\"dataframe\">\n",
       "  <thead>\n",
       "    <tr style=\"text-align: right;\">\n",
       "      <th></th>\n",
       "      <th>season</th>\n",
       "      <th>holiday</th>\n",
       "      <th>workingday</th>\n",
       "      <th>weather</th>\n",
       "      <th>temp</th>\n",
       "      <th>atemp</th>\n",
       "      <th>humidity</th>\n",
       "      <th>windspeed</th>\n",
       "      <th>hour</th>\n",
       "      <th>weekday</th>\n",
       "      <th>month</th>\n",
       "      <th>year</th>\n",
       "    </tr>\n",
       "    <tr>\n",
       "      <th>datetime</th>\n",
       "      <th></th>\n",
       "      <th></th>\n",
       "      <th></th>\n",
       "      <th></th>\n",
       "      <th></th>\n",
       "      <th></th>\n",
       "      <th></th>\n",
       "      <th></th>\n",
       "      <th></th>\n",
       "      <th></th>\n",
       "      <th></th>\n",
       "      <th></th>\n",
       "    </tr>\n",
       "  </thead>\n",
       "  <tbody>\n",
       "    <tr>\n",
       "      <th>2011-01-20 00:00:00</th>\n",
       "      <td>1</td>\n",
       "      <td>0</td>\n",
       "      <td>1</td>\n",
       "      <td>1</td>\n",
       "      <td>10.66</td>\n",
       "      <td>11.365</td>\n",
       "      <td>56</td>\n",
       "      <td>26.0027</td>\n",
       "      <td>0</td>\n",
       "      <td>3</td>\n",
       "      <td>1</td>\n",
       "      <td>2011</td>\n",
       "    </tr>\n",
       "    <tr>\n",
       "      <th>2011-01-20 01:00:00</th>\n",
       "      <td>1</td>\n",
       "      <td>0</td>\n",
       "      <td>1</td>\n",
       "      <td>1</td>\n",
       "      <td>10.66</td>\n",
       "      <td>13.635</td>\n",
       "      <td>56</td>\n",
       "      <td>0.0000</td>\n",
       "      <td>1</td>\n",
       "      <td>3</td>\n",
       "      <td>1</td>\n",
       "      <td>2011</td>\n",
       "    </tr>\n",
       "  </tbody>\n",
       "</table>\n",
       "</div>"
      ],
      "text/plain": [
       "                     season  holiday  workingday  weather   temp   atemp  \\\n",
       "datetime                                                                   \n",
       "2011-01-20 00:00:00       1        0           1        1  10.66  11.365   \n",
       "2011-01-20 01:00:00       1        0           1        1  10.66  13.635   \n",
       "\n",
       "                     humidity  windspeed  hour  weekday  month  year  \n",
       "datetime                                                              \n",
       "2011-01-20 00:00:00        56    26.0027     0        3      1  2011  \n",
       "2011-01-20 01:00:00        56     0.0000     1        3      1  2011  "
      ]
     },
     "execution_count": 71,
     "metadata": {},
     "output_type": "execute_result"
    }
   ],
   "source": [
    "final_test.head(2)"
   ]
  },
  {
   "cell_type": "code",
   "execution_count": 72,
   "id": "12bd0a57",
   "metadata": {},
   "outputs": [],
   "source": [
    "final_test = final_test.drop(train_set[['season', 'holiday', 'workingday', 'atemp', 'windspeed']], axis=1)\n"
   ]
  },
  {
   "cell_type": "code",
   "execution_count": 73,
   "id": "7defad16",
   "metadata": {},
   "outputs": [
    {
     "data": {
      "text/html": [
       "<div>\n",
       "<style scoped>\n",
       "    .dataframe tbody tr th:only-of-type {\n",
       "        vertical-align: middle;\n",
       "    }\n",
       "\n",
       "    .dataframe tbody tr th {\n",
       "        vertical-align: top;\n",
       "    }\n",
       "\n",
       "    .dataframe thead th {\n",
       "        text-align: right;\n",
       "    }\n",
       "</style>\n",
       "<table border=\"1\" class=\"dataframe\">\n",
       "  <thead>\n",
       "    <tr style=\"text-align: right;\">\n",
       "      <th></th>\n",
       "      <th>weather</th>\n",
       "      <th>temp</th>\n",
       "      <th>humidity</th>\n",
       "      <th>hour</th>\n",
       "      <th>weekday</th>\n",
       "      <th>month</th>\n",
       "      <th>year</th>\n",
       "    </tr>\n",
       "    <tr>\n",
       "      <th>datetime</th>\n",
       "      <th></th>\n",
       "      <th></th>\n",
       "      <th></th>\n",
       "      <th></th>\n",
       "      <th></th>\n",
       "      <th></th>\n",
       "      <th></th>\n",
       "    </tr>\n",
       "  </thead>\n",
       "  <tbody>\n",
       "    <tr>\n",
       "      <th>2011-01-20 00:00:00</th>\n",
       "      <td>1</td>\n",
       "      <td>10.66</td>\n",
       "      <td>56</td>\n",
       "      <td>0</td>\n",
       "      <td>3</td>\n",
       "      <td>1</td>\n",
       "      <td>2011</td>\n",
       "    </tr>\n",
       "    <tr>\n",
       "      <th>2011-01-20 01:00:00</th>\n",
       "      <td>1</td>\n",
       "      <td>10.66</td>\n",
       "      <td>56</td>\n",
       "      <td>1</td>\n",
       "      <td>3</td>\n",
       "      <td>1</td>\n",
       "      <td>2011</td>\n",
       "    </tr>\n",
       "  </tbody>\n",
       "</table>\n",
       "</div>"
      ],
      "text/plain": [
       "                     weather   temp  humidity  hour  weekday  month  year\n",
       "datetime                                                                 \n",
       "2011-01-20 00:00:00        1  10.66        56     0        3      1  2011\n",
       "2011-01-20 01:00:00        1  10.66        56     1        3      1  2011"
      ]
     },
     "execution_count": 73,
     "metadata": {},
     "output_type": "execute_result"
    }
   ],
   "source": [
    "final_test.head(2)"
   ]
  },
  {
   "cell_type": "code",
   "execution_count": 78,
   "id": "80be5588",
   "metadata": {},
   "outputs": [],
   "source": [
    "# final_test['weather'].value_counts()"
   ]
  },
  {
   "cell_type": "code",
   "execution_count": 74,
   "id": "159a99c8",
   "metadata": {},
   "outputs": [],
   "source": [
    "final_test_fe = column_transformer.transform(final_test)"
   ]
  },
  {
   "cell_type": "code",
   "execution_count": 83,
   "id": "b266d285",
   "metadata": {},
   "outputs": [],
   "source": [
    "y_pred_final_test = RaFo.predict(final_test_fe) "
   ]
  },
  {
   "cell_type": "code",
   "execution_count": 86,
   "id": "94d7ff4b",
   "metadata": {},
   "outputs": [
    {
     "data": {
      "text/plain": [
       "array([  9.57,   4.25,   4.8 , ..., 156.69, 117.46,  70.79])"
      ]
     },
     "execution_count": 86,
     "metadata": {},
     "output_type": "execute_result"
    }
   ],
   "source": [
    "y_pred_final_test"
   ]
  },
  {
   "cell_type": "code",
   "execution_count": 87,
   "id": "e8e00966",
   "metadata": {},
   "outputs": [],
   "source": [
    "predictions = pd.DataFrame({'dateTime': final_test.index, 'count': y_pred_RaFo})\n",
    "predictions.to_csv('predictions.csv',index=False) "
   ]
  },
  {
   "cell_type": "code",
   "execution_count": 110,
   "id": "9aaec270",
   "metadata": {},
   "outputs": [
    {
     "data": {
      "text/html": [
       "<div>\n",
       "<style scoped>\n",
       "    .dataframe tbody tr th:only-of-type {\n",
       "        vertical-align: middle;\n",
       "    }\n",
       "\n",
       "    .dataframe tbody tr th {\n",
       "        vertical-align: top;\n",
       "    }\n",
       "\n",
       "    .dataframe thead th {\n",
       "        text-align: right;\n",
       "    }\n",
       "</style>\n",
       "<table border=\"1\" class=\"dataframe\">\n",
       "  <thead>\n",
       "    <tr style=\"text-align: right;\">\n",
       "      <th></th>\n",
       "      <th>dateTime</th>\n",
       "      <th>count</th>\n",
       "    </tr>\n",
       "  </thead>\n",
       "  <tbody>\n",
       "    <tr>\n",
       "      <th>0</th>\n",
       "      <td>2011-01-20 00:00:00</td>\n",
       "      <td>9.57</td>\n",
       "    </tr>\n",
       "    <tr>\n",
       "      <th>1</th>\n",
       "      <td>2011-01-20 01:00:00</td>\n",
       "      <td>4.25</td>\n",
       "    </tr>\n",
       "  </tbody>\n",
       "</table>\n",
       "</div>"
      ],
      "text/plain": [
       "             dateTime  count\n",
       "0 2011-01-20 00:00:00   9.57\n",
       "1 2011-01-20 01:00:00   4.25"
      ]
     },
     "execution_count": 110,
     "metadata": {},
     "output_type": "execute_result"
    }
   ],
   "source": [
    "predictions.head(2)"
   ]
  },
  {
   "cell_type": "code",
   "execution_count": null,
   "id": "b597fd07",
   "metadata": {},
   "outputs": [],
   "source": []
  }
 ],
 "metadata": {
  "kernelspec": {
   "display_name": "Python 3",
   "language": "python",
   "name": "python3"
  },
  "language_info": {
   "codemirror_mode": {
    "name": "ipython",
    "version": 3
   },
   "file_extension": ".py",
   "mimetype": "text/x-python",
   "name": "python",
   "nbconvert_exporter": "python",
   "pygments_lexer": "ipython3",
   "version": "3.8.8"
  }
 },
 "nbformat": 4,
 "nbformat_minor": 5
}

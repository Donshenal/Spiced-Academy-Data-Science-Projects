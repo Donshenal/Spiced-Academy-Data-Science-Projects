{
 "cells": [
  {
   "cell_type": "markdown",
   "id": "edd4c042",
   "metadata": {},
   "source": [
    "# Project 03. Regression - Bycicle rental forecast"
   ]
  },
  {
   "cell_type": "markdown",
   "id": "82f35f50",
   "metadata": {},
   "source": [
    "## 1. Defining the goal of the project "
   ]
  },
  {
   "cell_type": "markdown",
   "id": "f72b2642",
   "metadata": {},
   "source": [
    "The goal of this project is to predict/forecast the total number of rented bycicles in each hour based on time and weather features, optimizing the accuracy of the model for RMSLE, using Kaggle's \"Bike Sharing Demand\" dataset that provides hourly rental data spanning two years.\n",
    "\n",
    "The training set is comprised of the first 19 days of each month, while the test set is the 20th to the end of the month. We predict the total count of bikes rented in each hour covered by the test set, using only information available prior to the rental period.\n",
    "\n",
    "More information on the data fields: \n",
    "\n",
    "https://www.kaggle.com/c/bike-sharing-demand/data\n"
   ]
  },
  {
   "cell_type": "markdown",
   "id": "d6bcdd2c",
   "metadata": {},
   "source": [
    "## 2. Importing Libraries"
   ]
  },
  {
   "cell_type": "code",
   "execution_count": 259,
   "id": "82c7a542",
   "metadata": {},
   "outputs": [],
   "source": [
    "# Importing Libraries\n",
    "\n",
    "# EDA\n",
    "import pandas as pd\n",
    "import seaborn as sns\n",
    "import matplotlib.pyplot as plt\n",
    "import numpy as np\n",
    "\n",
    "# Feature Selection\n",
    "from statsmodels.stats.outliers_influence import variance_inflation_factor\n",
    "\n",
    "# Feature Engineering\n",
    "from sklearn.compose import ColumnTransformer\n",
    "from sklearn.preprocessing import OneHotEncoder\n",
    "from sklearn.preprocessing import MinMaxScaler\n",
    "\n",
    "# Models\n",
    "from sklearn.model_selection import train_test_split\n",
    "from sklearn.linear_model import PoissonRegressor\n",
    "from sklearn.preprocessing import PolynomialFeatures\n",
    "from sklearn.linear_model import Ridge\n",
    "from sklearn.linear_model import Lasso\n",
    "from sklearn.ensemble import RandomForestRegressor\n",
    "from sklearn.model_selection import GridSearchCV\n",
    "\n",
    "# Cross Validation \n",
    "from sklearn.model_selection import cross_validate\n",
    "from sklearn.model_selection import cross_val_score \n",
    "\n",
    "# Metrics\n",
    "from sklearn.metrics import mean_squared_log_error\n",
    "from sklearn.metrics import mean_squared_error, r2_score\n",
    "from sklearn.metrics import make_scorer\n",
    "\n",
    "import warnings\n",
    "warnings.filterwarnings('ignore')"
   ]
  },
  {
   "cell_type": "markdown",
   "id": "afe09a7f",
   "metadata": {},
   "source": [
    "## 3. Getting the data"
   ]
  },
  {
   "cell_type": "code",
   "execution_count": 5,
   "id": "27c9c9fa",
   "metadata": {},
   "outputs": [],
   "source": [
    "# loading datasets for training, testing and submission. parsing the column 'dates' and turning it into datetime\n",
    "df_train = pd.read_csv('data/train.csv', index_col=0, parse_dates=True)\n",
    "df_test = pd.read_csv('data/test.csv', index_col=0, parse_dates=True)\n",
    "df_submission = pd.read_csv('data/sampleSubmission.csv', index_col=0, parse_dates=True)"
   ]
  },
  {
   "cell_type": "code",
   "execution_count": 6,
   "id": "f759d0ed",
   "metadata": {},
   "outputs": [
    {
     "data": {
      "text/plain": [
       "((10886, 11), (6493, 8), (6493, 1))"
      ]
     },
     "execution_count": 6,
     "metadata": {},
     "output_type": "execute_result"
    }
   ],
   "source": [
    "df_train.shape, df_test.shape, df_submission.shape"
   ]
  },
  {
   "cell_type": "code",
   "execution_count": 7,
   "id": "6c1056c6",
   "metadata": {},
   "outputs": [
    {
     "data": {
      "text/html": [
       "<div>\n",
       "<style scoped>\n",
       "    .dataframe tbody tr th:only-of-type {\n",
       "        vertical-align: middle;\n",
       "    }\n",
       "\n",
       "    .dataframe tbody tr th {\n",
       "        vertical-align: top;\n",
       "    }\n",
       "\n",
       "    .dataframe thead th {\n",
       "        text-align: right;\n",
       "    }\n",
       "</style>\n",
       "<table border=\"1\" class=\"dataframe\">\n",
       "  <thead>\n",
       "    <tr style=\"text-align: right;\">\n",
       "      <th></th>\n",
       "      <th>season</th>\n",
       "      <th>holiday</th>\n",
       "      <th>workingday</th>\n",
       "      <th>weather</th>\n",
       "      <th>temp</th>\n",
       "      <th>atemp</th>\n",
       "      <th>humidity</th>\n",
       "      <th>windspeed</th>\n",
       "      <th>casual</th>\n",
       "      <th>registered</th>\n",
       "      <th>count</th>\n",
       "    </tr>\n",
       "    <tr>\n",
       "      <th>datetime</th>\n",
       "      <th></th>\n",
       "      <th></th>\n",
       "      <th></th>\n",
       "      <th></th>\n",
       "      <th></th>\n",
       "      <th></th>\n",
       "      <th></th>\n",
       "      <th></th>\n",
       "      <th></th>\n",
       "      <th></th>\n",
       "      <th></th>\n",
       "    </tr>\n",
       "  </thead>\n",
       "  <tbody>\n",
       "    <tr>\n",
       "      <th>2011-01-01 00:00:00</th>\n",
       "      <td>1</td>\n",
       "      <td>0</td>\n",
       "      <td>0</td>\n",
       "      <td>1</td>\n",
       "      <td>9.84</td>\n",
       "      <td>14.395</td>\n",
       "      <td>81</td>\n",
       "      <td>0.0000</td>\n",
       "      <td>3</td>\n",
       "      <td>13</td>\n",
       "      <td>16</td>\n",
       "    </tr>\n",
       "    <tr>\n",
       "      <th>2011-01-01 01:00:00</th>\n",
       "      <td>1</td>\n",
       "      <td>0</td>\n",
       "      <td>0</td>\n",
       "      <td>1</td>\n",
       "      <td>9.02</td>\n",
       "      <td>13.635</td>\n",
       "      <td>80</td>\n",
       "      <td>0.0000</td>\n",
       "      <td>8</td>\n",
       "      <td>32</td>\n",
       "      <td>40</td>\n",
       "    </tr>\n",
       "    <tr>\n",
       "      <th>2011-01-01 02:00:00</th>\n",
       "      <td>1</td>\n",
       "      <td>0</td>\n",
       "      <td>0</td>\n",
       "      <td>1</td>\n",
       "      <td>9.02</td>\n",
       "      <td>13.635</td>\n",
       "      <td>80</td>\n",
       "      <td>0.0000</td>\n",
       "      <td>5</td>\n",
       "      <td>27</td>\n",
       "      <td>32</td>\n",
       "    </tr>\n",
       "    <tr>\n",
       "      <th>2011-01-01 03:00:00</th>\n",
       "      <td>1</td>\n",
       "      <td>0</td>\n",
       "      <td>0</td>\n",
       "      <td>1</td>\n",
       "      <td>9.84</td>\n",
       "      <td>14.395</td>\n",
       "      <td>75</td>\n",
       "      <td>0.0000</td>\n",
       "      <td>3</td>\n",
       "      <td>10</td>\n",
       "      <td>13</td>\n",
       "    </tr>\n",
       "    <tr>\n",
       "      <th>2011-01-01 04:00:00</th>\n",
       "      <td>1</td>\n",
       "      <td>0</td>\n",
       "      <td>0</td>\n",
       "      <td>1</td>\n",
       "      <td>9.84</td>\n",
       "      <td>14.395</td>\n",
       "      <td>75</td>\n",
       "      <td>0.0000</td>\n",
       "      <td>0</td>\n",
       "      <td>1</td>\n",
       "      <td>1</td>\n",
       "    </tr>\n",
       "    <tr>\n",
       "      <th>...</th>\n",
       "      <td>...</td>\n",
       "      <td>...</td>\n",
       "      <td>...</td>\n",
       "      <td>...</td>\n",
       "      <td>...</td>\n",
       "      <td>...</td>\n",
       "      <td>...</td>\n",
       "      <td>...</td>\n",
       "      <td>...</td>\n",
       "      <td>...</td>\n",
       "      <td>...</td>\n",
       "    </tr>\n",
       "    <tr>\n",
       "      <th>2012-12-19 19:00:00</th>\n",
       "      <td>4</td>\n",
       "      <td>0</td>\n",
       "      <td>1</td>\n",
       "      <td>1</td>\n",
       "      <td>15.58</td>\n",
       "      <td>19.695</td>\n",
       "      <td>50</td>\n",
       "      <td>26.0027</td>\n",
       "      <td>7</td>\n",
       "      <td>329</td>\n",
       "      <td>336</td>\n",
       "    </tr>\n",
       "    <tr>\n",
       "      <th>2012-12-19 20:00:00</th>\n",
       "      <td>4</td>\n",
       "      <td>0</td>\n",
       "      <td>1</td>\n",
       "      <td>1</td>\n",
       "      <td>14.76</td>\n",
       "      <td>17.425</td>\n",
       "      <td>57</td>\n",
       "      <td>15.0013</td>\n",
       "      <td>10</td>\n",
       "      <td>231</td>\n",
       "      <td>241</td>\n",
       "    </tr>\n",
       "    <tr>\n",
       "      <th>2012-12-19 21:00:00</th>\n",
       "      <td>4</td>\n",
       "      <td>0</td>\n",
       "      <td>1</td>\n",
       "      <td>1</td>\n",
       "      <td>13.94</td>\n",
       "      <td>15.910</td>\n",
       "      <td>61</td>\n",
       "      <td>15.0013</td>\n",
       "      <td>4</td>\n",
       "      <td>164</td>\n",
       "      <td>168</td>\n",
       "    </tr>\n",
       "    <tr>\n",
       "      <th>2012-12-19 22:00:00</th>\n",
       "      <td>4</td>\n",
       "      <td>0</td>\n",
       "      <td>1</td>\n",
       "      <td>1</td>\n",
       "      <td>13.94</td>\n",
       "      <td>17.425</td>\n",
       "      <td>61</td>\n",
       "      <td>6.0032</td>\n",
       "      <td>12</td>\n",
       "      <td>117</td>\n",
       "      <td>129</td>\n",
       "    </tr>\n",
       "    <tr>\n",
       "      <th>2012-12-19 23:00:00</th>\n",
       "      <td>4</td>\n",
       "      <td>0</td>\n",
       "      <td>1</td>\n",
       "      <td>1</td>\n",
       "      <td>13.12</td>\n",
       "      <td>16.665</td>\n",
       "      <td>66</td>\n",
       "      <td>8.9981</td>\n",
       "      <td>4</td>\n",
       "      <td>84</td>\n",
       "      <td>88</td>\n",
       "    </tr>\n",
       "  </tbody>\n",
       "</table>\n",
       "<p>10886 rows × 11 columns</p>\n",
       "</div>"
      ],
      "text/plain": [
       "                     season  holiday  workingday  weather   temp   atemp  \\\n",
       "datetime                                                                   \n",
       "2011-01-01 00:00:00       1        0           0        1   9.84  14.395   \n",
       "2011-01-01 01:00:00       1        0           0        1   9.02  13.635   \n",
       "2011-01-01 02:00:00       1        0           0        1   9.02  13.635   \n",
       "2011-01-01 03:00:00       1        0           0        1   9.84  14.395   \n",
       "2011-01-01 04:00:00       1        0           0        1   9.84  14.395   \n",
       "...                     ...      ...         ...      ...    ...     ...   \n",
       "2012-12-19 19:00:00       4        0           1        1  15.58  19.695   \n",
       "2012-12-19 20:00:00       4        0           1        1  14.76  17.425   \n",
       "2012-12-19 21:00:00       4        0           1        1  13.94  15.910   \n",
       "2012-12-19 22:00:00       4        0           1        1  13.94  17.425   \n",
       "2012-12-19 23:00:00       4        0           1        1  13.12  16.665   \n",
       "\n",
       "                     humidity  windspeed  casual  registered  count  \n",
       "datetime                                                             \n",
       "2011-01-01 00:00:00        81     0.0000       3          13     16  \n",
       "2011-01-01 01:00:00        80     0.0000       8          32     40  \n",
       "2011-01-01 02:00:00        80     0.0000       5          27     32  \n",
       "2011-01-01 03:00:00        75     0.0000       3          10     13  \n",
       "2011-01-01 04:00:00        75     0.0000       0           1      1  \n",
       "...                       ...        ...     ...         ...    ...  \n",
       "2012-12-19 19:00:00        50    26.0027       7         329    336  \n",
       "2012-12-19 20:00:00        57    15.0013      10         231    241  \n",
       "2012-12-19 21:00:00        61    15.0013       4         164    168  \n",
       "2012-12-19 22:00:00        61     6.0032      12         117    129  \n",
       "2012-12-19 23:00:00        66     8.9981       4          84     88  \n",
       "\n",
       "[10886 rows x 11 columns]"
      ]
     },
     "execution_count": 7,
     "metadata": {},
     "output_type": "execute_result"
    }
   ],
   "source": [
    "df_train"
   ]
  },
  {
   "cell_type": "code",
   "execution_count": 8,
   "id": "7ee1049b",
   "metadata": {},
   "outputs": [
    {
     "data": {
      "text/html": [
       "<div>\n",
       "<style scoped>\n",
       "    .dataframe tbody tr th:only-of-type {\n",
       "        vertical-align: middle;\n",
       "    }\n",
       "\n",
       "    .dataframe tbody tr th {\n",
       "        vertical-align: top;\n",
       "    }\n",
       "\n",
       "    .dataframe thead th {\n",
       "        text-align: right;\n",
       "    }\n",
       "</style>\n",
       "<table border=\"1\" class=\"dataframe\">\n",
       "  <thead>\n",
       "    <tr style=\"text-align: right;\">\n",
       "      <th></th>\n",
       "      <th>season</th>\n",
       "      <th>holiday</th>\n",
       "      <th>workingday</th>\n",
       "      <th>weather</th>\n",
       "      <th>temp</th>\n",
       "      <th>atemp</th>\n",
       "      <th>humidity</th>\n",
       "      <th>windspeed</th>\n",
       "    </tr>\n",
       "    <tr>\n",
       "      <th>datetime</th>\n",
       "      <th></th>\n",
       "      <th></th>\n",
       "      <th></th>\n",
       "      <th></th>\n",
       "      <th></th>\n",
       "      <th></th>\n",
       "      <th></th>\n",
       "      <th></th>\n",
       "    </tr>\n",
       "  </thead>\n",
       "  <tbody>\n",
       "    <tr>\n",
       "      <th>2011-01-20 00:00:00</th>\n",
       "      <td>1</td>\n",
       "      <td>0</td>\n",
       "      <td>1</td>\n",
       "      <td>1</td>\n",
       "      <td>10.66</td>\n",
       "      <td>11.365</td>\n",
       "      <td>56</td>\n",
       "      <td>26.0027</td>\n",
       "    </tr>\n",
       "    <tr>\n",
       "      <th>2011-01-20 01:00:00</th>\n",
       "      <td>1</td>\n",
       "      <td>0</td>\n",
       "      <td>1</td>\n",
       "      <td>1</td>\n",
       "      <td>10.66</td>\n",
       "      <td>13.635</td>\n",
       "      <td>56</td>\n",
       "      <td>0.0000</td>\n",
       "    </tr>\n",
       "    <tr>\n",
       "      <th>2011-01-20 02:00:00</th>\n",
       "      <td>1</td>\n",
       "      <td>0</td>\n",
       "      <td>1</td>\n",
       "      <td>1</td>\n",
       "      <td>10.66</td>\n",
       "      <td>13.635</td>\n",
       "      <td>56</td>\n",
       "      <td>0.0000</td>\n",
       "    </tr>\n",
       "    <tr>\n",
       "      <th>2011-01-20 03:00:00</th>\n",
       "      <td>1</td>\n",
       "      <td>0</td>\n",
       "      <td>1</td>\n",
       "      <td>1</td>\n",
       "      <td>10.66</td>\n",
       "      <td>12.880</td>\n",
       "      <td>56</td>\n",
       "      <td>11.0014</td>\n",
       "    </tr>\n",
       "    <tr>\n",
       "      <th>2011-01-20 04:00:00</th>\n",
       "      <td>1</td>\n",
       "      <td>0</td>\n",
       "      <td>1</td>\n",
       "      <td>1</td>\n",
       "      <td>10.66</td>\n",
       "      <td>12.880</td>\n",
       "      <td>56</td>\n",
       "      <td>11.0014</td>\n",
       "    </tr>\n",
       "    <tr>\n",
       "      <th>...</th>\n",
       "      <td>...</td>\n",
       "      <td>...</td>\n",
       "      <td>...</td>\n",
       "      <td>...</td>\n",
       "      <td>...</td>\n",
       "      <td>...</td>\n",
       "      <td>...</td>\n",
       "      <td>...</td>\n",
       "    </tr>\n",
       "    <tr>\n",
       "      <th>2012-12-31 19:00:00</th>\n",
       "      <td>1</td>\n",
       "      <td>0</td>\n",
       "      <td>1</td>\n",
       "      <td>2</td>\n",
       "      <td>10.66</td>\n",
       "      <td>12.880</td>\n",
       "      <td>60</td>\n",
       "      <td>11.0014</td>\n",
       "    </tr>\n",
       "    <tr>\n",
       "      <th>2012-12-31 20:00:00</th>\n",
       "      <td>1</td>\n",
       "      <td>0</td>\n",
       "      <td>1</td>\n",
       "      <td>2</td>\n",
       "      <td>10.66</td>\n",
       "      <td>12.880</td>\n",
       "      <td>60</td>\n",
       "      <td>11.0014</td>\n",
       "    </tr>\n",
       "    <tr>\n",
       "      <th>2012-12-31 21:00:00</th>\n",
       "      <td>1</td>\n",
       "      <td>0</td>\n",
       "      <td>1</td>\n",
       "      <td>1</td>\n",
       "      <td>10.66</td>\n",
       "      <td>12.880</td>\n",
       "      <td>60</td>\n",
       "      <td>11.0014</td>\n",
       "    </tr>\n",
       "    <tr>\n",
       "      <th>2012-12-31 22:00:00</th>\n",
       "      <td>1</td>\n",
       "      <td>0</td>\n",
       "      <td>1</td>\n",
       "      <td>1</td>\n",
       "      <td>10.66</td>\n",
       "      <td>13.635</td>\n",
       "      <td>56</td>\n",
       "      <td>8.9981</td>\n",
       "    </tr>\n",
       "    <tr>\n",
       "      <th>2012-12-31 23:00:00</th>\n",
       "      <td>1</td>\n",
       "      <td>0</td>\n",
       "      <td>1</td>\n",
       "      <td>1</td>\n",
       "      <td>10.66</td>\n",
       "      <td>13.635</td>\n",
       "      <td>65</td>\n",
       "      <td>8.9981</td>\n",
       "    </tr>\n",
       "  </tbody>\n",
       "</table>\n",
       "<p>6493 rows × 8 columns</p>\n",
       "</div>"
      ],
      "text/plain": [
       "                     season  holiday  workingday  weather   temp   atemp  \\\n",
       "datetime                                                                   \n",
       "2011-01-20 00:00:00       1        0           1        1  10.66  11.365   \n",
       "2011-01-20 01:00:00       1        0           1        1  10.66  13.635   \n",
       "2011-01-20 02:00:00       1        0           1        1  10.66  13.635   \n",
       "2011-01-20 03:00:00       1        0           1        1  10.66  12.880   \n",
       "2011-01-20 04:00:00       1        0           1        1  10.66  12.880   \n",
       "...                     ...      ...         ...      ...    ...     ...   \n",
       "2012-12-31 19:00:00       1        0           1        2  10.66  12.880   \n",
       "2012-12-31 20:00:00       1        0           1        2  10.66  12.880   \n",
       "2012-12-31 21:00:00       1        0           1        1  10.66  12.880   \n",
       "2012-12-31 22:00:00       1        0           1        1  10.66  13.635   \n",
       "2012-12-31 23:00:00       1        0           1        1  10.66  13.635   \n",
       "\n",
       "                     humidity  windspeed  \n",
       "datetime                                  \n",
       "2011-01-20 00:00:00        56    26.0027  \n",
       "2011-01-20 01:00:00        56     0.0000  \n",
       "2011-01-20 02:00:00        56     0.0000  \n",
       "2011-01-20 03:00:00        56    11.0014  \n",
       "2011-01-20 04:00:00        56    11.0014  \n",
       "...                       ...        ...  \n",
       "2012-12-31 19:00:00        60    11.0014  \n",
       "2012-12-31 20:00:00        60    11.0014  \n",
       "2012-12-31 21:00:00        60    11.0014  \n",
       "2012-12-31 22:00:00        56     8.9981  \n",
       "2012-12-31 23:00:00        65     8.9981  \n",
       "\n",
       "[6493 rows x 8 columns]"
      ]
     },
     "execution_count": 8,
     "metadata": {},
     "output_type": "execute_result"
    }
   ],
   "source": [
    "df_test"
   ]
  },
  {
   "cell_type": "code",
   "execution_count": 9,
   "id": "74abb0f6",
   "metadata": {},
   "outputs": [
    {
     "data": {
      "text/html": [
       "<div>\n",
       "<style scoped>\n",
       "    .dataframe tbody tr th:only-of-type {\n",
       "        vertical-align: middle;\n",
       "    }\n",
       "\n",
       "    .dataframe tbody tr th {\n",
       "        vertical-align: top;\n",
       "    }\n",
       "\n",
       "    .dataframe thead th {\n",
       "        text-align: right;\n",
       "    }\n",
       "</style>\n",
       "<table border=\"1\" class=\"dataframe\">\n",
       "  <thead>\n",
       "    <tr style=\"text-align: right;\">\n",
       "      <th></th>\n",
       "      <th>count</th>\n",
       "    </tr>\n",
       "    <tr>\n",
       "      <th>datetime</th>\n",
       "      <th></th>\n",
       "    </tr>\n",
       "  </thead>\n",
       "  <tbody>\n",
       "    <tr>\n",
       "      <th>2011-01-20 00:00:00</th>\n",
       "      <td>0</td>\n",
       "    </tr>\n",
       "    <tr>\n",
       "      <th>2011-01-20 01:00:00</th>\n",
       "      <td>0</td>\n",
       "    </tr>\n",
       "    <tr>\n",
       "      <th>2011-01-20 02:00:00</th>\n",
       "      <td>0</td>\n",
       "    </tr>\n",
       "    <tr>\n",
       "      <th>2011-01-20 03:00:00</th>\n",
       "      <td>0</td>\n",
       "    </tr>\n",
       "    <tr>\n",
       "      <th>2011-01-20 04:00:00</th>\n",
       "      <td>0</td>\n",
       "    </tr>\n",
       "    <tr>\n",
       "      <th>...</th>\n",
       "      <td>...</td>\n",
       "    </tr>\n",
       "    <tr>\n",
       "      <th>2012-12-31 19:00:00</th>\n",
       "      <td>0</td>\n",
       "    </tr>\n",
       "    <tr>\n",
       "      <th>2012-12-31 20:00:00</th>\n",
       "      <td>0</td>\n",
       "    </tr>\n",
       "    <tr>\n",
       "      <th>2012-12-31 21:00:00</th>\n",
       "      <td>0</td>\n",
       "    </tr>\n",
       "    <tr>\n",
       "      <th>2012-12-31 22:00:00</th>\n",
       "      <td>0</td>\n",
       "    </tr>\n",
       "    <tr>\n",
       "      <th>2012-12-31 23:00:00</th>\n",
       "      <td>0</td>\n",
       "    </tr>\n",
       "  </tbody>\n",
       "</table>\n",
       "<p>6493 rows × 1 columns</p>\n",
       "</div>"
      ],
      "text/plain": [
       "                     count\n",
       "datetime                  \n",
       "2011-01-20 00:00:00      0\n",
       "2011-01-20 01:00:00      0\n",
       "2011-01-20 02:00:00      0\n",
       "2011-01-20 03:00:00      0\n",
       "2011-01-20 04:00:00      0\n",
       "...                    ...\n",
       "2012-12-31 19:00:00      0\n",
       "2012-12-31 20:00:00      0\n",
       "2012-12-31 21:00:00      0\n",
       "2012-12-31 22:00:00      0\n",
       "2012-12-31 23:00:00      0\n",
       "\n",
       "[6493 rows x 1 columns]"
      ]
     },
     "execution_count": 9,
     "metadata": {},
     "output_type": "execute_result"
    }
   ],
   "source": [
    "df_submission"
   ]
  },
  {
   "cell_type": "markdown",
   "id": "30adefb4",
   "metadata": {},
   "source": [
    "## 4. Exploratory Data Analysis"
   ]
  },
  {
   "cell_type": "markdown",
   "id": "239d8a50",
   "metadata": {},
   "source": [
    "### 4.1. The variables of the dataset\n"
   ]
  },
  {
   "cell_type": "code",
   "execution_count": 10,
   "id": "bf0611b2",
   "metadata": {},
   "outputs": [
    {
     "name": "stdout",
     "output_type": "stream",
     "text": [
      "<class 'pandas.core.frame.DataFrame'>\n",
      "DatetimeIndex: 10886 entries, 2011-01-01 00:00:00 to 2012-12-19 23:00:00\n",
      "Data columns (total 11 columns):\n",
      " #   Column      Non-Null Count  Dtype  \n",
      "---  ------      --------------  -----  \n",
      " 0   season      10886 non-null  int64  \n",
      " 1   holiday     10886 non-null  int64  \n",
      " 2   workingday  10886 non-null  int64  \n",
      " 3   weather     10886 non-null  int64  \n",
      " 4   temp        10886 non-null  float64\n",
      " 5   atemp       10886 non-null  float64\n",
      " 6   humidity    10886 non-null  int64  \n",
      " 7   windspeed   10886 non-null  float64\n",
      " 8   casual      10886 non-null  int64  \n",
      " 9   registered  10886 non-null  int64  \n",
      " 10  count       10886 non-null  int64  \n",
      "dtypes: float64(3), int64(8)\n",
      "memory usage: 1020.6 KB\n"
     ]
    }
   ],
   "source": [
    "df_train.info()"
   ]
  },
  {
   "cell_type": "markdown",
   "id": "78787365",
   "metadata": {},
   "source": [
    "    datetime - date and hour\n",
    "    season - 1 = spring, 2 = summer, 3 = fall, 4 = winter\n",
    "    holiday - the day considered as bank holiday\n",
    "    workingday - neither weekend nor holiday\n",
    "    weather\n",
    "        1: Clear, Few clouds, Partly cloudy, Partly cloudy\n",
    "        2: Mist + Cloudy, Mist + Broken clouds, Mist + Few clouds, Mist\n",
    "        3: Light Snow, Light Rain + Thunderstorm + Scattered clouds, Light Rain + Scattered clouds\n",
    "        4: Heavy Rain + Ice Pallets + Thunderstorm + Mist, Snow + Fog\n",
    "    temp - temperature in Celsius\n",
    "    atemp - \"feels like\" temperature in Celsius\n",
    "    humidity - relative humidity\n",
    "    windspeed - wind speed\n",
    "    casual - number of non-registered user rentals initiated\n",
    "    registered - number of registered user rentals initiated\n",
    "    count - number of total rentals\n"
   ]
  },
  {
   "cell_type": "markdown",
   "id": "4353d4bf",
   "metadata": {},
   "source": [
    "### 4.2. Extracting datetime features from the DatetimeIndex"
   ]
  },
  {
   "cell_type": "code",
   "execution_count": 11,
   "id": "f0beecb7",
   "metadata": {},
   "outputs": [],
   "source": [
    "# Extracting hour, weekday, month and year from datetime \n",
    "df_train['hour'] = df_train.index.hour\n",
    "df_train['weekday'] = df_train.index.weekday\n",
    "df_train['month'] = df_train.index.month\n",
    "df_train['year'] = df_train.index.year"
   ]
  },
  {
   "cell_type": "code",
   "execution_count": 12,
   "id": "5d0fafea",
   "metadata": {},
   "outputs": [
    {
     "data": {
      "text/html": [
       "<div>\n",
       "<style scoped>\n",
       "    .dataframe tbody tr th:only-of-type {\n",
       "        vertical-align: middle;\n",
       "    }\n",
       "\n",
       "    .dataframe tbody tr th {\n",
       "        vertical-align: top;\n",
       "    }\n",
       "\n",
       "    .dataframe thead th {\n",
       "        text-align: right;\n",
       "    }\n",
       "</style>\n",
       "<table border=\"1\" class=\"dataframe\">\n",
       "  <thead>\n",
       "    <tr style=\"text-align: right;\">\n",
       "      <th></th>\n",
       "      <th>season</th>\n",
       "      <th>holiday</th>\n",
       "      <th>workingday</th>\n",
       "      <th>weather</th>\n",
       "      <th>temp</th>\n",
       "      <th>atemp</th>\n",
       "      <th>humidity</th>\n",
       "      <th>windspeed</th>\n",
       "      <th>casual</th>\n",
       "      <th>registered</th>\n",
       "      <th>count</th>\n",
       "      <th>hour</th>\n",
       "      <th>weekday</th>\n",
       "      <th>month</th>\n",
       "      <th>year</th>\n",
       "    </tr>\n",
       "    <tr>\n",
       "      <th>datetime</th>\n",
       "      <th></th>\n",
       "      <th></th>\n",
       "      <th></th>\n",
       "      <th></th>\n",
       "      <th></th>\n",
       "      <th></th>\n",
       "      <th></th>\n",
       "      <th></th>\n",
       "      <th></th>\n",
       "      <th></th>\n",
       "      <th></th>\n",
       "      <th></th>\n",
       "      <th></th>\n",
       "      <th></th>\n",
       "      <th></th>\n",
       "    </tr>\n",
       "  </thead>\n",
       "  <tbody>\n",
       "    <tr>\n",
       "      <th>2011-01-01 00:00:00</th>\n",
       "      <td>1</td>\n",
       "      <td>0</td>\n",
       "      <td>0</td>\n",
       "      <td>1</td>\n",
       "      <td>9.84</td>\n",
       "      <td>14.395</td>\n",
       "      <td>81</td>\n",
       "      <td>0.0</td>\n",
       "      <td>3</td>\n",
       "      <td>13</td>\n",
       "      <td>16</td>\n",
       "      <td>0</td>\n",
       "      <td>5</td>\n",
       "      <td>1</td>\n",
       "      <td>2011</td>\n",
       "    </tr>\n",
       "    <tr>\n",
       "      <th>2011-01-01 01:00:00</th>\n",
       "      <td>1</td>\n",
       "      <td>0</td>\n",
       "      <td>0</td>\n",
       "      <td>1</td>\n",
       "      <td>9.02</td>\n",
       "      <td>13.635</td>\n",
       "      <td>80</td>\n",
       "      <td>0.0</td>\n",
       "      <td>8</td>\n",
       "      <td>32</td>\n",
       "      <td>40</td>\n",
       "      <td>1</td>\n",
       "      <td>5</td>\n",
       "      <td>1</td>\n",
       "      <td>2011</td>\n",
       "    </tr>\n",
       "  </tbody>\n",
       "</table>\n",
       "</div>"
      ],
      "text/plain": [
       "                     season  holiday  workingday  weather  temp   atemp  \\\n",
       "datetime                                                                  \n",
       "2011-01-01 00:00:00       1        0           0        1  9.84  14.395   \n",
       "2011-01-01 01:00:00       1        0           0        1  9.02  13.635   \n",
       "\n",
       "                     humidity  windspeed  casual  registered  count  hour  \\\n",
       "datetime                                                                    \n",
       "2011-01-01 00:00:00        81        0.0       3          13     16     0   \n",
       "2011-01-01 01:00:00        80        0.0       8          32     40     1   \n",
       "\n",
       "                     weekday  month  year  \n",
       "datetime                                   \n",
       "2011-01-01 00:00:00        5      1  2011  \n",
       "2011-01-01 01:00:00        5      1  2011  "
      ]
     },
     "execution_count": 12,
     "metadata": {},
     "output_type": "execute_result"
    }
   ],
   "source": [
    "df_train.head(2)"
   ]
  },
  {
   "cell_type": "markdown",
   "id": "115949d4",
   "metadata": {},
   "source": [
    "### 4.3. Visualizing the relationships between single features and the target variable"
   ]
  },
  {
   "cell_type": "code",
   "execution_count": 13,
   "id": "e07034b1",
   "metadata": {},
   "outputs": [],
   "source": [
    "# aggregating data per month for visualization\n",
    "resampled = df_train.resample('M').sum()\n",
    "# resampled"
   ]
  },
  {
   "cell_type": "code",
   "execution_count": 14,
   "id": "28995eb3",
   "metadata": {},
   "outputs": [
    {
     "data": {
      "text/plain": [
       "<AxesSubplot:xlabel='workingday', ylabel='count'>"
      ]
     },
     "execution_count": 14,
     "metadata": {},
     "output_type": "execute_result"
    },
    {
     "data": {
      "image/png": "[encoded data removed]",
      "text/plain": [
       "<Figure size 1800x1440 with 6 Axes>"
      ]
     },
     "metadata": {
      "needs_background": "light"
     },
     "output_type": "display_data"
    }
   ],
   "source": [
    "# plotting time related variables \n",
    "plt.figure(figsize=(25,20))\n",
    "sns.set_theme()\n",
    "plt.subplot(3,2,1)\n",
    "sns.lineplot(data=resampled, x=resampled.index, y='count')\n",
    "plt.subplot(3,2,2)\n",
    "sns.barplot(data=df_train, x='month',y='count',estimator=np.mean)\n",
    "plt.subplot(3,2,3)\n",
    "sns.barplot(data=df_train,x='weekday',y='count',estimator=np.mean)\n",
    "plt.subplot(3,2,4)\n",
    "sns.lineplot(data=df_train,x='hour',y='count', marker='o', estimator=np.mean)\n",
    "plt.subplot(3,2,5)\n",
    "sns.barplot(data=df_train, x=\"holiday\", y=\"count\", estimator=np.mean)\n",
    "plt.subplot(3,2,6)\n",
    "sns.barplot(data=df_train, x=\"workingday\", y=\"count\",  estimator=np.mean)\n"
   ]
  },
  {
   "cell_type": "code",
   "execution_count": 15,
   "id": "30027b5a",
   "metadata": {
    "scrolled": false
   },
   "outputs": [
    {
     "data": {
      "text/plain": [
       "<AxesSubplot:xlabel='windspeed', ylabel='count'>"
      ]
     },
     "execution_count": 15,
     "metadata": {},
     "output_type": "execute_result"
    },
    {
     "data": {
      "image/png": "[encoded data removed]",
      "text/plain": [
       "<Figure size 1800x1440 with 6 Axes>"
      ]
     },
     "metadata": {},
     "output_type": "display_data"
    }
   ],
   "source": [
    "# Plotting weather related variables\n",
    "plt.figure(figsize=(25,20))\n",
    "sns.set_theme()\n",
    "plt.subplot(3,2,1)\n",
    "sns.barplot(x=\"season\", y=\"count\", data=df_train, estimator=np.mean)\n",
    "plt.subplot(3,2,2)\n",
    "sns.barplot(x=\"weather\", y=\"count\", data=df_train, estimator=np.sum)\n",
    "plt.subplot(3,2,3)\n",
    "sns.lineplot(x=\"temp\", y=\"count\", data=df_train)\n",
    "plt.subplot(3,2,4)\n",
    "sns.lineplot(x=\"atemp\", y=\"count\", data=df_train) \n",
    "plt.subplot(3,2,5)\n",
    "sns.lineplot(x=\"humidity\", y=\"count\", data=df_train) \n",
    "plt.subplot(3,2,6)\n",
    "sns.lineplot(x=\"windspeed\", y=\"count\", data=df_train)"
   ]
  },
  {
   "cell_type": "markdown",
   "id": "651aa419",
   "metadata": {},
   "source": [
    "### 4.4. Correlation / Multicollinearity"
   ]
  },
  {
   "cell_type": "code",
   "execution_count": 16,
   "id": "e45ac73f",
   "metadata": {},
   "outputs": [
    {
     "data": {
      "image/png": "[encoded data removed]",
      "text/plain": [
       "<Figure size 1440x864 with 2 Axes>"
      ]
     },
     "metadata": {},
     "output_type": "display_data"
    }
   ],
   "source": [
    "# Visualizing multicollinearity with Correlation Matrix\n",
    "plt.figure(figsize=(20,12)) \n",
    "ax = sns.heatmap(df_train.corr(),annot=True, cmap='coolwarm')\n",
    "ax.tick_params(axis='x', rotation=45)"
   ]
  },
  {
   "cell_type": "markdown",
   "id": "04e204a5",
   "metadata": {},
   "source": [
    "### 4.5. Feature Selection with Variance Inflation Factor "
   ]
  },
  {
   "cell_type": "code",
   "execution_count": 17,
   "id": "cc47ef54",
   "metadata": {},
   "outputs": [],
   "source": [
    "df_train_vif = df_train.drop(['casual', 'registered', 'count'], axis=1)\n",
    "vif_data = pd.DataFrame()\n",
    "vif_data[\"feature\"] = df_train_vif.columns"
   ]
  },
  {
   "cell_type": "code",
   "execution_count": 18,
   "id": "b393d7d8",
   "metadata": {},
   "outputs": [
    {
     "data": {
      "text/html": [
       "<div>\n",
       "<style scoped>\n",
       "    .dataframe tbody tr th:only-of-type {\n",
       "        vertical-align: middle;\n",
       "    }\n",
       "\n",
       "    .dataframe tbody tr th {\n",
       "        vertical-align: top;\n",
       "    }\n",
       "\n",
       "    .dataframe thead th {\n",
       "        text-align: right;\n",
       "    }\n",
       "</style>\n",
       "<table border=\"1\" class=\"dataframe\">\n",
       "  <thead>\n",
       "    <tr style=\"text-align: right;\">\n",
       "      <th></th>\n",
       "      <th>feature</th>\n",
       "    </tr>\n",
       "  </thead>\n",
       "  <tbody>\n",
       "    <tr>\n",
       "      <th>0</th>\n",
       "      <td>season</td>\n",
       "    </tr>\n",
       "    <tr>\n",
       "      <th>1</th>\n",
       "      <td>holiday</td>\n",
       "    </tr>\n",
       "    <tr>\n",
       "      <th>2</th>\n",
       "      <td>workingday</td>\n",
       "    </tr>\n",
       "    <tr>\n",
       "      <th>3</th>\n",
       "      <td>weather</td>\n",
       "    </tr>\n",
       "    <tr>\n",
       "      <th>4</th>\n",
       "      <td>temp</td>\n",
       "    </tr>\n",
       "    <tr>\n",
       "      <th>5</th>\n",
       "      <td>atemp</td>\n",
       "    </tr>\n",
       "    <tr>\n",
       "      <th>6</th>\n",
       "      <td>humidity</td>\n",
       "    </tr>\n",
       "    <tr>\n",
       "      <th>7</th>\n",
       "      <td>windspeed</td>\n",
       "    </tr>\n",
       "    <tr>\n",
       "      <th>8</th>\n",
       "      <td>hour</td>\n",
       "    </tr>\n",
       "    <tr>\n",
       "      <th>9</th>\n",
       "      <td>weekday</td>\n",
       "    </tr>\n",
       "    <tr>\n",
       "      <th>10</th>\n",
       "      <td>month</td>\n",
       "    </tr>\n",
       "    <tr>\n",
       "      <th>11</th>\n",
       "      <td>year</td>\n",
       "    </tr>\n",
       "  </tbody>\n",
       "</table>\n",
       "</div>"
      ],
      "text/plain": [
       "       feature\n",
       "0       season\n",
       "1      holiday\n",
       "2   workingday\n",
       "3      weather\n",
       "4         temp\n",
       "5        atemp\n",
       "6     humidity\n",
       "7    windspeed\n",
       "8         hour\n",
       "9      weekday\n",
       "10       month\n",
       "11        year"
      ]
     },
     "execution_count": 18,
     "metadata": {},
     "output_type": "execute_result"
    }
   ],
   "source": [
    "vif_data"
   ]
  },
  {
   "cell_type": "code",
   "execution_count": 19,
   "id": "d59b379d",
   "metadata": {},
   "outputs": [
    {
     "name": "stdout",
     "output_type": "stream",
     "text": [
      "       feature         VIF\n",
      "0       season  109.474112\n",
      "1      holiday    1.565106\n",
      "2   workingday    9.064293\n",
      "3      weather    7.508942\n",
      "4         temp  276.719498\n",
      "5        atemp  315.197703\n",
      "6     humidity   17.493027\n",
      "7    windspeed    4.161167\n",
      "8         hour    4.247420\n",
      "9      weekday    9.196941\n",
      "10       month   83.524540\n",
      "11        year   67.055738\n"
     ]
    }
   ],
   "source": [
    "# calculating VIF for each feature\n",
    "vif_data[\"VIF\"] = [variance_inflation_factor(df_train_vif.values, i)\n",
    "                          for i in range(len(df_train_vif.columns))]\n",
    "print(vif_data)"
   ]
  },
  {
   "cell_type": "code",
   "execution_count": 20,
   "id": "bcfd5cf1",
   "metadata": {},
   "outputs": [
    {
     "name": "stdout",
     "output_type": "stream",
     "text": [
      "       feature         VIF\n",
      "0       season  109.473980\n",
      "1      holiday    1.555623\n",
      "2   workingday    8.995152\n",
      "3      weather    7.501700\n",
      "4         temp    8.588453\n",
      "5     humidity   17.444028\n",
      "6    windspeed    3.992635\n",
      "7         hour    4.242934\n",
      "8      weekday    9.130404\n",
      "9        month   83.521942\n",
      "10        year   63.049357\n"
     ]
    }
   ],
   "source": [
    "df_train_vif = df_train.drop(['casual', 'registered', 'count', 'atemp'], axis=1)\n",
    "vif_data = pd.DataFrame()\n",
    "vif_data[\"feature\"] = df_train_vif.columns\n",
    "vif_data[\"VIF\"] = [variance_inflation_factor(df_train_vif.values, i)\n",
    "                          for i in range(len(df_train_vif.columns))]\n",
    "print(vif_data)"
   ]
  },
  {
   "cell_type": "code",
   "execution_count": 21,
   "id": "dbe5e840",
   "metadata": {},
   "outputs": [
    {
     "name": "stdout",
     "output_type": "stream",
     "text": [
      "      feature        VIF\n",
      "0     holiday   1.542563\n",
      "1  workingday   8.994986\n",
      "2     weather   7.501312\n",
      "3        temp   8.578762\n",
      "4    humidity  17.420442\n",
      "5   windspeed   3.991422\n",
      "6        hour   4.242130\n",
      "7     weekday   9.129221\n",
      "8       month   5.245527\n",
      "9        year  59.644012\n"
     ]
    }
   ],
   "source": [
    "df_train_vif = df_train.drop(['casual', 'registered', 'count', 'atemp', 'season'], axis=1)\n",
    "vif_data = pd.DataFrame()\n",
    "vif_data[\"feature\"] = df_train_vif.columns\n",
    "vif_data[\"VIF\"] = [variance_inflation_factor(df_train_vif.values, i)\n",
    "                          for i in range(len(df_train_vif.columns))]\n",
    "print(vif_data)"
   ]
  },
  {
   "cell_type": "code",
   "execution_count": 22,
   "id": "a34644c6",
   "metadata": {
    "scrolled": true
   },
   "outputs": [
    {
     "name": "stdout",
     "output_type": "stream",
     "text": [
      "      feature        VIF\n",
      "0     holiday   1.293959\n",
      "1  workingday   5.460216\n",
      "2     weather   7.469605\n",
      "3        temp   7.728628\n",
      "4    humidity  12.879300\n",
      "5   windspeed   3.464645\n",
      "6        hour   3.925416\n",
      "7     weekday   5.321123\n",
      "8       month   5.203902\n"
     ]
    }
   ],
   "source": [
    "df_train_vif = df_train.drop(['casual', 'registered', 'count', 'atemp', 'season', 'year'], axis=1)\n",
    "vif_data = pd.DataFrame()\n",
    "vif_data[\"feature\"] = df_train_vif.columns\n",
    "vif_data[\"VIF\"] = [variance_inflation_factor(df_train_vif.values, i)\n",
    "                          for i in range(len(df_train_vif.columns))]\n",
    "print(vif_data)"
   ]
  },
  {
   "cell_type": "code",
   "execution_count": 23,
   "id": "c8759516",
   "metadata": {},
   "outputs": [
    {
     "name": "stdout",
     "output_type": "stream",
     "text": [
      "      feature       VIF\n",
      "0     holiday  1.229364\n",
      "1  workingday  4.629651\n",
      "2     weather  5.199962\n",
      "3        temp  7.637529\n",
      "4   windspeed  3.386943\n",
      "5        hour  3.845362\n",
      "6     weekday  4.411835\n",
      "7       month  4.771238\n"
     ]
    }
   ],
   "source": [
    "df_train_vif = df_train.drop(['casual', 'registered', 'count', 'atemp', 'season', 'year', 'humidity'], axis=1)\n",
    "vif_data = pd.DataFrame()\n",
    "vif_data[\"feature\"] = df_train_vif.columns\n",
    "vif_data[\"VIF\"] = [variance_inflation_factor(df_train_vif.values, i)\n",
    "                          for i in range(len(df_train_vif.columns))]\n",
    "print(vif_data)"
   ]
  },
  {
   "cell_type": "markdown",
   "id": "f5997acb",
   "metadata": {},
   "source": [
    "Result of VIF: drop 'atemp', 'season', 'year', 'humidity'"
   ]
  },
  {
   "cell_type": "markdown",
   "id": "db5c9a76",
   "metadata": {},
   "source": [
    "### 4.6. Assigning X and y for training"
   ]
  },
  {
   "cell_type": "code",
   "execution_count": 24,
   "id": "4417802c",
   "metadata": {},
   "outputs": [],
   "source": [
    "# we want to predict count, so this will be y. We also drop casual and registered from X, since their sum is the number we want to predict. \n",
    "# 'season', 'atemp' is dropped due to VIF\n",
    "X = df_train.drop(['casual','registered', 'count', 'season', 'atemp'], axis=1)\n",
    "y = df_train['count']"
   ]
  },
  {
   "cell_type": "markdown",
   "id": "fef05f70",
   "metadata": {},
   "source": [
    "### 4.7.  Train-test split X and y data"
   ]
  },
  {
   "cell_type": "code",
   "execution_count": 25,
   "id": "9ed23af0",
   "metadata": {},
   "outputs": [],
   "source": [
    "X_train, X_test, y_train, y_test = train_test_split(X, y, test_size=0.20, random_state=101)"
   ]
  },
  {
   "cell_type": "code",
   "execution_count": 26,
   "id": "49a66daa",
   "metadata": {
    "scrolled": false
   },
   "outputs": [
    {
     "data": {
      "text/html": [
       "<div>\n",
       "<style scoped>\n",
       "    .dataframe tbody tr th:only-of-type {\n",
       "        vertical-align: middle;\n",
       "    }\n",
       "\n",
       "    .dataframe tbody tr th {\n",
       "        vertical-align: top;\n",
       "    }\n",
       "\n",
       "    .dataframe thead th {\n",
       "        text-align: right;\n",
       "    }\n",
       "</style>\n",
       "<table border=\"1\" class=\"dataframe\">\n",
       "  <thead>\n",
       "    <tr style=\"text-align: right;\">\n",
       "      <th></th>\n",
       "      <th>holiday</th>\n",
       "      <th>workingday</th>\n",
       "      <th>weather</th>\n",
       "      <th>temp</th>\n",
       "      <th>humidity</th>\n",
       "      <th>windspeed</th>\n",
       "      <th>hour</th>\n",
       "      <th>weekday</th>\n",
       "      <th>month</th>\n",
       "      <th>year</th>\n",
       "    </tr>\n",
       "    <tr>\n",
       "      <th>datetime</th>\n",
       "      <th></th>\n",
       "      <th></th>\n",
       "      <th></th>\n",
       "      <th></th>\n",
       "      <th></th>\n",
       "      <th></th>\n",
       "      <th></th>\n",
       "      <th></th>\n",
       "      <th></th>\n",
       "      <th></th>\n",
       "    </tr>\n",
       "  </thead>\n",
       "  <tbody>\n",
       "    <tr>\n",
       "      <th>2011-06-18 19:00:00</th>\n",
       "      <td>0</td>\n",
       "      <td>0</td>\n",
       "      <td>2</td>\n",
       "      <td>30.34</td>\n",
       "      <td>51</td>\n",
       "      <td>7.0015</td>\n",
       "      <td>19</td>\n",
       "      <td>5</td>\n",
       "      <td>6</td>\n",
       "      <td>2011</td>\n",
       "    </tr>\n",
       "    <tr>\n",
       "      <th>2012-09-08 17:00:00</th>\n",
       "      <td>0</td>\n",
       "      <td>0</td>\n",
       "      <td>3</td>\n",
       "      <td>23.78</td>\n",
       "      <td>83</td>\n",
       "      <td>12.9980</td>\n",
       "      <td>17</td>\n",
       "      <td>5</td>\n",
       "      <td>9</td>\n",
       "      <td>2012</td>\n",
       "    </tr>\n",
       "    <tr>\n",
       "      <th>2011-05-01 17:00:00</th>\n",
       "      <td>0</td>\n",
       "      <td>0</td>\n",
       "      <td>2</td>\n",
       "      <td>19.68</td>\n",
       "      <td>82</td>\n",
       "      <td>16.9979</td>\n",
       "      <td>17</td>\n",
       "      <td>6</td>\n",
       "      <td>5</td>\n",
       "      <td>2011</td>\n",
       "    </tr>\n",
       "    <tr>\n",
       "      <th>2012-11-19 00:00:00</th>\n",
       "      <td>0</td>\n",
       "      <td>1</td>\n",
       "      <td>1</td>\n",
       "      <td>14.76</td>\n",
       "      <td>66</td>\n",
       "      <td>15.0013</td>\n",
       "      <td>0</td>\n",
       "      <td>0</td>\n",
       "      <td>11</td>\n",
       "      <td>2012</td>\n",
       "    </tr>\n",
       "    <tr>\n",
       "      <th>2011-05-16 09:00:00</th>\n",
       "      <td>0</td>\n",
       "      <td>1</td>\n",
       "      <td>1</td>\n",
       "      <td>24.60</td>\n",
       "      <td>69</td>\n",
       "      <td>12.9980</td>\n",
       "      <td>9</td>\n",
       "      <td>0</td>\n",
       "      <td>5</td>\n",
       "      <td>2011</td>\n",
       "    </tr>\n",
       "    <tr>\n",
       "      <th>...</th>\n",
       "      <td>...</td>\n",
       "      <td>...</td>\n",
       "      <td>...</td>\n",
       "      <td>...</td>\n",
       "      <td>...</td>\n",
       "      <td>...</td>\n",
       "      <td>...</td>\n",
       "      <td>...</td>\n",
       "      <td>...</td>\n",
       "      <td>...</td>\n",
       "    </tr>\n",
       "    <tr>\n",
       "      <th>2011-02-08 03:00:00</th>\n",
       "      <td>0</td>\n",
       "      <td>1</td>\n",
       "      <td>3</td>\n",
       "      <td>11.48</td>\n",
       "      <td>93</td>\n",
       "      <td>11.0014</td>\n",
       "      <td>3</td>\n",
       "      <td>1</td>\n",
       "      <td>2</td>\n",
       "      <td>2011</td>\n",
       "    </tr>\n",
       "    <tr>\n",
       "      <th>2012-01-12 11:00:00</th>\n",
       "      <td>0</td>\n",
       "      <td>1</td>\n",
       "      <td>2</td>\n",
       "      <td>13.94</td>\n",
       "      <td>81</td>\n",
       "      <td>7.0015</td>\n",
       "      <td>11</td>\n",
       "      <td>3</td>\n",
       "      <td>1</td>\n",
       "      <td>2012</td>\n",
       "    </tr>\n",
       "    <tr>\n",
       "      <th>2012-06-13 23:00:00</th>\n",
       "      <td>0</td>\n",
       "      <td>1</td>\n",
       "      <td>1</td>\n",
       "      <td>25.42</td>\n",
       "      <td>50</td>\n",
       "      <td>19.0012</td>\n",
       "      <td>23</td>\n",
       "      <td>2</td>\n",
       "      <td>6</td>\n",
       "      <td>2012</td>\n",
       "    </tr>\n",
       "    <tr>\n",
       "      <th>2011-04-02 14:00:00</th>\n",
       "      <td>0</td>\n",
       "      <td>0</td>\n",
       "      <td>3</td>\n",
       "      <td>13.12</td>\n",
       "      <td>76</td>\n",
       "      <td>22.0028</td>\n",
       "      <td>14</td>\n",
       "      <td>5</td>\n",
       "      <td>4</td>\n",
       "      <td>2011</td>\n",
       "    </tr>\n",
       "    <tr>\n",
       "      <th>2011-04-10 08:00:00</th>\n",
       "      <td>0</td>\n",
       "      <td>0</td>\n",
       "      <td>2</td>\n",
       "      <td>15.58</td>\n",
       "      <td>94</td>\n",
       "      <td>6.0032</td>\n",
       "      <td>8</td>\n",
       "      <td>6</td>\n",
       "      <td>4</td>\n",
       "      <td>2011</td>\n",
       "    </tr>\n",
       "  </tbody>\n",
       "</table>\n",
       "<p>8708 rows × 10 columns</p>\n",
       "</div>"
      ],
      "text/plain": [
       "                     holiday  workingday  weather   temp  humidity  windspeed  \\\n",
       "datetime                                                                        \n",
       "2011-06-18 19:00:00        0           0        2  30.34        51     7.0015   \n",
       "2012-09-08 17:00:00        0           0        3  23.78        83    12.9980   \n",
       "2011-05-01 17:00:00        0           0        2  19.68        82    16.9979   \n",
       "2012-11-19 00:00:00        0           1        1  14.76        66    15.0013   \n",
       "2011-05-16 09:00:00        0           1        1  24.60        69    12.9980   \n",
       "...                      ...         ...      ...    ...       ...        ...   \n",
       "2011-02-08 03:00:00        0           1        3  11.48        93    11.0014   \n",
       "2012-01-12 11:00:00        0           1        2  13.94        81     7.0015   \n",
       "2012-06-13 23:00:00        0           1        1  25.42        50    19.0012   \n",
       "2011-04-02 14:00:00        0           0        3  13.12        76    22.0028   \n",
       "2011-04-10 08:00:00        0           0        2  15.58        94     6.0032   \n",
       "\n",
       "                     hour  weekday  month  year  \n",
       "datetime                                         \n",
       "2011-06-18 19:00:00    19        5      6  2011  \n",
       "2012-09-08 17:00:00    17        5      9  2012  \n",
       "2011-05-01 17:00:00    17        6      5  2011  \n",
       "2012-11-19 00:00:00     0        0     11  2012  \n",
       "2011-05-16 09:00:00     9        0      5  2011  \n",
       "...                   ...      ...    ...   ...  \n",
       "2011-02-08 03:00:00     3        1      2  2011  \n",
       "2012-01-12 11:00:00    11        3      1  2012  \n",
       "2012-06-13 23:00:00    23        2      6  2012  \n",
       "2011-04-02 14:00:00    14        5      4  2011  \n",
       "2011-04-10 08:00:00     8        6      4  2011  \n",
       "\n",
       "[8708 rows x 10 columns]"
      ]
     },
     "execution_count": 26,
     "metadata": {},
     "output_type": "execute_result"
    }
   ],
   "source": [
    "X_train"
   ]
  },
  {
   "cell_type": "code",
   "execution_count": 27,
   "id": "922ea728",
   "metadata": {},
   "outputs": [
    {
     "data": {
      "text/plain": [
       "datetime\n",
       "2011-06-18 19:00:00    326\n",
       "2012-09-08 17:00:00    171\n",
       "2011-05-01 17:00:00    196\n",
       "2012-11-19 00:00:00     27\n",
       "2011-05-16 09:00:00    194\n",
       "                      ... \n",
       "2011-02-08 03:00:00      1\n",
       "2012-01-12 11:00:00    119\n",
       "2012-06-13 23:00:00    153\n",
       "2011-04-02 14:00:00    190\n",
       "2011-04-10 08:00:00     55\n",
       "Name: count, Length: 8708, dtype: int64"
      ]
     },
     "execution_count": 27,
     "metadata": {},
     "output_type": "execute_result"
    }
   ],
   "source": [
    "y_train"
   ]
  },
  {
   "cell_type": "markdown",
   "id": "2089adb8",
   "metadata": {},
   "source": [
    "### 4.8. Checking Missing Values:"
   ]
  },
  {
   "cell_type": "code",
   "execution_count": 28,
   "id": "062961a9",
   "metadata": {},
   "outputs": [
    {
     "data": {
      "text/plain": [
       "holiday       0\n",
       "workingday    0\n",
       "weather       0\n",
       "temp          0\n",
       "humidity      0\n",
       "windspeed     0\n",
       "hour          0\n",
       "weekday       0\n",
       "month         0\n",
       "year          0\n",
       "dtype: int64"
      ]
     },
     "execution_count": 28,
     "metadata": {},
     "output_type": "execute_result"
    }
   ],
   "source": [
    "X.isna().sum()"
   ]
  },
  {
   "cell_type": "markdown",
   "id": "f164b2bc",
   "metadata": {},
   "source": [
    "There are no missing values, therefore no need for dropna or impute"
   ]
  },
  {
   "cell_type": "markdown",
   "id": "435624dd",
   "metadata": {},
   "source": [
    "## 5. Feature Engineering with ColumnTransformer"
   ]
  },
  {
   "cell_type": "markdown",
   "id": "8298269c",
   "metadata": {},
   "source": [
    "    \n",
    "    holiday     0, 1 OneHotEncoder\n",
    "    workingday 0, 1 OneHotEncoder\n",
    "    weather     1-3 OneHotEncoder    \n",
    "    temp        cont. numerical Scaling\n",
    "    humidity    cont. numerical Scaling\n",
    "    windspeed   cont. numerical Scaling\n",
    "    hour        0-23 Scaling\n",
    "    weekday     0-6 OneHotEncoder\n",
    "    month       0-11 OneHotEncoder\n",
    "    year        2011, 2012 OneHotEncoder\n",
    "   \n",
    "    OneHotEncoder: holiday, workingday, weather, weekday, month, year\n",
    "    MinMaxScaler: temp, humidity, windspeed, hour"
   ]
  },
  {
   "cell_type": "code",
   "execution_count": 35,
   "id": "47b6715b",
   "metadata": {},
   "outputs": [],
   "source": [
    "column_transformer = ColumnTransformer([\n",
    "    ('cat_ohe', OneHotEncoder(handle_unknown = 'ignore'), ['holiday', 'workingday', 'weather', 'weekday', 'month', 'year']),\n",
    "    ('num_scaler', MinMaxScaler(), ['temp', 'humidity', 'windspeed', 'hour']) \n",
    "])"
   ]
  },
  {
   "cell_type": "code",
   "execution_count": 36,
   "id": "a51ee65a",
   "metadata": {
    "scrolled": true
   },
   "outputs": [
    {
     "data": {
      "text/plain": [
       "ColumnTransformer(transformers=[('cat_ohe',\n",
       "                                 OneHotEncoder(handle_unknown='ignore'),\n",
       "                                 ['holiday', 'workingday', 'weather', 'weekday',\n",
       "                                  'month', 'year']),\n",
       "                                ('num_scaler', MinMaxScaler(),\n",
       "                                 ['temp', 'humidity', 'windspeed', 'hour'])])"
      ]
     },
     "execution_count": 36,
     "metadata": {},
     "output_type": "execute_result"
    }
   ],
   "source": [
    "column_transformer.fit(X_train)"
   ]
  },
  {
   "cell_type": "code",
   "execution_count": 37,
   "id": "170a9c56",
   "metadata": {},
   "outputs": [],
   "source": [
    "X_train_fe = column_transformer.transform(X_train)\n",
    "X_test_fe = column_transformer.transform(X_test)"
   ]
  },
  {
   "cell_type": "markdown",
   "id": "ec2276b3",
   "metadata": {},
   "source": [
    "## 6. Training Models"
   ]
  },
  {
   "cell_type": "markdown",
   "id": "74ead88c",
   "metadata": {},
   "source": [
    "### 6.1. Linear Regression "
   ]
  },
  {
   "cell_type": "code",
   "execution_count": 38,
   "id": "163382cc",
   "metadata": {},
   "outputs": [],
   "source": [
    "# Poission Regression is a linear regression model that was designed for handling count data \n",
    "# The alpha parameter specifies the regularization strength\n",
    "PoReg = PoissonRegressor(alpha=1, max_iter=1000)"
   ]
  },
  {
   "cell_type": "code",
   "execution_count": 39,
   "id": "f424491a",
   "metadata": {},
   "outputs": [
    {
     "data": {
      "text/plain": [
       "PoissonRegressor(alpha=1, max_iter=1000)"
      ]
     },
     "execution_count": 39,
     "metadata": {},
     "output_type": "execute_result"
    }
   ],
   "source": [
    "PoReg.fit(X_train_fe, y_train)"
   ]
  },
  {
   "cell_type": "code",
   "execution_count": 40,
   "id": "656181d1",
   "metadata": {},
   "outputs": [
    {
     "data": {
      "text/plain": [
       "0.4348493190705195"
      ]
     },
     "execution_count": 40,
     "metadata": {},
     "output_type": "execute_result"
    }
   ],
   "source": [
    "PoReg.score(X_train_fe, y_train)"
   ]
  },
  {
   "cell_type": "code",
   "execution_count": 41,
   "id": "f1f80bfc",
   "metadata": {},
   "outputs": [
    {
     "data": {
      "text/plain": [
       "0.4286784637118618"
      ]
     },
     "execution_count": 41,
     "metadata": {},
     "output_type": "execute_result"
    }
   ],
   "source": [
    "PoReg.score(X_test_fe, y_test)"
   ]
  },
  {
   "cell_type": "code",
   "execution_count": 42,
   "id": "361f1f7a",
   "metadata": {
    "scrolled": true
   },
   "outputs": [
    {
     "data": {
      "text/plain": [
       "(array([ 6.10666473e-04, -6.07675312e-04, -1.53576470e-03,  1.53875586e-03,\n",
       "         6.79598811e-02,  1.03698884e-01, -1.71655774e-01, -2.98201202e-02,\n",
       "        -5.32495137e-03, -2.19452187e-03,  1.43584550e-02,  2.39122190e-02,\n",
       "         3.41996357e-02, -3.51277251e-02, -3.74164153e-01, -2.87152758e-01,\n",
       "        -1.56060403e-01, -5.30921949e-02,  1.32734189e-01,  1.72878051e-02,\n",
       "        -1.24480337e-01, -4.58558755e-02,  1.67032382e-01,  2.74233313e-01,\n",
       "         2.05347321e-01,  2.44173702e-01, -2.17169382e-01,  2.17172373e-01,\n",
       "         1.32318706e+00, -9.52141074e-01,  2.33019841e-01,  1.02465625e+00]),\n",
       " 4.402288718422121)"
      ]
     },
     "execution_count": 42,
     "metadata": {},
     "output_type": "execute_result"
    }
   ],
   "source": [
    "PoReg.coef_, PoReg.intercept_"
   ]
  },
  {
   "cell_type": "code",
   "execution_count": 43,
   "id": "c3dc8b0b",
   "metadata": {},
   "outputs": [],
   "source": [
    "# Prediction:\n",
    "y_pred_PoReg = PoReg.predict(X_test_fe)"
   ]
  },
  {
   "cell_type": "code",
   "execution_count": 191,
   "id": "c31fe6ba",
   "metadata": {},
   "outputs": [
    {
     "name": "stdout",
     "output_type": "stream",
     "text": [
      "r2 score = 0.3992720647951974\n",
      "root mean squared error = 138.03921172115597\n",
      "Kaggle score= 1.1971709368316348\n"
     ]
    }
   ],
   "source": [
    "r2_PoReg = r2_score(y_test, y_pred_PoReg)\n",
    "rmse_PoReg = mean_squared_error(y_test, y_pred_PoReg, squared=False)\n",
    "rmsle_PoReg = mean_squared_log_error(y_test, y_pred_PoReg, squared=False)\n",
    "\n",
    "print(\"r2 score =\", r2_PoReg)\n",
    "print(\"root mean squared error =\", rmse_PoReg)\n",
    "print(\"Kaggle score=\", rmsle_PoReg)"
   ]
  },
  {
   "cell_type": "markdown",
   "id": "2e5c1f88",
   "metadata": {},
   "source": [
    "### 6.2. Linear regression With Polynomial Features"
   ]
  },
  {
   "cell_type": "code",
   "execution_count": 46,
   "id": "91b31a7b",
   "metadata": {},
   "outputs": [],
   "source": [
    "# PolynomialFeatures: square or higher powers of an existing feature.\n",
    "PoFe = PolynomialFeatures(degree=3)"
   ]
  },
  {
   "cell_type": "code",
   "execution_count": 47,
   "id": "40d53a67",
   "metadata": {},
   "outputs": [],
   "source": [
    "X_train_fe_PoFe = PoFe.fit_transform(X_train_fe)\n",
    "X_test_fe_PoFe = PoFe.fit_transform(X_test_fe)"
   ]
  },
  {
   "cell_type": "code",
   "execution_count": 48,
   "id": "d4c66db6",
   "metadata": {},
   "outputs": [
    {
     "data": {
      "text/plain": [
       "PoissonRegressor(alpha=1, max_iter=1000)"
      ]
     },
     "execution_count": 48,
     "metadata": {},
     "output_type": "execute_result"
    }
   ],
   "source": [
    "# fit transformed data on Poisson Regression model\n",
    "PoReg.fit(X_train_fe_PoFe, y_train)"
   ]
  },
  {
   "cell_type": "code",
   "execution_count": 49,
   "id": "39dee18b",
   "metadata": {},
   "outputs": [
    {
     "data": {
      "text/plain": [
       "0.6665018567983033"
      ]
     },
     "execution_count": 49,
     "metadata": {},
     "output_type": "execute_result"
    }
   ],
   "source": [
    "# the model score improved with Polinomial Features \n",
    "PoReg.score(X_train_fe_PoFe, y_train)"
   ]
  },
  {
   "cell_type": "code",
   "execution_count": 50,
   "id": "d1711080",
   "metadata": {},
   "outputs": [
    {
     "data": {
      "text/plain": [
       "0.6483354053622392"
      ]
     },
     "execution_count": 50,
     "metadata": {},
     "output_type": "execute_result"
    }
   ],
   "source": [
    "PoReg.score(X_test_fe_PoFe, y_test)"
   ]
  },
  {
   "cell_type": "code",
   "execution_count": 51,
   "id": "4a06da0c",
   "metadata": {},
   "outputs": [],
   "source": [
    "y_pred_PoFe = PoReg.predict(X_test_fe_PoFe)"
   ]
  },
  {
   "cell_type": "code",
   "execution_count": 193,
   "id": "127c64cb",
   "metadata": {},
   "outputs": [
    {
     "name": "stdout",
     "output_type": "stream",
     "text": [
      "r2 score = 0.6160000302088566\n",
      "root mean squared error = 110.36443686096189\n",
      "Kaggle score= 0.9794522207870867\n"
     ]
    }
   ],
   "source": [
    "r2_PoFe = r2_score(y_test, y_pred_PoFe)\n",
    "rmse_PoFe = mean_squared_error(y_test, y_pred_PoFe, squared=False)\n",
    "rmsle_PoFe = mean_squared_log_error(y_test, y_pred_PoFe, squared=False)\n",
    "\n",
    "print(\"r2 score =\", r2_PoFe)\n",
    "print(\"root mean squared error =\", rmse_PoFe)\n",
    "print(\"Kaggle score=\", rmsle_PoFe)"
   ]
  },
  {
   "cell_type": "markdown",
   "id": "5c531516",
   "metadata": {},
   "source": [
    "### 6.3. Regularization"
   ]
  },
  {
   "cell_type": "code",
   "execution_count": 54,
   "id": "eb0b0de4",
   "metadata": {},
   "outputs": [],
   "source": [
    "# linear regressors with regularization reducing overfitting\n",
    "# Ridge L2: penalizes the square of coefficients\n",
    "# Lasso L1: penalizes the absolute coefficients\n",
    "\n",
    "m_ridge = Ridge(alpha=2.0)\n",
    "m_lasso = Lasso(alpha=2.0)"
   ]
  },
  {
   "cell_type": "code",
   "execution_count": 55,
   "id": "1c4cc674",
   "metadata": {},
   "outputs": [
    {
     "data": {
      "text/plain": [
       "Ridge(alpha=2.0)"
      ]
     },
     "execution_count": 55,
     "metadata": {},
     "output_type": "execute_result"
    }
   ],
   "source": [
    "m_lasso.fit(X_train_fe_PoFe, y_train)"
   ]
  },
  {
   "cell_type": "code",
   "execution_count": 56,
   "id": "e5429273",
   "metadata": {},
   "outputs": [
    {
     "data": {
      "text/plain": [
       "Lasso(alpha=2.0)"
      ]
     },
     "execution_count": 56,
     "metadata": {},
     "output_type": "execute_result"
    }
   ],
   "source": [
    "m_lasso.fit(X_train_fe_PoFe, y_train) "
   ]
  },
  {
   "cell_type": "code",
   "execution_count": 58,
   "id": "f2c23460",
   "metadata": {},
   "outputs": [
    {
     "data": {
      "text/plain": [
       "0.6676730504334913"
      ]
     },
     "execution_count": 58,
     "metadata": {},
     "output_type": "execute_result"
    }
   ],
   "source": [
    "m_ridge.score(X_train_fe_PoFe, y_train)"
   ]
  },
  {
   "cell_type": "code",
   "execution_count": 59,
   "id": "61cf0a19",
   "metadata": {},
   "outputs": [
    {
     "data": {
      "text/plain": [
       "0.503352780903447"
      ]
     },
     "execution_count": 59,
     "metadata": {},
     "output_type": "execute_result"
    }
   ],
   "source": [
    "m_lasso.score(X_train_fe_PoFe, y_train)"
   ]
  },
  {
   "cell_type": "code",
   "execution_count": 183,
   "id": "2e9a30a1",
   "metadata": {},
   "outputs": [],
   "source": [
    "y_pred_ridge = m_ridge.predict(X_test_fe_PoFe)\n",
    "y_pred_lasso = m_lasso.predict(X_test_fe_PoFe)"
   ]
  },
  {
   "cell_type": "code",
   "execution_count": 184,
   "id": "07d6a37f",
   "metadata": {},
   "outputs": [],
   "source": [
    "# this needs becaused at rmsle ValueError: Mean Squared Logarithmic Error cannot be used when targets contain negative values.\n",
    "y_pred_ridge[y_pred_ridge < 0] = 0\n",
    "assert all(y_pred_ridge >= 0)"
   ]
  },
  {
   "cell_type": "code",
   "execution_count": 185,
   "id": "5b45fb8b",
   "metadata": {},
   "outputs": [],
   "source": [
    "# this needs becaused at rmsle ValueError: Mean Squared Logarithmic Error cannot be used when targets contain negative values.\n",
    "y_pred_lasso[y_pred_lasso < 0] = 0\n",
    "assert all(y_pred_lasso >= 0)"
   ]
  },
  {
   "cell_type": "code",
   "execution_count": 186,
   "id": "f4d61d2c",
   "metadata": {},
   "outputs": [
    {
     "name": "stdout",
     "output_type": "stream",
     "text": [
      "r2 score = 0.6211841210817628\n",
      "root mean squared error = 109.61693234981519\n",
      "Kaggle score= 1.3010042928935825\n"
     ]
    }
   ],
   "source": [
    "r2_ridge = r2_score(y_test, y_pred_ridge)\n",
    "rmse_ridge = mean_squared_error(y_test, y_pred_ridge, squared=False)\n",
    "rmsle_ridge = mean_squared_log_error(y_test, y_pred_ridge, squared=False)\n",
    "\n",
    "print(\"r2 score =\", r2_ridge)\n",
    "print(\"root mean squared error =\", rmse_ridge)\n",
    "print(\"Kaggle score=\", rmsle_ridge)"
   ]
  },
  {
   "cell_type": "code",
   "execution_count": 187,
   "metadata": {},
   "outputs": [
    {
     "name": "stdout",
     "output_type": "stream",
     "text": [
      "r2 score = 0.5067528071010055\n",
      "root mean squared error = 125.08230267447286\n",
      "Kaggle score= 1.154654301968492\n"
     ]
    }
   ],
   "source": [
    "r2_lasso = r2_score(y_test, y_pred_lasso)\n",
    "rmse_lasso = mean_squared_error(y_test, y_pred_lasso, squared=False)\n",
    "rmsle_lasso = mean_squared_log_error(y_test, y_pred_lasso, squared=False)\n",
    "\n",
    "print(\"r2 score =\", r2_lasso)\n",
    "print(\"root mean squared error =\", rmse_lasso)\n",
    "print(\"Kaggle score=\", rmsle_lasso)"
   ]
  },
  {
   "cell_type": "markdown",
   "id": "516dbb1f",
   "metadata": {},
   "source": [
    "### 6.4. RandomForest Regression "
   ]
  },
  {
   "cell_type": "code",
   "execution_count": 246,
   "id": "100fdadc",
   "metadata": {},
   "outputs": [],
   "source": [
    "RaFo = RandomForestRegressor(random_state = 1)"
   ]
  },
  {
   "cell_type": "code",
   "execution_count": 247,
   "id": "d400ec62",
   "metadata": {},
   "outputs": [
    {
     "data": {
      "text/plain": [
       "RandomForestRegressor(random_state=1)"
      ]
     },
     "execution_count": 247,
     "metadata": {},
     "output_type": "execute_result"
    }
   ],
   "source": [
    "RaFo.fit(X_train_fe, y_train)"
   ]
  },
  {
   "cell_type": "code",
   "execution_count": 251,
   "id": "3096f4a3",
   "metadata": {},
   "outputs": [
    {
     "data": {
      "text/plain": [
       "0.9919920803747684"
      ]
     },
     "execution_count": 251,
     "metadata": {},
     "output_type": "execute_result"
    }
   ],
   "source": [
    "RaFo.score(X_train_fe, y_train)"
   ]
  },
  {
   "cell_type": "code",
   "execution_count": 252,
   "id": "4de5a968",
   "metadata": {},
   "outputs": [
    {
     "data": {
      "text/plain": [
       "0.9366403874369463"
      ]
     },
     "execution_count": 252,
     "metadata": {},
     "output_type": "execute_result"
    }
   ],
   "source": [
    "RaFo.score(X_test_fe, y_test)"
   ]
  },
  {
   "cell_type": "code",
   "execution_count": 253,
   "id": "7bf81ea4",
   "metadata": {},
   "outputs": [],
   "source": [
    "y_pred_RaFo = RaFo.predict(X_test_fe) "
   ]
  },
  {
   "cell_type": "code",
   "execution_count": 255,
   "id": "6cb2c429",
   "metadata": {},
   "outputs": [
    {
     "name": "stdout",
     "output_type": "stream",
     "text": [
      "r2 score = 0.9366403874369463\n",
      "root mean squared error = 44.83011087624873\n",
      "Kaggle score= 0.36720657078855906\n"
     ]
    }
   ],
   "source": [
    "r2_RaFo = r2_score(y_test, y_pred_RaFo )\n",
    "rmse_RaFo = mean_squared_error(y_test, y_pred_RaFo , squared=False)\n",
    "rmsle_RaFo = mean_squared_log_error(y_test, y_pred_RaFo, squared=False)\n",
    "\n",
    "print(\"r2 score =\", r2_RaFo)\n",
    "print(\"root mean squared error =\", rmse_RaFo)\n",
    "print(\"Kaggle score=\", rmsle_RaFo)"
   ]
  },
  {
   "cell_type": "markdown",
   "id": "ea0c373f",
   "metadata": {},
   "source": [
    "### 6.5. Hyperparameter Optimization"
   ]
  },
  {
   "cell_type": "code",
   "execution_count": 67,
   "id": "e98290a6",
   "metadata": {},
   "outputs": [],
   "source": [
    "RaFo = RandomForestRegressor(random_state = 1)"
   ]
  },
  {
   "cell_type": "code",
   "execution_count": 68,
   "id": "76689948",
   "metadata": {},
   "outputs": [
    {
     "data": {
      "text/plain": [
       "dict_keys(['bootstrap', 'ccp_alpha', 'criterion', 'max_depth', 'max_features', 'max_leaf_nodes', 'max_samples', 'min_impurity_decrease', 'min_samples_leaf', 'min_samples_split', 'min_weight_fraction_leaf', 'n_estimators', 'n_jobs', 'oob_score', 'random_state', 'verbose', 'warm_start'])"
      ]
     },
     "execution_count": 68,
     "metadata": {},
     "output_type": "execute_result"
    }
   ],
   "source": [
    "RaFo.get_params().keys()"
   ]
  },
  {
   "cell_type": "code",
   "execution_count": 195,
   "id": "9a9089e1",
   "metadata": {},
   "outputs": [],
   "source": [
    "param_grid = {\n",
    "    'max_depth': [5, 10, 15], \n",
    "    'n_estimators': [90, 100, 110],\n",
    "}"
   ]
  },
  {
   "cell_type": "code",
   "execution_count": 196,
   "id": "c718681c",
   "metadata": {},
   "outputs": [],
   "source": [
    "def rmsle(y, y_pred):   \n",
    "    \n",
    "    # set negative to zero\n",
    "    y_pred[y_pred < 0] = 0\n",
    "        \n",
    "    return np.sqrt(mean_squared_log_error(y, y_pred))\n",
    "\n",
    "neg_rmsle_score = make_scorer(rmsle, greater_is_better=False)"
   ]
  },
  {
   "cell_type": "code",
   "execution_count": 197,
   "id": "bbc61c4c",
   "metadata": {},
   "outputs": [
    {
     "name": "stdout",
     "output_type": "stream",
     "text": [
      "Fitting 5 folds for each of 9 candidates, totalling 45 fits\n"
     ]
    }
   ],
   "source": [
    "grid = GridSearchCV(\n",
    "    RaFo, \n",
    "    param_grid, \n",
    "    return_train_score=True, \n",
    "    scoring=neg_rmsle_score, \n",
    "    cv=5, \n",
    "    n_jobs=4, \n",
    "    verbose=1\n",
    ")\n",
    "grid.fit(X_train_fe, y_train)\n",
    "df_grid_result = pd.DataFrame(grid.cv_results_)"
   ]
  },
  {
   "cell_type": "code",
   "execution_count": 198,
   "id": "463d2224",
   "metadata": {},
   "outputs": [
    {
     "data": {
      "text/html": [
       "<div>\n",
       "<style scoped>\n",
       "    .dataframe tbody tr th:only-of-type {\n",
       "        vertical-align: middle;\n",
       "    }\n",
       "\n",
       "    .dataframe tbody tr th {\n",
       "        vertical-align: top;\n",
       "    }\n",
       "\n",
       "    .dataframe thead th {\n",
       "        text-align: right;\n",
       "    }\n",
       "</style>\n",
       "<table border=\"1\" class=\"dataframe\">\n",
       "  <thead>\n",
       "    <tr style=\"text-align: right;\">\n",
       "      <th></th>\n",
       "      <th>param_max_depth</th>\n",
       "      <th>param_n_estimators</th>\n",
       "      <th>mean_train_score</th>\n",
       "      <th>mean_test_score</th>\n",
       "    </tr>\n",
       "  </thead>\n",
       "  <tbody>\n",
       "    <tr>\n",
       "      <th>6</th>\n",
       "      <td>15</td>\n",
       "      <td>90</td>\n",
       "      <td>0.183581</td>\n",
       "      <td>0.354814</td>\n",
       "    </tr>\n",
       "    <tr>\n",
       "      <th>8</th>\n",
       "      <td>15</td>\n",
       "      <td>110</td>\n",
       "      <td>0.183402</td>\n",
       "      <td>0.354852</td>\n",
       "    </tr>\n",
       "    <tr>\n",
       "      <th>7</th>\n",
       "      <td>15</td>\n",
       "      <td>100</td>\n",
       "      <td>0.183616</td>\n",
       "      <td>0.354883</td>\n",
       "    </tr>\n",
       "    <tr>\n",
       "      <th>3</th>\n",
       "      <td>10</td>\n",
       "      <td>90</td>\n",
       "      <td>0.303767</td>\n",
       "      <td>0.389484</td>\n",
       "    </tr>\n",
       "    <tr>\n",
       "      <th>5</th>\n",
       "      <td>10</td>\n",
       "      <td>110</td>\n",
       "      <td>0.303801</td>\n",
       "      <td>0.389851</td>\n",
       "    </tr>\n",
       "  </tbody>\n",
       "</table>\n",
       "</div>"
      ],
      "text/plain": [
       "  param_max_depth param_n_estimators  mean_train_score  mean_test_score\n",
       "6              15                 90          0.183581         0.354814\n",
       "8              15                110          0.183402         0.354852\n",
       "7              15                100          0.183616         0.354883\n",
       "3              10                 90          0.303767         0.389484\n",
       "5              10                110          0.303801         0.389851"
      ]
     },
     "execution_count": 198,
     "metadata": {},
     "output_type": "execute_result"
    }
   ],
   "source": [
    "df_grid_result[[\n",
    "    'param_max_depth',\n",
    "    'param_n_estimators',\n",
    "    'mean_train_score', \n",
    "    'mean_test_score'\n",
    "]].sort_values(by='mean_test_score', ascending=False).abs().head(5)"
   ]
  },
  {
   "cell_type": "code",
   "execution_count": 199,
   "id": "5c4978ad",
   "metadata": {},
   "outputs": [
    {
     "data": {
      "text/plain": [
       "{'max_depth': 15, 'n_estimators': 90}"
      ]
     },
     "execution_count": 199,
     "metadata": {},
     "output_type": "execute_result"
    }
   ],
   "source": [
    "grid.best_params_"
   ]
  },
  {
   "cell_type": "code",
   "execution_count": 200,
   "id": "3e2828c1",
   "metadata": {},
   "outputs": [
    {
     "data": {
      "text/plain": [
       "RandomForestRegressor(max_depth=15, n_estimators=90, random_state=1)"
      ]
     },
     "execution_count": 200,
     "metadata": {},
     "output_type": "execute_result"
    }
   ],
   "source": [
    "grid.best_estimator_"
   ]
  },
  {
   "cell_type": "code",
   "execution_count": 201,
   "id": "30c0d0c1",
   "metadata": {},
   "outputs": [
    {
     "data": {
      "text/plain": [
       "0.3548142744701739"
      ]
     },
     "execution_count": 201,
     "metadata": {},
     "output_type": "execute_result"
    }
   ],
   "source": [
    "abs(grid.best_score_)"
   ]
  },
  {
   "cell_type": "code",
   "execution_count": 202,
   "id": "763bc5cd",
   "metadata": {},
   "outputs": [],
   "source": [
    "y_pred_grid = grid.best_estimator_.predict(X_test_fe)\n",
    "y_pred_grid[y_pred_grid < 0] = 0\n",
    "assert all(y_pred_grid >= 0)"
   ]
  },
  {
   "cell_type": "code",
   "execution_count": 206,
   "id": "1f8e21c9",
   "metadata": {},
   "outputs": [
    {
     "name": "stdout",
     "output_type": "stream",
     "text": [
      "r2 score = 0.9343602562875305\n",
      "root mean squared error = 45.62963500951548\n",
      "Kaggle score= 0.3713109940494449\n"
     ]
    }
   ],
   "source": [
    "r2_grid = r2_score(y_test, y_pred_grid)\n",
    "rmse_grid = np.sqrt(mean_squared_error(y_test, y_pred_grid))\n",
    "rmsle_grid = mean_squared_log_error(y_test, y_pred_grid, squared=False)\n",
    "\n",
    "print(\"r2 score =\", r2_grid)\n",
    "print(\"root mean squared error =\", rmse_grid)\n",
    "print(\"Kaggle score=\", rmsle_grid)"
   ]
  },
  {
   "cell_type": "markdown",
   "id": "956b4d29",
   "metadata": {},
   "source": [
    "### 6.6. Cross validation"
   ]
  },
  {
   "cell_type": "code",
   "execution_count": 100,
   "id": "6e8b52f9",
   "metadata": {},
   "outputs": [
    {
     "name": "stdout",
     "output_type": "stream",
     "text": [
      "   fit_time  score_time  test_score  train_score\n",
      "0  3.074910    0.056153   -0.341359    -0.165164\n",
      "1  3.087938    0.049582   -0.381792    -0.159265\n",
      "2  3.005889    0.061532   -0.338635    -0.167827\n",
      "3  2.997500    0.047624   -0.358032    -0.165045\n",
      "4  3.052709    0.050780   -0.339215    -0.163490\n"
     ]
    }
   ],
   "source": [
    "cv = cross_validate(grid.best_estimator_, X_train_fe, y_train,\n",
    "                    cv=5,\n",
    "                    scoring=neg_rmsle_score,\n",
    "                    return_train_score=True\n",
    ")\n",
    "# convert the dictionary of lists into a DataFrame\n",
    "cv = pd.DataFrame(cv)\n",
    "print(cv)"
   ]
  },
  {
   "cell_type": "code",
   "execution_count": 165,
   "id": "5373a064",
   "metadata": {},
   "outputs": [
    {
     "data": {
      "text/plain": [
       "array([0.3413593 , 0.38179249, 0.33863467, 0.35803227, 0.33921544])"
      ]
     },
     "execution_count": 165,
     "metadata": {},
     "output_type": "execute_result"
    }
   ],
   "source": [
    "cross_accuracy_log = cross_val_score(grid.best_estimator_, X_train_fe, y_train, cv=5, scoring=neg_rmsle_score)\n",
    "abs(cross_accuracy_log)"
   ]
  },
  {
   "cell_type": "code",
   "execution_count": 168,
   "id": "3a2d17e1",
   "metadata": {},
   "outputs": [
    {
     "data": {
      "text/plain": [
       "'Cross-validation mean 0.352 +- 0.017'"
      ]
     },
     "execution_count": 168,
     "metadata": {},
     "output_type": "execute_result"
    }
   ],
   "source": [
    "f\"Cross-validation mean {abs(cross_accuracy_log).mean():5.3f} +- {abs(cross_accuracy_log).std():5.3f}\""
   ]
  },
  {
   "cell_type": "markdown",
   "id": "d5f7104b",
   "metadata": {},
   "source": [
    "## 7. Metrics evaluation / Models comparison"
   ]
  },
  {
   "cell_type": "markdown",
   "id": "59533f4b",
   "metadata": {},
   "source": [
    "### 7.1 R2 scores"
   ]
  },
  {
   "cell_type": "markdown",
   "id": "c761d402",
   "metadata": {},
   "source": [
    "Interpretation: (Bias, overfitting: high score, underfitting: low score)\n",
    "\n",
    "* It tells how much variance in the data is explained by the model. High $R^2$ is good, because it means that model is able to explain more variance in the data.\n",
    "* It tells how much better the model is that predicting just average for all y. If $R^2$ is (close to) 0 then your model is not (a lot) better than predicting an average value of y for all data points."
   ]
  },
  {
   "cell_type": "code",
   "execution_count": 190,
   "id": "5a475ad9",
   "metadata": {},
   "outputs": [
    {
     "data": {
      "text/plain": [
       "Text(0, 0.5, 'R2 score')"
      ]
     },
     "execution_count": 190,
     "metadata": {},
     "output_type": "execute_result"
    },
    {
     "data": {
      "image/png": "[encoded data removed]",
      "text/plain": [
       "<Figure size 1440x576 with 1 Axes>"
      ]
     },
     "metadata": {},
     "output_type": "display_data"
    }
   ],
   "source": [
    "model_names = ['Linear Regression (Poisson)' , 'LR with Polynomial Features', 'Regularisation (Lasso)', 'Regularisation (Ridge)', 'Random Forest Regressor', 'Gridsearch (RandomForest)']\n",
    "r2_scores = [r2_PoReg, r2_PoFe, r2_lasso, r2_ridge, r2_RaFo, r2_grid]\n",
    "\n",
    "plt.figure(figsize = (20,8))\n",
    "sns.barplot(x = model_names , y = r2_scores)\n",
    "plt.title(\"Model comparison\" , fontdict = {'family':'serif' , 'size':14})\n",
    "plt.ylabel(\"R2 score\" , fontdict = {'family':'serif' , 'size':14})"
   ]
  },
  {
   "cell_type": "markdown",
   "id": "0aceffba",
   "metadata": {},
   "source": [
    "### 7.2. RMSLE scores"
   ]
  },
  {
   "cell_type": "code",
   "execution_count": null,
   "id": "f9df8015",
   "metadata": {},
   "outputs": [],
   "source": []
  },
  {
   "cell_type": "markdown",
   "id": "37a2f738",
   "metadata": {},
   "source": [
    "RMSLE metric only considers the relative error between and the Predicted and the actual value and the scale of the error is not significant. On the other hand, RMSE value increases in magnitude if the scale of error increases. "
   ]
  },
  {
   "cell_type": "code",
   "execution_count": 208,
   "id": "3484ffad",
   "metadata": {},
   "outputs": [
    {
     "data": {
      "text/plain": [
       "Text(0, 0.5, 'RMSLE score')"
      ]
     },
     "execution_count": 208,
     "metadata": {},
     "output_type": "execute_result"
    },
    {
     "data": {
      "image/png": "[encoded data removed]",
      "text/plain": [
       "<Figure size 1440x576 with 1 Axes>"
      ]
     },
     "metadata": {},
     "output_type": "display_data"
    }
   ],
   "source": [
    "rmsle_scores = [rmsle_PoReg, rmsle_PoFe, rmsle_lasso, rmsle_ridge, rmsle_RaFo, rmsle_grid]\n",
    "\n",
    "plt.figure(figsize = (20,8))\n",
    "sns.barplot(x = model_names , y = rmsle_scores)\n",
    "plt.title(\"Model comparison\" , fontdict = {'family':'serif' , 'size':14})\n",
    "plt.ylabel(\"RMSLE score\" , fontdict = {'family':'serif' , 'size':14})"
   ]
  },
  {
   "cell_type": "markdown",
   "id": "ebc400bd",
   "metadata": {},
   "source": [
    "## 8. Submitting prediction to Kaggle"
   ]
  },
  {
   "cell_type": "code",
   "execution_count": 229,
   "id": "6b085781",
   "metadata": {},
   "outputs": [
    {
     "data": {
      "text/html": [
       "<div>\n",
       "<style scoped>\n",
       "    .dataframe tbody tr th:only-of-type {\n",
       "        vertical-align: middle;\n",
       "    }\n",
       "\n",
       "    .dataframe tbody tr th {\n",
       "        vertical-align: top;\n",
       "    }\n",
       "\n",
       "    .dataframe thead th {\n",
       "        text-align: right;\n",
       "    }\n",
       "</style>\n",
       "<table border=\"1\" class=\"dataframe\">\n",
       "  <thead>\n",
       "    <tr style=\"text-align: right;\">\n",
       "      <th></th>\n",
       "      <th>season</th>\n",
       "      <th>holiday</th>\n",
       "      <th>workingday</th>\n",
       "      <th>weather</th>\n",
       "      <th>temp</th>\n",
       "      <th>atemp</th>\n",
       "      <th>humidity</th>\n",
       "      <th>windspeed</th>\n",
       "    </tr>\n",
       "    <tr>\n",
       "      <th>datetime</th>\n",
       "      <th></th>\n",
       "      <th></th>\n",
       "      <th></th>\n",
       "      <th></th>\n",
       "      <th></th>\n",
       "      <th></th>\n",
       "      <th></th>\n",
       "      <th></th>\n",
       "    </tr>\n",
       "  </thead>\n",
       "  <tbody>\n",
       "    <tr>\n",
       "      <th>2011-01-20 00:00:00</th>\n",
       "      <td>1</td>\n",
       "      <td>0</td>\n",
       "      <td>1</td>\n",
       "      <td>1</td>\n",
       "      <td>10.66</td>\n",
       "      <td>11.365</td>\n",
       "      <td>56</td>\n",
       "      <td>26.0027</td>\n",
       "    </tr>\n",
       "    <tr>\n",
       "      <th>2011-01-20 01:00:00</th>\n",
       "      <td>1</td>\n",
       "      <td>0</td>\n",
       "      <td>1</td>\n",
       "      <td>1</td>\n",
       "      <td>10.66</td>\n",
       "      <td>13.635</td>\n",
       "      <td>56</td>\n",
       "      <td>0.0000</td>\n",
       "    </tr>\n",
       "    <tr>\n",
       "      <th>2011-01-20 02:00:00</th>\n",
       "      <td>1</td>\n",
       "      <td>0</td>\n",
       "      <td>1</td>\n",
       "      <td>1</td>\n",
       "      <td>10.66</td>\n",
       "      <td>13.635</td>\n",
       "      <td>56</td>\n",
       "      <td>0.0000</td>\n",
       "    </tr>\n",
       "    <tr>\n",
       "      <th>2011-01-20 03:00:00</th>\n",
       "      <td>1</td>\n",
       "      <td>0</td>\n",
       "      <td>1</td>\n",
       "      <td>1</td>\n",
       "      <td>10.66</td>\n",
       "      <td>12.880</td>\n",
       "      <td>56</td>\n",
       "      <td>11.0014</td>\n",
       "    </tr>\n",
       "    <tr>\n",
       "      <th>2011-01-20 04:00:00</th>\n",
       "      <td>1</td>\n",
       "      <td>0</td>\n",
       "      <td>1</td>\n",
       "      <td>1</td>\n",
       "      <td>10.66</td>\n",
       "      <td>12.880</td>\n",
       "      <td>56</td>\n",
       "      <td>11.0014</td>\n",
       "    </tr>\n",
       "    <tr>\n",
       "      <th>...</th>\n",
       "      <td>...</td>\n",
       "      <td>...</td>\n",
       "      <td>...</td>\n",
       "      <td>...</td>\n",
       "      <td>...</td>\n",
       "      <td>...</td>\n",
       "      <td>...</td>\n",
       "      <td>...</td>\n",
       "    </tr>\n",
       "    <tr>\n",
       "      <th>2012-12-31 19:00:00</th>\n",
       "      <td>1</td>\n",
       "      <td>0</td>\n",
       "      <td>1</td>\n",
       "      <td>2</td>\n",
       "      <td>10.66</td>\n",
       "      <td>12.880</td>\n",
       "      <td>60</td>\n",
       "      <td>11.0014</td>\n",
       "    </tr>\n",
       "    <tr>\n",
       "      <th>2012-12-31 20:00:00</th>\n",
       "      <td>1</td>\n",
       "      <td>0</td>\n",
       "      <td>1</td>\n",
       "      <td>2</td>\n",
       "      <td>10.66</td>\n",
       "      <td>12.880</td>\n",
       "      <td>60</td>\n",
       "      <td>11.0014</td>\n",
       "    </tr>\n",
       "    <tr>\n",
       "      <th>2012-12-31 21:00:00</th>\n",
       "      <td>1</td>\n",
       "      <td>0</td>\n",
       "      <td>1</td>\n",
       "      <td>1</td>\n",
       "      <td>10.66</td>\n",
       "      <td>12.880</td>\n",
       "      <td>60</td>\n",
       "      <td>11.0014</td>\n",
       "    </tr>\n",
       "    <tr>\n",
       "      <th>2012-12-31 22:00:00</th>\n",
       "      <td>1</td>\n",
       "      <td>0</td>\n",
       "      <td>1</td>\n",
       "      <td>1</td>\n",
       "      <td>10.66</td>\n",
       "      <td>13.635</td>\n",
       "      <td>56</td>\n",
       "      <td>8.9981</td>\n",
       "    </tr>\n",
       "    <tr>\n",
       "      <th>2012-12-31 23:00:00</th>\n",
       "      <td>1</td>\n",
       "      <td>0</td>\n",
       "      <td>1</td>\n",
       "      <td>1</td>\n",
       "      <td>10.66</td>\n",
       "      <td>13.635</td>\n",
       "      <td>65</td>\n",
       "      <td>8.9981</td>\n",
       "    </tr>\n",
       "  </tbody>\n",
       "</table>\n",
       "<p>6493 rows × 8 columns</p>\n",
       "</div>"
      ],
      "text/plain": [
       "                     season  holiday  workingday  weather   temp   atemp  \\\n",
       "datetime                                                                   \n",
       "2011-01-20 00:00:00       1        0           1        1  10.66  11.365   \n",
       "2011-01-20 01:00:00       1        0           1        1  10.66  13.635   \n",
       "2011-01-20 02:00:00       1        0           1        1  10.66  13.635   \n",
       "2011-01-20 03:00:00       1        0           1        1  10.66  12.880   \n",
       "2011-01-20 04:00:00       1        0           1        1  10.66  12.880   \n",
       "...                     ...      ...         ...      ...    ...     ...   \n",
       "2012-12-31 19:00:00       1        0           1        2  10.66  12.880   \n",
       "2012-12-31 20:00:00       1        0           1        2  10.66  12.880   \n",
       "2012-12-31 21:00:00       1        0           1        1  10.66  12.880   \n",
       "2012-12-31 22:00:00       1        0           1        1  10.66  13.635   \n",
       "2012-12-31 23:00:00       1        0           1        1  10.66  13.635   \n",
       "\n",
       "                     humidity  windspeed  \n",
       "datetime                                  \n",
       "2011-01-20 00:00:00        56    26.0027  \n",
       "2011-01-20 01:00:00        56     0.0000  \n",
       "2011-01-20 02:00:00        56     0.0000  \n",
       "2011-01-20 03:00:00        56    11.0014  \n",
       "2011-01-20 04:00:00        56    11.0014  \n",
       "...                       ...        ...  \n",
       "2012-12-31 19:00:00        60    11.0014  \n",
       "2012-12-31 20:00:00        60    11.0014  \n",
       "2012-12-31 21:00:00        60    11.0014  \n",
       "2012-12-31 22:00:00        56     8.9981  \n",
       "2012-12-31 23:00:00        65     8.9981  \n",
       "\n",
       "[6493 rows x 8 columns]"
      ]
     },
     "execution_count": 229,
     "metadata": {},
     "output_type": "execute_result"
    }
   ],
   "source": [
    "df_test"
   ]
  },
  {
   "cell_type": "code",
   "execution_count": 232,
   "id": "073c2db8",
   "metadata": {},
   "outputs": [],
   "source": [
    "# Extracting hour, weekday, month and year from datetime \n",
    "df_test['hour'] = df_test.index.hour\n",
    "df_test['weekday'] = df_test.index.weekday\n",
    "df_test['month'] = df_test.index.month\n",
    "df_test['year'] = df_test.index.year"
   ]
  },
  {
   "cell_type": "code",
   "execution_count": 239,
   "id": "66fb1419",
   "metadata": {},
   "outputs": [
    {
     "data": {
      "text/html": [
       "<div>\n",
       "<style scoped>\n",
       "    .dataframe tbody tr th:only-of-type {\n",
       "        vertical-align: middle;\n",
       "    }\n",
       "\n",
       "    .dataframe tbody tr th {\n",
       "        vertical-align: top;\n",
       "    }\n",
       "\n",
       "    .dataframe thead th {\n",
       "        text-align: right;\n",
       "    }\n",
       "</style>\n",
       "<table border=\"1\" class=\"dataframe\">\n",
       "  <thead>\n",
       "    <tr style=\"text-align: right;\">\n",
       "      <th></th>\n",
       "      <th>season</th>\n",
       "      <th>holiday</th>\n",
       "      <th>workingday</th>\n",
       "      <th>weather</th>\n",
       "      <th>temp</th>\n",
       "      <th>atemp</th>\n",
       "      <th>humidity</th>\n",
       "      <th>windspeed</th>\n",
       "      <th>hour</th>\n",
       "      <th>weekday</th>\n",
       "      <th>month</th>\n",
       "      <th>year</th>\n",
       "    </tr>\n",
       "    <tr>\n",
       "      <th>datetime</th>\n",
       "      <th></th>\n",
       "      <th></th>\n",
       "      <th></th>\n",
       "      <th></th>\n",
       "      <th></th>\n",
       "      <th></th>\n",
       "      <th></th>\n",
       "      <th></th>\n",
       "      <th></th>\n",
       "      <th></th>\n",
       "      <th></th>\n",
       "      <th></th>\n",
       "    </tr>\n",
       "  </thead>\n",
       "  <tbody>\n",
       "    <tr>\n",
       "      <th>2011-01-20 00:00:00</th>\n",
       "      <td>1</td>\n",
       "      <td>0</td>\n",
       "      <td>1</td>\n",
       "      <td>1</td>\n",
       "      <td>10.66</td>\n",
       "      <td>11.365</td>\n",
       "      <td>56</td>\n",
       "      <td>26.0027</td>\n",
       "      <td>0</td>\n",
       "      <td>3</td>\n",
       "      <td>1</td>\n",
       "      <td>2011</td>\n",
       "    </tr>\n",
       "    <tr>\n",
       "      <th>2011-01-20 01:00:00</th>\n",
       "      <td>1</td>\n",
       "      <td>0</td>\n",
       "      <td>1</td>\n",
       "      <td>1</td>\n",
       "      <td>10.66</td>\n",
       "      <td>13.635</td>\n",
       "      <td>56</td>\n",
       "      <td>0.0000</td>\n",
       "      <td>1</td>\n",
       "      <td>3</td>\n",
       "      <td>1</td>\n",
       "      <td>2011</td>\n",
       "    </tr>\n",
       "    <tr>\n",
       "      <th>2011-01-20 02:00:00</th>\n",
       "      <td>1</td>\n",
       "      <td>0</td>\n",
       "      <td>1</td>\n",
       "      <td>1</td>\n",
       "      <td>10.66</td>\n",
       "      <td>13.635</td>\n",
       "      <td>56</td>\n",
       "      <td>0.0000</td>\n",
       "      <td>2</td>\n",
       "      <td>3</td>\n",
       "      <td>1</td>\n",
       "      <td>2011</td>\n",
       "    </tr>\n",
       "    <tr>\n",
       "      <th>2011-01-20 03:00:00</th>\n",
       "      <td>1</td>\n",
       "      <td>0</td>\n",
       "      <td>1</td>\n",
       "      <td>1</td>\n",
       "      <td>10.66</td>\n",
       "      <td>12.880</td>\n",
       "      <td>56</td>\n",
       "      <td>11.0014</td>\n",
       "      <td>3</td>\n",
       "      <td>3</td>\n",
       "      <td>1</td>\n",
       "      <td>2011</td>\n",
       "    </tr>\n",
       "    <tr>\n",
       "      <th>2011-01-20 04:00:00</th>\n",
       "      <td>1</td>\n",
       "      <td>0</td>\n",
       "      <td>1</td>\n",
       "      <td>1</td>\n",
       "      <td>10.66</td>\n",
       "      <td>12.880</td>\n",
       "      <td>56</td>\n",
       "      <td>11.0014</td>\n",
       "      <td>4</td>\n",
       "      <td>3</td>\n",
       "      <td>1</td>\n",
       "      <td>2011</td>\n",
       "    </tr>\n",
       "    <tr>\n",
       "      <th>...</th>\n",
       "      <td>...</td>\n",
       "      <td>...</td>\n",
       "      <td>...</td>\n",
       "      <td>...</td>\n",
       "      <td>...</td>\n",
       "      <td>...</td>\n",
       "      <td>...</td>\n",
       "      <td>...</td>\n",
       "      <td>...</td>\n",
       "      <td>...</td>\n",
       "      <td>...</td>\n",
       "      <td>...</td>\n",
       "    </tr>\n",
       "    <tr>\n",
       "      <th>2012-12-31 19:00:00</th>\n",
       "      <td>1</td>\n",
       "      <td>0</td>\n",
       "      <td>1</td>\n",
       "      <td>2</td>\n",
       "      <td>10.66</td>\n",
       "      <td>12.880</td>\n",
       "      <td>60</td>\n",
       "      <td>11.0014</td>\n",
       "      <td>19</td>\n",
       "      <td>0</td>\n",
       "      <td>12</td>\n",
       "      <td>2012</td>\n",
       "    </tr>\n",
       "    <tr>\n",
       "      <th>2012-12-31 20:00:00</th>\n",
       "      <td>1</td>\n",
       "      <td>0</td>\n",
       "      <td>1</td>\n",
       "      <td>2</td>\n",
       "      <td>10.66</td>\n",
       "      <td>12.880</td>\n",
       "      <td>60</td>\n",
       "      <td>11.0014</td>\n",
       "      <td>20</td>\n",
       "      <td>0</td>\n",
       "      <td>12</td>\n",
       "      <td>2012</td>\n",
       "    </tr>\n",
       "    <tr>\n",
       "      <th>2012-12-31 21:00:00</th>\n",
       "      <td>1</td>\n",
       "      <td>0</td>\n",
       "      <td>1</td>\n",
       "      <td>1</td>\n",
       "      <td>10.66</td>\n",
       "      <td>12.880</td>\n",
       "      <td>60</td>\n",
       "      <td>11.0014</td>\n",
       "      <td>21</td>\n",
       "      <td>0</td>\n",
       "      <td>12</td>\n",
       "      <td>2012</td>\n",
       "    </tr>\n",
       "    <tr>\n",
       "      <th>2012-12-31 22:00:00</th>\n",
       "      <td>1</td>\n",
       "      <td>0</td>\n",
       "      <td>1</td>\n",
       "      <td>1</td>\n",
       "      <td>10.66</td>\n",
       "      <td>13.635</td>\n",
       "      <td>56</td>\n",
       "      <td>8.9981</td>\n",
       "      <td>22</td>\n",
       "      <td>0</td>\n",
       "      <td>12</td>\n",
       "      <td>2012</td>\n",
       "    </tr>\n",
       "    <tr>\n",
       "      <th>2012-12-31 23:00:00</th>\n",
       "      <td>1</td>\n",
       "      <td>0</td>\n",
       "      <td>1</td>\n",
       "      <td>1</td>\n",
       "      <td>10.66</td>\n",
       "      <td>13.635</td>\n",
       "      <td>65</td>\n",
       "      <td>8.9981</td>\n",
       "      <td>23</td>\n",
       "      <td>0</td>\n",
       "      <td>12</td>\n",
       "      <td>2012</td>\n",
       "    </tr>\n",
       "  </tbody>\n",
       "</table>\n",
       "<p>6493 rows × 12 columns</p>\n",
       "</div>"
      ],
      "text/plain": [
       "                     season  holiday  workingday  weather   temp   atemp  \\\n",
       "datetime                                                                   \n",
       "2011-01-20 00:00:00       1        0           1        1  10.66  11.365   \n",
       "2011-01-20 01:00:00       1        0           1        1  10.66  13.635   \n",
       "2011-01-20 02:00:00       1        0           1        1  10.66  13.635   \n",
       "2011-01-20 03:00:00       1        0           1        1  10.66  12.880   \n",
       "2011-01-20 04:00:00       1        0           1        1  10.66  12.880   \n",
       "...                     ...      ...         ...      ...    ...     ...   \n",
       "2012-12-31 19:00:00       1        0           1        2  10.66  12.880   \n",
       "2012-12-31 20:00:00       1        0           1        2  10.66  12.880   \n",
       "2012-12-31 21:00:00       1        0           1        1  10.66  12.880   \n",
       "2012-12-31 22:00:00       1        0           1        1  10.66  13.635   \n",
       "2012-12-31 23:00:00       1        0           1        1  10.66  13.635   \n",
       "\n",
       "                     humidity  windspeed  hour  weekday  month  year  \n",
       "datetime                                                              \n",
       "2011-01-20 00:00:00        56    26.0027     0        3      1  2011  \n",
       "2011-01-20 01:00:00        56     0.0000     1        3      1  2011  \n",
       "2011-01-20 02:00:00        56     0.0000     2        3      1  2011  \n",
       "2011-01-20 03:00:00        56    11.0014     3        3      1  2011  \n",
       "2011-01-20 04:00:00        56    11.0014     4        3      1  2011  \n",
       "...                       ...        ...   ...      ...    ...   ...  \n",
       "2012-12-31 19:00:00        60    11.0014    19        0     12  2012  \n",
       "2012-12-31 20:00:00        60    11.0014    20        0     12  2012  \n",
       "2012-12-31 21:00:00        60    11.0014    21        0     12  2012  \n",
       "2012-12-31 22:00:00        56     8.9981    22        0     12  2012  \n",
       "2012-12-31 23:00:00        65     8.9981    23        0     12  2012  \n",
       "\n",
       "[6493 rows x 12 columns]"
      ]
     },
     "execution_count": 239,
     "metadata": {},
     "output_type": "execute_result"
    }
   ],
   "source": [
    "df_test"
   ]
  },
  {
   "cell_type": "code",
   "execution_count": 241,
   "id": "1f2ac098",
   "metadata": {},
   "outputs": [],
   "source": [
    "# assigning X and y \n",
    "df_test = df_test.drop(['season', 'atemp'], axis=1)"
   ]
  },
  {
   "cell_type": "code",
   "execution_count": 242,
   "id": "120e4035",
   "metadata": {},
   "outputs": [],
   "source": [
    "X_submit = column_transformer.transform(df_test)"
   ]
  },
  {
   "cell_type": "code",
   "execution_count": 244,
   "id": "fd9eb0ef",
   "metadata": {},
   "outputs": [
    {
     "data": {
      "text/plain": [
       "(6493, 32)"
      ]
     },
     "execution_count": 244,
     "metadata": {},
     "output_type": "execute_result"
    }
   ],
   "source": [
    "X_submit.shape"
   ]
  },
  {
   "cell_type": "code",
   "execution_count": 256,
   "id": "b266d285",
   "metadata": {},
   "outputs": [],
   "source": [
    "y_pred =  grid.best_estimator_.predict(X_submit)"
   ]
  },
  {
   "cell_type": "code",
   "execution_count": 257,
   "id": "e8e00966",
   "metadata": {},
   "outputs": [],
   "source": [
    "predictions = pd.DataFrame({'dateTime': df_test.index, 'count': y_pred})\n",
    "predictions.to_csv('predictions.csv',index=False) "
   ]
  },
  {
   "cell_type": "code",
   "execution_count": 258,
   "id": "9aaec270",
   "metadata": {},
   "outputs": [
    {
     "data": {
      "text/html": [
       "<div>\n",
       "<style scoped>\n",
       "    .dataframe tbody tr th:only-of-type {\n",
       "        vertical-align: middle;\n",
       "    }\n",
       "\n",
       "    .dataframe tbody tr th {\n",
       "        vertical-align: top;\n",
       "    }\n",
       "\n",
       "    .dataframe thead th {\n",
       "        text-align: right;\n",
       "    }\n",
       "</style>\n",
       "<table border=\"1\" class=\"dataframe\">\n",
       "  <thead>\n",
       "    <tr style=\"text-align: right;\">\n",
       "      <th></th>\n",
       "      <th>dateTime</th>\n",
       "      <th>count</th>\n",
       "    </tr>\n",
       "  </thead>\n",
       "  <tbody>\n",
       "    <tr>\n",
       "      <th>0</th>\n",
       "      <td>2011-01-20 00:00:00</td>\n",
       "      <td>10.227407</td>\n",
       "    </tr>\n",
       "    <tr>\n",
       "      <th>1</th>\n",
       "      <td>2011-01-20 01:00:00</td>\n",
       "      <td>5.771942</td>\n",
       "    </tr>\n",
       "  </tbody>\n",
       "</table>\n",
       "</div>"
      ],
      "text/plain": [
       "             dateTime      count\n",
       "0 2011-01-20 00:00:00  10.227407\n",
       "1 2011-01-20 01:00:00   5.771942"
      ]
     },
     "execution_count": 258,
     "metadata": {},
     "output_type": "execute_result"
    }
   ],
   "source": [
    "predictions.head(2)"
   ]
  },
  {
   "cell_type": "markdown",
   "id": "574d2fe0",
   "metadata": {},
   "source": [
    "Kaggle Score: 0.47210"
   ]
  }
 ],
 "metadata": {
  "kernelspec": {
   "display_name": "Python 3",
   "language": "python",
   "name": "python3"
  },
  "language_info": {
   "codemirror_mode": {
    "name": "ipython",
    "version": 3
   },
   "file_extension": ".py",
   "mimetype": "text/x-python",
   "name": "python",
   "nbconvert_exporter": "python",
   "pygments_lexer": "ipython3",
   "version": "3.8.12"
  }
 },
 "nbformat": 4,
 "nbformat_minor": 5
}

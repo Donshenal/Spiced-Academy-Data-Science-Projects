{
 "cells": [
  {
   "cell_type": "code",
   "execution_count": 1,
   "id": "b4fc946d",
   "metadata": {},
   "outputs": [],
   "source": [
    "import pandas as pd\n",
    "import numpy as np\n",
    "import random"
   ]
  },
  {
   "cell_type": "code",
   "execution_count": 2,
   "id": "96b79e8b",
   "metadata": {},
   "outputs": [
    {
     "data": {
      "text/html": [
       "<div>\n",
       "<style scoped>\n",
       "    .dataframe tbody tr th:only-of-type {\n",
       "        vertical-align: middle;\n",
       "    }\n",
       "\n",
       "    .dataframe tbody tr th {\n",
       "        vertical-align: top;\n",
       "    }\n",
       "\n",
       "    .dataframe thead th {\n",
       "        text-align: right;\n",
       "    }\n",
       "</style>\n",
       "<table border=\"1\" class=\"dataframe\">\n",
       "  <thead>\n",
       "    <tr style=\"text-align: right;\">\n",
       "      <th></th>\n",
       "      <th>checkout</th>\n",
       "      <th>dairy</th>\n",
       "      <th>drinks</th>\n",
       "      <th>fruit</th>\n",
       "      <th>spices</th>\n",
       "    </tr>\n",
       "    <tr>\n",
       "      <th>before</th>\n",
       "      <th></th>\n",
       "      <th></th>\n",
       "      <th></th>\n",
       "      <th></th>\n",
       "      <th></th>\n",
       "    </tr>\n",
       "  </thead>\n",
       "  <tbody>\n",
       "    <tr>\n",
       "      <th>dairy</th>\n",
       "      <td>0.103313</td>\n",
       "      <td>0.737023</td>\n",
       "      <td>0.058546</td>\n",
       "      <td>0.049772</td>\n",
       "      <td>0.051347</td>\n",
       "    </tr>\n",
       "    <tr>\n",
       "      <th>drinks</th>\n",
       "      <td>0.215630</td>\n",
       "      <td>0.010900</td>\n",
       "      <td>0.598560</td>\n",
       "      <td>0.087918</td>\n",
       "      <td>0.086992</td>\n",
       "    </tr>\n",
       "    <tr>\n",
       "      <th>entrance</th>\n",
       "      <td>0.000537</td>\n",
       "      <td>0.287441</td>\n",
       "      <td>0.153392</td>\n",
       "      <td>0.377300</td>\n",
       "      <td>0.181330</td>\n",
       "    </tr>\n",
       "    <tr>\n",
       "      <th>fruit</th>\n",
       "      <td>0.201558</td>\n",
       "      <td>0.095744</td>\n",
       "      <td>0.054834</td>\n",
       "      <td>0.597199</td>\n",
       "      <td>0.050665</td>\n",
       "    </tr>\n",
       "    <tr>\n",
       "      <th>spices</th>\n",
       "      <td>0.150526</td>\n",
       "      <td>0.193214</td>\n",
       "      <td>0.163109</td>\n",
       "      <td>0.090953</td>\n",
       "      <td>0.402198</td>\n",
       "    </tr>\n",
       "  </tbody>\n",
       "</table>\n",
       "</div>"
      ],
      "text/plain": [
       "          checkout     dairy    drinks     fruit    spices\n",
       "before                                                    \n",
       "dairy     0.103313  0.737023  0.058546  0.049772  0.051347\n",
       "drinks    0.215630  0.010900  0.598560  0.087918  0.086992\n",
       "entrance  0.000537  0.287441  0.153392  0.377300  0.181330\n",
       "fruit     0.201558  0.095744  0.054834  0.597199  0.050665\n",
       "spices    0.150526  0.193214  0.163109  0.090953  0.402198"
      ]
     },
     "execution_count": 2,
     "metadata": {},
     "output_type": "execute_result"
    }
   ],
   "source": [
    "PROBABILITIES = pd.read_csv('mx.csv', index_col=0)\n",
    "PROBABILITIES"
   ]
  },
  {
   "cell_type": "code",
   "execution_count": 3,
   "id": "01585075",
   "metadata": {},
   "outputs": [
    {
     "data": {
      "text/plain": [
       "[0.0005372733378106,\n",
       " 0.2874412357286769,\n",
       " 0.1533915379449295,\n",
       " 0.3773002014775017,\n",
       " 0.1813297515110812]"
      ]
     },
     "execution_count": 3,
     "metadata": {},
     "output_type": "execute_result"
    }
   ],
   "source": [
    "list(PROBABILITIES.loc['entrance'])"
   ]
  },
  {
   "cell_type": "code",
   "execution_count": 4,
   "id": "61a8a42a",
   "metadata": {},
   "outputs": [],
   "source": [
    "LOCATIONS = ['fruit', 'spices', 'dairy', 'drinks', 'checkout']"
   ]
  },
  {
   "cell_type": "code",
   "execution_count": 44,
   "id": "16e405dc",
   "metadata": {},
   "outputs": [],
   "source": [
    "class Customer:\n",
    "    ''' \n",
    "    A customer that moves through the supermarket\n",
    "    '''\n",
    "    \n",
    "    def __init__(self, id, name):\n",
    "        self.id = id\n",
    "        self.name = name\n",
    "        self.location = 'entrance'\n",
    "\n",
    "\n",
    "    def next_location(self):\n",
    "        '''\n",
    "        Propagates the customer to the next state.\n",
    "        Returns nothing.\n",
    "        '''\n",
    "        self.location = random.choices(LOCATIONS, list(PROBABILITIES.loc[self.location]))[0]\n",
    "        \n",
    "    @property \n",
    "    def is_active(self):\n",
    "        \"\"\"Returns True if the customer has not reached the checkout yet.\"\"\"\n",
    "        if self.location != 'checkout':\n",
    "            return True\n",
    "        else:\n",
    "            return False\n",
    "\n",
    "    def __repr__(self):\n",
    "        return f'<Customer {self.name} is in/at the {self.location}>'"
   ]
  },
  {
   "cell_type": "code",
   "execution_count": 16,
   "id": "4cb8cf3c",
   "metadata": {},
   "outputs": [],
   "source": [
    "# instentiate class\n",
    "cust1 = Customer(1, \"Jake\")\n",
    "cust2 = Customer(2, \"Margaret\") "
   ]
  },
  {
   "cell_type": "code",
   "execution_count": 17,
   "id": "3758c937",
   "metadata": {},
   "outputs": [
    {
     "name": "stdout",
     "output_type": "stream",
     "text": [
      "1 Jake entrance\n",
      "2 Margaret entrance\n"
     ]
    }
   ],
   "source": [
    "# access attributes\n",
    "print(cust1.id, cust1.name, cust1.location)\n",
    "print(cust2.id, cust2.name, cust2.location)"
   ]
  },
  {
   "cell_type": "code",
   "execution_count": 18,
   "id": "78d27bb4",
   "metadata": {},
   "outputs": [
    {
     "name": "stdout",
     "output_type": "stream",
     "text": [
      "<Customer Jake is in/at the entrance> <Customer Margaret is in/at the entrance>\n"
     ]
    }
   ],
   "source": [
    "# access __repr__\n",
    "print(cust1, cust2)"
   ]
  },
  {
   "cell_type": "code",
   "execution_count": 25,
   "id": "30431182",
   "metadata": {},
   "outputs": [],
   "source": [
    "cust1.next_location()"
   ]
  },
  {
   "cell_type": "code",
   "execution_count": 26,
   "id": "edd28ca1",
   "metadata": {},
   "outputs": [
    {
     "name": "stdout",
     "output_type": "stream",
     "text": [
      "<Customer Jake is in/at the checkout>\n"
     ]
    }
   ],
   "source": [
    "print(cust1)"
   ]
  },
  {
   "cell_type": "code",
   "execution_count": 46,
   "id": "68e4ac88",
   "metadata": {},
   "outputs": [
    {
     "data": {
      "text/plain": [
       "False"
      ]
     },
     "execution_count": 46,
     "metadata": {},
     "output_type": "execute_result"
    }
   ],
   "source": [
    "cust1.is_active()"
   ]
  },
  {
   "cell_type": "code",
   "execution_count": 28,
   "id": "63aa11d2",
   "metadata": {},
   "outputs": [],
   "source": [
    "cust2.next_location()"
   ]
  },
  {
   "cell_type": "code",
   "execution_count": 29,
   "id": "bd6c9fbc",
   "metadata": {},
   "outputs": [
    {
     "name": "stdout",
     "output_type": "stream",
     "text": [
      "<Customer Margaret is in/at the spices>\n"
     ]
    }
   ],
   "source": [
    "print(cust2)"
   ]
  },
  {
   "cell_type": "code",
   "execution_count": 30,
   "id": "c2fc4287",
   "metadata": {},
   "outputs": [
    {
     "data": {
      "text/plain": [
       "True"
      ]
     },
     "execution_count": 30,
     "metadata": {},
     "output_type": "execute_result"
    }
   ],
   "source": [
    "cust2.is_active()"
   ]
  },
  {
   "cell_type": "markdown",
   "id": "980f860f",
   "metadata": {},
   "source": [
    "### Creating Fake Customer Names"
   ]
  },
  {
   "cell_type": "code",
   "execution_count": 31,
   "id": "de321b61",
   "metadata": {},
   "outputs": [],
   "source": [
    "from faker import Faker"
   ]
  },
  {
   "cell_type": "code",
   "execution_count": 32,
   "id": "37a1d9d4",
   "metadata": {},
   "outputs": [],
   "source": [
    "def fake_name():\n",
    "    f = Faker()\n",
    "    name = f.name()\n",
    "    return name"
   ]
  },
  {
   "cell_type": "code",
   "execution_count": 33,
   "id": "563ef3b1",
   "metadata": {},
   "outputs": [],
   "source": [
    "cust_fake_name = fake_name()"
   ]
  },
  {
   "cell_type": "code",
   "execution_count": 41,
   "id": "6424f43e",
   "metadata": {},
   "outputs": [],
   "source": [
    "cust3 = Customer(3, f'{cust_fake_name}')"
   ]
  },
  {
   "cell_type": "code",
   "execution_count": 42,
   "id": "9e59dc6d",
   "metadata": {},
   "outputs": [
    {
     "data": {
      "text/plain": [
       "<Customer Dr. Lawrence Brown is in/at the entrance>"
      ]
     },
     "execution_count": 42,
     "metadata": {},
     "output_type": "execute_result"
    }
   ],
   "source": [
    "cust3"
   ]
  },
  {
   "cell_type": "code",
   "execution_count": 43,
   "id": "b7b874c9",
   "metadata": {},
   "outputs": [
    {
     "data": {
      "text/plain": [
       "'Dr. Lawrence Brown'"
      ]
     },
     "execution_count": 43,
     "metadata": {},
     "output_type": "execute_result"
    }
   ],
   "source": [
    "cust3.name"
   ]
  }
 ],
 "metadata": {
  "kernelspec": {
   "display_name": "Python 3",
   "language": "python",
   "name": "python3"
  },
  "language_info": {
   "codemirror_mode": {
    "name": "ipython",
    "version": 3
   },
   "file_extension": ".py",
   "mimetype": "text/x-python",
   "name": "python",
   "nbconvert_exporter": "python",
   "pygments_lexer": "ipython3",
   "version": "3.8.12"
  }
 },
 "nbformat": 4,
 "nbformat_minor": 5
}

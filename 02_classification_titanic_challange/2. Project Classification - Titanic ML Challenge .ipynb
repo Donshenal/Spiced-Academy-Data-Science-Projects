{
 "cells": [
  {
   "cell_type": "markdown",
   "id": "45377508",
   "metadata": {},
   "source": [
    "# 2. Project: Classification - Titanic ML Challange "
   ]
  },
  {
   "cell_type": "markdown",
   "id": "5f78e75c",
   "metadata": {},
   "source": [
    "## 1. Defining project Goal "
   ]
  },
  {
   "cell_type": "markdown",
   "id": "4d78066a",
   "metadata": {},
   "source": [
    "Creating ML model that classifies Titanic passengers survived or deceased with 80% accuracy."
   ]
  },
  {
   "cell_type": "markdown",
   "id": "872fad61",
   "metadata": {},
   "source": [
    "## 2. Importing Libraries"
   ]
  },
  {
   "cell_type": "code",
   "execution_count": 604,
   "id": "9dc6a878",
   "metadata": {},
   "outputs": [],
   "source": [
    "# Libraries for EDA \n",
    "import pandas as pd\n",
    "import seaborn as sns\n",
    "import matplotlib.pyplot as plt\n",
    "\n",
    "# Libraries for Feature Engineering\n",
    "from sklearn.impute import SimpleImputer\n",
    "from sklearn.preprocessing import OneHotEncoder\n",
    "from sklearn.preprocessing import MinMaxScaler, StandardScaler\n",
    "from sklearn.preprocessing import KBinsDiscretizer\n",
    "from sklearn.pipeline import Pipeline\n",
    "from sklearn.compose import ColumnTransformer\n",
    "\n",
    "#Library for Training model:\n",
    "from sklearn.linear_model import LogisticRegression\n",
    "\n",
    "# Libraries for Evaluating Classifiers\n",
    "from sklearn.metrics import accuracy_score\n",
    "from sklearn.metrics import precision_score\n",
    "from sklearn.metrics import recall_score\n",
    "from sklearn.metrics import f1_score\n",
    "from sklearn.metrics import confusion_matrix\n",
    "\n",
    "# Libraries for Cross Validation \n",
    "from sklearn.model_selection import cross_validate\n",
    "from sklearn.model_selection import (KFold, ShuffleSplit, StratifiedKFold)\n",
    "from sklearn.model_selection import cross_val_score \n"
   ]
  },
  {
   "cell_type": "markdown",
   "id": "0d38bfe1",
   "metadata": {},
   "source": [
    "## 3. Getting Data"
   ]
  },
  {
   "cell_type": "code",
   "execution_count": 472,
   "id": "e8d76c46",
   "metadata": {
    "scrolled": true
   },
   "outputs": [],
   "source": [
    "# Loading training and test datasets \n",
    "df_train = pd.read_csv('../data/train.csv')\n",
    "df_test = pd.read_csv('../data/test.csv')"
   ]
  },
  {
   "cell_type": "code",
   "execution_count": 473,
   "id": "6da89e85",
   "metadata": {
    "scrolled": true
   },
   "outputs": [
    {
     "data": {
      "text/plain": [
       "((891, 12), (418, 11))"
      ]
     },
     "execution_count": 473,
     "metadata": {},
     "output_type": "execute_result"
    }
   ],
   "source": [
    "# Dimensions of the datasets\n",
    "df_train.shape, df_test.shape "
   ]
  },
  {
   "cell_type": "markdown",
   "id": "237ebfcc",
   "metadata": {},
   "source": [
    "## 4. Explanatory Data Analysis (EDA)"
   ]
  },
  {
   "cell_type": "code",
   "execution_count": 474,
   "id": "0d02c130",
   "metadata": {},
   "outputs": [
    {
     "data": {
      "text/html": [
       "<div>\n",
       "<style scoped>\n",
       "    .dataframe tbody tr th:only-of-type {\n",
       "        vertical-align: middle;\n",
       "    }\n",
       "\n",
       "    .dataframe tbody tr th {\n",
       "        vertical-align: top;\n",
       "    }\n",
       "\n",
       "    .dataframe thead th {\n",
       "        text-align: right;\n",
       "    }\n",
       "</style>\n",
       "<table border=\"1\" class=\"dataframe\">\n",
       "  <thead>\n",
       "    <tr style=\"text-align: right;\">\n",
       "      <th></th>\n",
       "      <th>PassengerId</th>\n",
       "      <th>Survived</th>\n",
       "      <th>Pclass</th>\n",
       "      <th>Name</th>\n",
       "      <th>Sex</th>\n",
       "      <th>Age</th>\n",
       "      <th>SibSp</th>\n",
       "      <th>Parch</th>\n",
       "      <th>Ticket</th>\n",
       "      <th>Fare</th>\n",
       "      <th>Cabin</th>\n",
       "      <th>Embarked</th>\n",
       "    </tr>\n",
       "  </thead>\n",
       "  <tbody>\n",
       "    <tr>\n",
       "      <th>0</th>\n",
       "      <td>1</td>\n",
       "      <td>0</td>\n",
       "      <td>3</td>\n",
       "      <td>Braund, Mr. Owen Harris</td>\n",
       "      <td>male</td>\n",
       "      <td>22.0</td>\n",
       "      <td>1</td>\n",
       "      <td>0</td>\n",
       "      <td>A/5 21171</td>\n",
       "      <td>7.2500</td>\n",
       "      <td>NaN</td>\n",
       "      <td>S</td>\n",
       "    </tr>\n",
       "    <tr>\n",
       "      <th>1</th>\n",
       "      <td>2</td>\n",
       "      <td>1</td>\n",
       "      <td>1</td>\n",
       "      <td>Cumings, Mrs. John Bradley (Florence Briggs Th...</td>\n",
       "      <td>female</td>\n",
       "      <td>38.0</td>\n",
       "      <td>1</td>\n",
       "      <td>0</td>\n",
       "      <td>PC 17599</td>\n",
       "      <td>71.2833</td>\n",
       "      <td>C85</td>\n",
       "      <td>C</td>\n",
       "    </tr>\n",
       "    <tr>\n",
       "      <th>2</th>\n",
       "      <td>3</td>\n",
       "      <td>1</td>\n",
       "      <td>3</td>\n",
       "      <td>Heikkinen, Miss. Laina</td>\n",
       "      <td>female</td>\n",
       "      <td>26.0</td>\n",
       "      <td>0</td>\n",
       "      <td>0</td>\n",
       "      <td>STON/O2. 3101282</td>\n",
       "      <td>7.9250</td>\n",
       "      <td>NaN</td>\n",
       "      <td>S</td>\n",
       "    </tr>\n",
       "    <tr>\n",
       "      <th>3</th>\n",
       "      <td>4</td>\n",
       "      <td>1</td>\n",
       "      <td>1</td>\n",
       "      <td>Futrelle, Mrs. Jacques Heath (Lily May Peel)</td>\n",
       "      <td>female</td>\n",
       "      <td>35.0</td>\n",
       "      <td>1</td>\n",
       "      <td>0</td>\n",
       "      <td>113803</td>\n",
       "      <td>53.1000</td>\n",
       "      <td>C123</td>\n",
       "      <td>S</td>\n",
       "    </tr>\n",
       "    <tr>\n",
       "      <th>4</th>\n",
       "      <td>5</td>\n",
       "      <td>0</td>\n",
       "      <td>3</td>\n",
       "      <td>Allen, Mr. William Henry</td>\n",
       "      <td>male</td>\n",
       "      <td>35.0</td>\n",
       "      <td>0</td>\n",
       "      <td>0</td>\n",
       "      <td>373450</td>\n",
       "      <td>8.0500</td>\n",
       "      <td>NaN</td>\n",
       "      <td>S</td>\n",
       "    </tr>\n",
       "  </tbody>\n",
       "</table>\n",
       "</div>"
      ],
      "text/plain": [
       "   PassengerId  Survived  Pclass  \\\n",
       "0            1         0       3   \n",
       "1            2         1       1   \n",
       "2            3         1       3   \n",
       "3            4         1       1   \n",
       "4            5         0       3   \n",
       "\n",
       "                                                Name     Sex   Age  SibSp  \\\n",
       "0                            Braund, Mr. Owen Harris    male  22.0      1   \n",
       "1  Cumings, Mrs. John Bradley (Florence Briggs Th...  female  38.0      1   \n",
       "2                             Heikkinen, Miss. Laina  female  26.0      0   \n",
       "3       Futrelle, Mrs. Jacques Heath (Lily May Peel)  female  35.0      1   \n",
       "4                           Allen, Mr. William Henry    male  35.0      0   \n",
       "\n",
       "   Parch            Ticket     Fare Cabin Embarked  \n",
       "0      0         A/5 21171   7.2500   NaN        S  \n",
       "1      0          PC 17599  71.2833   C85        C  \n",
       "2      0  STON/O2. 3101282   7.9250   NaN        S  \n",
       "3      0            113803  53.1000  C123        S  \n",
       "4      0            373450   8.0500   NaN        S  "
      ]
     },
     "execution_count": 474,
     "metadata": {},
     "output_type": "execute_result"
    }
   ],
   "source": [
    "df_train.head()"
   ]
  },
  {
   "cell_type": "markdown",
   "id": "2df65bd7",
   "metadata": {},
   "source": [
    "### 4.1 Missing Data"
   ]
  },
  {
   "cell_type": "code",
   "execution_count": 624,
   "id": "40fdd680",
   "metadata": {
    "scrolled": true
   },
   "outputs": [
    {
     "data": {
      "text/plain": [
       "<AxesSubplot:>"
      ]
     },
     "execution_count": 624,
     "metadata": {},
     "output_type": "execute_result"
    },
    {
     "data": {
      "image/png": "[encoded data removed]",
      "text/plain": [
       "<Figure size 432x288 with 1 Axes>"
      ]
     },
     "metadata": {},
     "output_type": "display_data"
    }
   ],
   "source": [
    "# Creating heatmap to see in which features can be found missing data. \n",
    "sns.heatmap(df_train.isnull(),yticklabels=False,cbar=False,cmap='viridis')"
   ]
  },
  {
   "cell_type": "code",
   "execution_count": 476,
   "id": "aec1549f",
   "metadata": {},
   "outputs": [
    {
     "data": {
      "text/plain": [
       "True"
      ]
     },
     "execution_count": 476,
     "metadata": {},
     "output_type": "execute_result"
    }
   ],
   "source": [
    "# is there any missing data in [Age]\n",
    "df_train[['Age']].isnull().values.any()"
   ]
  },
  {
   "cell_type": "code",
   "execution_count": 477,
   "id": "12ec04c1",
   "metadata": {},
   "outputs": [
    {
     "data": {
      "text/plain": [
       "177"
      ]
     },
     "execution_count": 477,
     "metadata": {},
     "output_type": "execute_result"
    }
   ],
   "source": [
    "# the number of missing data in [Age]\n",
    "df_train['Age'].isnull().sum()"
   ]
  },
  {
   "cell_type": "code",
   "execution_count": 478,
   "id": "6345f64a",
   "metadata": {},
   "outputs": [
    {
     "data": {
      "text/plain": [
       "687"
      ]
     },
     "execution_count": 478,
     "metadata": {},
     "output_type": "execute_result"
    }
   ],
   "source": [
    "# the number of missing data in [Cabin]\n",
    "df_train['Cabin'].isnull().sum()"
   ]
  },
  {
   "cell_type": "markdown",
   "id": "5610de89",
   "metadata": {},
   "source": [
    "As we can see, 177/891 observation is NaN in [Age] and 687/891 in [Cabin], therefore I decided not to use this [Cabin] in the model. The missing values of [Age] I will substitute with the Mean value in the step of Feature Engineering with SimpleImputer(). "
   ]
  },
  {
   "cell_type": "markdown",
   "id": "52b8a512",
   "metadata": {},
   "source": [
    "The following categorical features does not seem logical to contribute [Ticket, Embarked] to the accuracy of the prediction, therefore I will remove them from the model. "
   ]
  },
  {
   "cell_type": "code",
   "execution_count": 485,
   "id": "ea4ad22f",
   "metadata": {},
   "outputs": [
    {
     "data": {
      "text/plain": [
       "PassengerId      0\n",
       "Pclass           0\n",
       "Name             0\n",
       "Sex              0\n",
       "Age             86\n",
       "SibSp            0\n",
       "Parch            0\n",
       "Ticket           0\n",
       "Fare             1\n",
       "Cabin          327\n",
       "Embarked         0\n",
       "Name_length      0\n",
       "dtype: int64"
      ]
     },
     "execution_count": 485,
     "metadata": {},
     "output_type": "execute_result"
    }
   ],
   "source": [
    "# in test dataset 1 date is missing from Fare\n",
    "df_test.isnull().sum()"
   ]
  },
  {
   "cell_type": "markdown",
   "id": "c2552317",
   "metadata": {},
   "source": [
    "### 4.2. Transforming ['Name'] "
   ]
  },
  {
   "cell_type": "code",
   "execution_count": 479,
   "id": "3f7d17bf",
   "metadata": {},
   "outputs": [],
   "source": [
    "# length of passenger names was converted into numbers (maybe aristocrats with titles and longer names had a better chance to survive): \n",
    "def name_length(df):\n",
    "    length = df[df.columns[3]].str.len()\n",
    "    return length.values.reshape(-1, 1)"
   ]
  },
  {
   "cell_type": "code",
   "execution_count": 480,
   "id": "ecb47e07",
   "metadata": {},
   "outputs": [],
   "source": [
    "df_train['Name_length'] = name_length(df_train)"
   ]
  },
  {
   "cell_type": "code",
   "execution_count": 481,
   "id": "62eb80e6",
   "metadata": {},
   "outputs": [
    {
     "data": {
      "text/html": [
       "<div>\n",
       "<style scoped>\n",
       "    .dataframe tbody tr th:only-of-type {\n",
       "        vertical-align: middle;\n",
       "    }\n",
       "\n",
       "    .dataframe tbody tr th {\n",
       "        vertical-align: top;\n",
       "    }\n",
       "\n",
       "    .dataframe thead th {\n",
       "        text-align: right;\n",
       "    }\n",
       "</style>\n",
       "<table border=\"1\" class=\"dataframe\">\n",
       "  <thead>\n",
       "    <tr style=\"text-align: right;\">\n",
       "      <th></th>\n",
       "      <th>PassengerId</th>\n",
       "      <th>Survived</th>\n",
       "      <th>Pclass</th>\n",
       "      <th>Name</th>\n",
       "      <th>Sex</th>\n",
       "      <th>Age</th>\n",
       "      <th>SibSp</th>\n",
       "      <th>Parch</th>\n",
       "      <th>Ticket</th>\n",
       "      <th>Fare</th>\n",
       "      <th>Cabin</th>\n",
       "      <th>Embarked</th>\n",
       "      <th>Name_length</th>\n",
       "    </tr>\n",
       "  </thead>\n",
       "  <tbody>\n",
       "    <tr>\n",
       "      <th>0</th>\n",
       "      <td>1</td>\n",
       "      <td>0</td>\n",
       "      <td>3</td>\n",
       "      <td>Braund, Mr. Owen Harris</td>\n",
       "      <td>male</td>\n",
       "      <td>22.0</td>\n",
       "      <td>1</td>\n",
       "      <td>0</td>\n",
       "      <td>A/5 21171</td>\n",
       "      <td>7.2500</td>\n",
       "      <td>NaN</td>\n",
       "      <td>S</td>\n",
       "      <td>23</td>\n",
       "    </tr>\n",
       "    <tr>\n",
       "      <th>1</th>\n",
       "      <td>2</td>\n",
       "      <td>1</td>\n",
       "      <td>1</td>\n",
       "      <td>Cumings, Mrs. John Bradley (Florence Briggs Th...</td>\n",
       "      <td>female</td>\n",
       "      <td>38.0</td>\n",
       "      <td>1</td>\n",
       "      <td>0</td>\n",
       "      <td>PC 17599</td>\n",
       "      <td>71.2833</td>\n",
       "      <td>C85</td>\n",
       "      <td>C</td>\n",
       "      <td>51</td>\n",
       "    </tr>\n",
       "    <tr>\n",
       "      <th>2</th>\n",
       "      <td>3</td>\n",
       "      <td>1</td>\n",
       "      <td>3</td>\n",
       "      <td>Heikkinen, Miss. Laina</td>\n",
       "      <td>female</td>\n",
       "      <td>26.0</td>\n",
       "      <td>0</td>\n",
       "      <td>0</td>\n",
       "      <td>STON/O2. 3101282</td>\n",
       "      <td>7.9250</td>\n",
       "      <td>NaN</td>\n",
       "      <td>S</td>\n",
       "      <td>22</td>\n",
       "    </tr>\n",
       "    <tr>\n",
       "      <th>3</th>\n",
       "      <td>4</td>\n",
       "      <td>1</td>\n",
       "      <td>1</td>\n",
       "      <td>Futrelle, Mrs. Jacques Heath (Lily May Peel)</td>\n",
       "      <td>female</td>\n",
       "      <td>35.0</td>\n",
       "      <td>1</td>\n",
       "      <td>0</td>\n",
       "      <td>113803</td>\n",
       "      <td>53.1000</td>\n",
       "      <td>C123</td>\n",
       "      <td>S</td>\n",
       "      <td>44</td>\n",
       "    </tr>\n",
       "    <tr>\n",
       "      <th>4</th>\n",
       "      <td>5</td>\n",
       "      <td>0</td>\n",
       "      <td>3</td>\n",
       "      <td>Allen, Mr. William Henry</td>\n",
       "      <td>male</td>\n",
       "      <td>35.0</td>\n",
       "      <td>0</td>\n",
       "      <td>0</td>\n",
       "      <td>373450</td>\n",
       "      <td>8.0500</td>\n",
       "      <td>NaN</td>\n",
       "      <td>S</td>\n",
       "      <td>24</td>\n",
       "    </tr>\n",
       "  </tbody>\n",
       "</table>\n",
       "</div>"
      ],
      "text/plain": [
       "   PassengerId  Survived  Pclass  \\\n",
       "0            1         0       3   \n",
       "1            2         1       1   \n",
       "2            3         1       3   \n",
       "3            4         1       1   \n",
       "4            5         0       3   \n",
       "\n",
       "                                                Name     Sex   Age  SibSp  \\\n",
       "0                            Braund, Mr. Owen Harris    male  22.0      1   \n",
       "1  Cumings, Mrs. John Bradley (Florence Briggs Th...  female  38.0      1   \n",
       "2                             Heikkinen, Miss. Laina  female  26.0      0   \n",
       "3       Futrelle, Mrs. Jacques Heath (Lily May Peel)  female  35.0      1   \n",
       "4                           Allen, Mr. William Henry    male  35.0      0   \n",
       "\n",
       "   Parch            Ticket     Fare Cabin Embarked  Name_length  \n",
       "0      0         A/5 21171   7.2500   NaN        S           23  \n",
       "1      0          PC 17599  71.2833   C85        C           51  \n",
       "2      0  STON/O2. 3101282   7.9250   NaN        S           22  \n",
       "3      0            113803  53.1000  C123        S           44  \n",
       "4      0            373450   8.0500   NaN        S           24  "
      ]
     },
     "execution_count": 481,
     "metadata": {},
     "output_type": "execute_result"
    }
   ],
   "source": [
    "df_train.head()"
   ]
  },
  {
   "cell_type": "code",
   "execution_count": 482,
   "id": "d8e093b1",
   "metadata": {},
   "outputs": [],
   "source": [
    "# Creating Name_lenght column with name_lenght function in test dataset as well\n",
    "def name_length_df_test(df):\n",
    "    length = df[df.columns[2]].str.len()\n",
    "    return length.values.reshape(-1, 1)"
   ]
  },
  {
   "cell_type": "code",
   "execution_count": 483,
   "id": "656a59d4",
   "metadata": {},
   "outputs": [],
   "source": [
    "df_test['Name_length'] = name_length_df_test(df_test)"
   ]
  },
  {
   "cell_type": "code",
   "execution_count": 484,
   "id": "15d6fdb4",
   "metadata": {},
   "outputs": [
    {
     "data": {
      "text/html": [
       "<div>\n",
       "<style scoped>\n",
       "    .dataframe tbody tr th:only-of-type {\n",
       "        vertical-align: middle;\n",
       "    }\n",
       "\n",
       "    .dataframe tbody tr th {\n",
       "        vertical-align: top;\n",
       "    }\n",
       "\n",
       "    .dataframe thead th {\n",
       "        text-align: right;\n",
       "    }\n",
       "</style>\n",
       "<table border=\"1\" class=\"dataframe\">\n",
       "  <thead>\n",
       "    <tr style=\"text-align: right;\">\n",
       "      <th></th>\n",
       "      <th>PassengerId</th>\n",
       "      <th>Pclass</th>\n",
       "      <th>Name</th>\n",
       "      <th>Sex</th>\n",
       "      <th>Age</th>\n",
       "      <th>SibSp</th>\n",
       "      <th>Parch</th>\n",
       "      <th>Ticket</th>\n",
       "      <th>Fare</th>\n",
       "      <th>Cabin</th>\n",
       "      <th>Embarked</th>\n",
       "      <th>Name_length</th>\n",
       "    </tr>\n",
       "  </thead>\n",
       "  <tbody>\n",
       "    <tr>\n",
       "      <th>0</th>\n",
       "      <td>892</td>\n",
       "      <td>3</td>\n",
       "      <td>Kelly, Mr. James</td>\n",
       "      <td>male</td>\n",
       "      <td>34.5</td>\n",
       "      <td>0</td>\n",
       "      <td>0</td>\n",
       "      <td>330911</td>\n",
       "      <td>7.8292</td>\n",
       "      <td>NaN</td>\n",
       "      <td>Q</td>\n",
       "      <td>16</td>\n",
       "    </tr>\n",
       "    <tr>\n",
       "      <th>1</th>\n",
       "      <td>893</td>\n",
       "      <td>3</td>\n",
       "      <td>Wilkes, Mrs. James (Ellen Needs)</td>\n",
       "      <td>female</td>\n",
       "      <td>47.0</td>\n",
       "      <td>1</td>\n",
       "      <td>0</td>\n",
       "      <td>363272</td>\n",
       "      <td>7.0000</td>\n",
       "      <td>NaN</td>\n",
       "      <td>S</td>\n",
       "      <td>32</td>\n",
       "    </tr>\n",
       "    <tr>\n",
       "      <th>2</th>\n",
       "      <td>894</td>\n",
       "      <td>2</td>\n",
       "      <td>Myles, Mr. Thomas Francis</td>\n",
       "      <td>male</td>\n",
       "      <td>62.0</td>\n",
       "      <td>0</td>\n",
       "      <td>0</td>\n",
       "      <td>240276</td>\n",
       "      <td>9.6875</td>\n",
       "      <td>NaN</td>\n",
       "      <td>Q</td>\n",
       "      <td>25</td>\n",
       "    </tr>\n",
       "    <tr>\n",
       "      <th>3</th>\n",
       "      <td>895</td>\n",
       "      <td>3</td>\n",
       "      <td>Wirz, Mr. Albert</td>\n",
       "      <td>male</td>\n",
       "      <td>27.0</td>\n",
       "      <td>0</td>\n",
       "      <td>0</td>\n",
       "      <td>315154</td>\n",
       "      <td>8.6625</td>\n",
       "      <td>NaN</td>\n",
       "      <td>S</td>\n",
       "      <td>16</td>\n",
       "    </tr>\n",
       "    <tr>\n",
       "      <th>4</th>\n",
       "      <td>896</td>\n",
       "      <td>3</td>\n",
       "      <td>Hirvonen, Mrs. Alexander (Helga E Lindqvist)</td>\n",
       "      <td>female</td>\n",
       "      <td>22.0</td>\n",
       "      <td>1</td>\n",
       "      <td>1</td>\n",
       "      <td>3101298</td>\n",
       "      <td>12.2875</td>\n",
       "      <td>NaN</td>\n",
       "      <td>S</td>\n",
       "      <td>44</td>\n",
       "    </tr>\n",
       "  </tbody>\n",
       "</table>\n",
       "</div>"
      ],
      "text/plain": [
       "   PassengerId  Pclass                                          Name     Sex  \\\n",
       "0          892       3                              Kelly, Mr. James    male   \n",
       "1          893       3              Wilkes, Mrs. James (Ellen Needs)  female   \n",
       "2          894       2                     Myles, Mr. Thomas Francis    male   \n",
       "3          895       3                              Wirz, Mr. Albert    male   \n",
       "4          896       3  Hirvonen, Mrs. Alexander (Helga E Lindqvist)  female   \n",
       "\n",
       "    Age  SibSp  Parch   Ticket     Fare Cabin Embarked  Name_length  \n",
       "0  34.5      0      0   330911   7.8292   NaN        Q           16  \n",
       "1  47.0      1      0   363272   7.0000   NaN        S           32  \n",
       "2  62.0      0      0   240276   9.6875   NaN        Q           25  \n",
       "3  27.0      0      0   315154   8.6625   NaN        S           16  \n",
       "4  22.0      1      1  3101298  12.2875   NaN        S           44  "
      ]
     },
     "execution_count": 484,
     "metadata": {},
     "output_type": "execute_result"
    }
   ],
   "source": [
    "df_test.head()"
   ]
  },
  {
   "cell_type": "markdown",
   "id": "3fa84733",
   "metadata": {},
   "source": [
    "### 4.3. Checking Correlations and plotting"
   ]
  },
  {
   "cell_type": "code",
   "execution_count": 486,
   "id": "1c4b96cc",
   "metadata": {},
   "outputs": [
    {
     "data": {
      "text/html": [
       "<div>\n",
       "<style scoped>\n",
       "    .dataframe tbody tr th:only-of-type {\n",
       "        vertical-align: middle;\n",
       "    }\n",
       "\n",
       "    .dataframe tbody tr th {\n",
       "        vertical-align: top;\n",
       "    }\n",
       "\n",
       "    .dataframe thead th {\n",
       "        text-align: right;\n",
       "    }\n",
       "</style>\n",
       "<table border=\"1\" class=\"dataframe\">\n",
       "  <thead>\n",
       "    <tr style=\"text-align: right;\">\n",
       "      <th></th>\n",
       "      <th>PassengerId</th>\n",
       "      <th>Survived</th>\n",
       "      <th>Pclass</th>\n",
       "      <th>Age</th>\n",
       "      <th>SibSp</th>\n",
       "      <th>Parch</th>\n",
       "      <th>Fare</th>\n",
       "      <th>Name_length</th>\n",
       "    </tr>\n",
       "  </thead>\n",
       "  <tbody>\n",
       "    <tr>\n",
       "      <th>PassengerId</th>\n",
       "      <td>1.000000</td>\n",
       "      <td>-0.005007</td>\n",
       "      <td>-0.035144</td>\n",
       "      <td>0.036847</td>\n",
       "      <td>-0.057527</td>\n",
       "      <td>-0.001652</td>\n",
       "      <td>0.012658</td>\n",
       "      <td>-0.012986</td>\n",
       "    </tr>\n",
       "    <tr>\n",
       "      <th>Survived</th>\n",
       "      <td>-0.005007</td>\n",
       "      <td>1.000000</td>\n",
       "      <td>-0.338481</td>\n",
       "      <td>-0.077221</td>\n",
       "      <td>-0.035322</td>\n",
       "      <td>0.081629</td>\n",
       "      <td>0.257307</td>\n",
       "      <td>0.332350</td>\n",
       "    </tr>\n",
       "    <tr>\n",
       "      <th>Pclass</th>\n",
       "      <td>-0.035144</td>\n",
       "      <td>-0.338481</td>\n",
       "      <td>1.000000</td>\n",
       "      <td>-0.369226</td>\n",
       "      <td>0.083081</td>\n",
       "      <td>0.018443</td>\n",
       "      <td>-0.549500</td>\n",
       "      <td>-0.220001</td>\n",
       "    </tr>\n",
       "    <tr>\n",
       "      <th>Age</th>\n",
       "      <td>0.036847</td>\n",
       "      <td>-0.077221</td>\n",
       "      <td>-0.369226</td>\n",
       "      <td>1.000000</td>\n",
       "      <td>-0.308247</td>\n",
       "      <td>-0.189119</td>\n",
       "      <td>0.096067</td>\n",
       "      <td>0.034612</td>\n",
       "    </tr>\n",
       "    <tr>\n",
       "      <th>SibSp</th>\n",
       "      <td>-0.057527</td>\n",
       "      <td>-0.035322</td>\n",
       "      <td>0.083081</td>\n",
       "      <td>-0.308247</td>\n",
       "      <td>1.000000</td>\n",
       "      <td>0.414838</td>\n",
       "      <td>0.159651</td>\n",
       "      <td>0.165019</td>\n",
       "    </tr>\n",
       "    <tr>\n",
       "      <th>Parch</th>\n",
       "      <td>-0.001652</td>\n",
       "      <td>0.081629</td>\n",
       "      <td>0.018443</td>\n",
       "      <td>-0.189119</td>\n",
       "      <td>0.414838</td>\n",
       "      <td>1.000000</td>\n",
       "      <td>0.216225</td>\n",
       "      <td>0.252282</td>\n",
       "    </tr>\n",
       "    <tr>\n",
       "      <th>Fare</th>\n",
       "      <td>0.012658</td>\n",
       "      <td>0.257307</td>\n",
       "      <td>-0.549500</td>\n",
       "      <td>0.096067</td>\n",
       "      <td>0.159651</td>\n",
       "      <td>0.216225</td>\n",
       "      <td>1.000000</td>\n",
       "      <td>0.155832</td>\n",
       "    </tr>\n",
       "    <tr>\n",
       "      <th>Name_length</th>\n",
       "      <td>-0.012986</td>\n",
       "      <td>0.332350</td>\n",
       "      <td>-0.220001</td>\n",
       "      <td>0.034612</td>\n",
       "      <td>0.165019</td>\n",
       "      <td>0.252282</td>\n",
       "      <td>0.155832</td>\n",
       "      <td>1.000000</td>\n",
       "    </tr>\n",
       "  </tbody>\n",
       "</table>\n",
       "</div>"
      ],
      "text/plain": [
       "             PassengerId  Survived    Pclass       Age     SibSp     Parch  \\\n",
       "PassengerId     1.000000 -0.005007 -0.035144  0.036847 -0.057527 -0.001652   \n",
       "Survived       -0.005007  1.000000 -0.338481 -0.077221 -0.035322  0.081629   \n",
       "Pclass         -0.035144 -0.338481  1.000000 -0.369226  0.083081  0.018443   \n",
       "Age             0.036847 -0.077221 -0.369226  1.000000 -0.308247 -0.189119   \n",
       "SibSp          -0.057527 -0.035322  0.083081 -0.308247  1.000000  0.414838   \n",
       "Parch          -0.001652  0.081629  0.018443 -0.189119  0.414838  1.000000   \n",
       "Fare            0.012658  0.257307 -0.549500  0.096067  0.159651  0.216225   \n",
       "Name_length    -0.012986  0.332350 -0.220001  0.034612  0.165019  0.252282   \n",
       "\n",
       "                 Fare  Name_length  \n",
       "PassengerId  0.012658    -0.012986  \n",
       "Survived     0.257307     0.332350  \n",
       "Pclass      -0.549500    -0.220001  \n",
       "Age          0.096067     0.034612  \n",
       "SibSp        0.159651     0.165019  \n",
       "Parch        0.216225     0.252282  \n",
       "Fare         1.000000     0.155832  \n",
       "Name_length  0.155832     1.000000  "
      ]
     },
     "execution_count": 486,
     "metadata": {},
     "output_type": "execute_result"
    }
   ],
   "source": [
    "# Correlation between Survived and numerical features \n",
    "df_train.corr()"
   ]
  },
  {
   "cell_type": "code",
   "execution_count": 623,
   "id": "3c64b649",
   "metadata": {},
   "outputs": [
    {
     "data": {
      "text/plain": [
       "<AxesSubplot:>"
      ]
     },
     "execution_count": 623,
     "metadata": {},
     "output_type": "execute_result"
    },
    {
     "data": {
      "image/png": "[encoded data removed]",
      "text/plain": [
       "<Figure size 864x432 with 2 Axes>"
      ]
     },
     "metadata": {},
     "output_type": "display_data"
    }
   ],
   "source": [
    "plt.figure(figsize=(12,6)) \n",
    "sns.heatmap(df_train.corr(),annot=True, cmap='coolwarm')"
   ]
  },
  {
   "cell_type": "markdown",
   "id": "951a5847",
   "metadata": {},
   "source": [
    "The following numerical features show the strongest correlation with [Survived]: \n",
    "\n",
    "Pclass: -0.34 \t\n",
    "\n",
    "Fare: 0.26\n",
    "\n",
    "Name_length: 0.33"
   ]
  },
  {
   "cell_type": "code",
   "execution_count": 487,
   "id": "6989ab15",
   "metadata": {
    "scrolled": false
   },
   "outputs": [
    {
     "data": {
      "text/plain": [
       "<AxesSubplot:xlabel='Age', ylabel='Count'>"
      ]
     },
     "execution_count": 487,
     "metadata": {},
     "output_type": "execute_result"
    },
    {
     "data": {
      "image/png": "[encoded data removed]",
      "text/plain": [
       "<Figure size 432x288 with 1 Axes>"
      ]
     },
     "metadata": {},
     "output_type": "display_data"
    }
   ],
   "source": [
    "# The histogram shows the age distribution of passengers and compares surviving/non-surviving passengers.\n",
    "df_train.dropna()\n",
    "sns.histplot(x='Age', hue='Survived', data=df_train) "
   ]
  },
  {
   "cell_type": "markdown",
   "id": "d27ace5c",
   "metadata": {},
   "source": [
    "The age distribution shows Passenger under 10 had and over 80 higher probability to survive, between 10-25 and 35-50 much higher probability to decease."
   ]
  },
  {
   "cell_type": "code",
   "execution_count": 488,
   "id": "6109d3c3",
   "metadata": {},
   "outputs": [
    {
     "data": {
      "text/plain": [
       "<AxesSubplot:xlabel='SibSp', ylabel='Count'>"
      ]
     },
     "execution_count": 488,
     "metadata": {},
     "output_type": "execute_result"
    },
    {
     "data": {
      "image/png": "[encoded data removed]",
      "text/plain": [
       "<Figure size 432x288 with 1 Axes>"
      ]
     },
     "metadata": {},
     "output_type": "display_data"
    }
   ],
   "source": [
    "sns.histplot(x='SibSp', hue='Survived', data=df_train) "
   ]
  },
  {
   "cell_type": "code",
   "execution_count": 489,
   "id": "67a58428",
   "metadata": {},
   "outputs": [
    {
     "data": {
      "text/plain": [
       "<AxesSubplot:xlabel='Parch', ylabel='Count'>"
      ]
     },
     "execution_count": 489,
     "metadata": {},
     "output_type": "execute_result"
    },
    {
     "data": {
      "image/png": "[encoded data removed]",
      "text/plain": [
       "<Figure size 432x288 with 1 Axes>"
      ]
     },
     "metadata": {},
     "output_type": "display_data"
    }
   ],
   "source": [
    "sns.histplot(x='Parch', hue='Survived', data=df_train) "
   ]
  },
  {
   "cell_type": "code",
   "execution_count": 490,
   "id": "5dba01dc",
   "metadata": {},
   "outputs": [
    {
     "data": {
      "text/plain": [
       "<AxesSubplot:xlabel='Sex', ylabel='count'>"
      ]
     },
     "execution_count": 490,
     "metadata": {},
     "output_type": "execute_result"
    },
    {
     "data": {
      "image/png": "[encoded data removed]",
      "text/plain": [
       "<Figure size 432x288 with 1 Axes>"
      ]
     },
     "metadata": {},
     "output_type": "display_data"
    }
   ],
   "source": [
    "# Plotting charts with relevant categorical features [Sex] and [Survived]\n",
    "sns.set_theme(style=\"darkgrid\")\n",
    "sns.countplot(x='Sex', hue='Survived', data=df_train)"
   ]
  },
  {
   "cell_type": "markdown",
   "id": "c8e77863",
   "metadata": {},
   "source": [
    "According to the barchart there is a correlation between Sex and Survived. Much more male died and much more female survived."
   ]
  },
  {
   "cell_type": "markdown",
   "id": "8a79692e",
   "metadata": {},
   "source": [
    "### 4.4 Assigning X and y "
   ]
  },
  {
   "cell_type": "code",
   "execution_count": 578,
   "id": "35862a4a",
   "metadata": {},
   "outputs": [],
   "source": [
    "# Keeping the following features in training dataset: Sex, Pclass, Age, SibSp, Fare and Name_lenght. \n",
    "# Dropping the rest of the columns. I dropped Parch as well due to an unidentifiable error message.    \n",
    "X_train = df_train.drop(['Survived','PassengerId', 'Name', 'Ticket', 'Cabin', 'Embarked', 'Parch'], axis=1)\n",
    "y_train = df_train['Survived']"
   ]
  },
  {
   "cell_type": "code",
   "execution_count": 579,
   "id": "dfe39ff0",
   "metadata": {},
   "outputs": [
    {
     "data": {
      "text/html": [
       "<div>\n",
       "<style scoped>\n",
       "    .dataframe tbody tr th:only-of-type {\n",
       "        vertical-align: middle;\n",
       "    }\n",
       "\n",
       "    .dataframe tbody tr th {\n",
       "        vertical-align: top;\n",
       "    }\n",
       "\n",
       "    .dataframe thead th {\n",
       "        text-align: right;\n",
       "    }\n",
       "</style>\n",
       "<table border=\"1\" class=\"dataframe\">\n",
       "  <thead>\n",
       "    <tr style=\"text-align: right;\">\n",
       "      <th></th>\n",
       "      <th>Pclass</th>\n",
       "      <th>Sex</th>\n",
       "      <th>Age</th>\n",
       "      <th>SibSp</th>\n",
       "      <th>Fare</th>\n",
       "      <th>Name_length</th>\n",
       "    </tr>\n",
       "  </thead>\n",
       "  <tbody>\n",
       "    <tr>\n",
       "      <th>0</th>\n",
       "      <td>3</td>\n",
       "      <td>male</td>\n",
       "      <td>22.0</td>\n",
       "      <td>1</td>\n",
       "      <td>7.2500</td>\n",
       "      <td>23</td>\n",
       "    </tr>\n",
       "    <tr>\n",
       "      <th>1</th>\n",
       "      <td>1</td>\n",
       "      <td>female</td>\n",
       "      <td>38.0</td>\n",
       "      <td>1</td>\n",
       "      <td>71.2833</td>\n",
       "      <td>51</td>\n",
       "    </tr>\n",
       "    <tr>\n",
       "      <th>2</th>\n",
       "      <td>3</td>\n",
       "      <td>female</td>\n",
       "      <td>26.0</td>\n",
       "      <td>0</td>\n",
       "      <td>7.9250</td>\n",
       "      <td>22</td>\n",
       "    </tr>\n",
       "    <tr>\n",
       "      <th>3</th>\n",
       "      <td>1</td>\n",
       "      <td>female</td>\n",
       "      <td>35.0</td>\n",
       "      <td>1</td>\n",
       "      <td>53.1000</td>\n",
       "      <td>44</td>\n",
       "    </tr>\n",
       "    <tr>\n",
       "      <th>4</th>\n",
       "      <td>3</td>\n",
       "      <td>male</td>\n",
       "      <td>35.0</td>\n",
       "      <td>0</td>\n",
       "      <td>8.0500</td>\n",
       "      <td>24</td>\n",
       "    </tr>\n",
       "  </tbody>\n",
       "</table>\n",
       "</div>"
      ],
      "text/plain": [
       "   Pclass     Sex   Age  SibSp     Fare  Name_length\n",
       "0       3    male  22.0      1   7.2500           23\n",
       "1       1  female  38.0      1  71.2833           51\n",
       "2       3  female  26.0      0   7.9250           22\n",
       "3       1  female  35.0      1  53.1000           44\n",
       "4       3    male  35.0      0   8.0500           24"
      ]
     },
     "execution_count": 579,
     "metadata": {},
     "output_type": "execute_result"
    }
   ],
   "source": [
    "X_train.head()"
   ]
  },
  {
   "cell_type": "code",
   "execution_count": 576,
   "id": "511e2aab",
   "metadata": {},
   "outputs": [],
   "source": [
    "# Keeping the following features in test dataset: Sex, Pclass, Age, SibSp, Parch, Fare and Name_lenght. \n",
    "X_test = df_test.drop(['PassengerId', 'Name', 'Ticket', 'Cabin', 'Embarked', 'Parch'], axis=1)"
   ]
  },
  {
   "cell_type": "code",
   "execution_count": 577,
   "id": "5ce8321a",
   "metadata": {},
   "outputs": [
    {
     "data": {
      "text/html": [
       "<div>\n",
       "<style scoped>\n",
       "    .dataframe tbody tr th:only-of-type {\n",
       "        vertical-align: middle;\n",
       "    }\n",
       "\n",
       "    .dataframe tbody tr th {\n",
       "        vertical-align: top;\n",
       "    }\n",
       "\n",
       "    .dataframe thead th {\n",
       "        text-align: right;\n",
       "    }\n",
       "</style>\n",
       "<table border=\"1\" class=\"dataframe\">\n",
       "  <thead>\n",
       "    <tr style=\"text-align: right;\">\n",
       "      <th></th>\n",
       "      <th>Pclass</th>\n",
       "      <th>Sex</th>\n",
       "      <th>Age</th>\n",
       "      <th>SibSp</th>\n",
       "      <th>Fare</th>\n",
       "      <th>Name_length</th>\n",
       "    </tr>\n",
       "  </thead>\n",
       "  <tbody>\n",
       "    <tr>\n",
       "      <th>0</th>\n",
       "      <td>3</td>\n",
       "      <td>male</td>\n",
       "      <td>34.5</td>\n",
       "      <td>0</td>\n",
       "      <td>7.8292</td>\n",
       "      <td>16</td>\n",
       "    </tr>\n",
       "    <tr>\n",
       "      <th>1</th>\n",
       "      <td>3</td>\n",
       "      <td>female</td>\n",
       "      <td>47.0</td>\n",
       "      <td>1</td>\n",
       "      <td>7.0000</td>\n",
       "      <td>32</td>\n",
       "    </tr>\n",
       "    <tr>\n",
       "      <th>2</th>\n",
       "      <td>2</td>\n",
       "      <td>male</td>\n",
       "      <td>62.0</td>\n",
       "      <td>0</td>\n",
       "      <td>9.6875</td>\n",
       "      <td>25</td>\n",
       "    </tr>\n",
       "    <tr>\n",
       "      <th>3</th>\n",
       "      <td>3</td>\n",
       "      <td>male</td>\n",
       "      <td>27.0</td>\n",
       "      <td>0</td>\n",
       "      <td>8.6625</td>\n",
       "      <td>16</td>\n",
       "    </tr>\n",
       "    <tr>\n",
       "      <th>4</th>\n",
       "      <td>3</td>\n",
       "      <td>female</td>\n",
       "      <td>22.0</td>\n",
       "      <td>1</td>\n",
       "      <td>12.2875</td>\n",
       "      <td>44</td>\n",
       "    </tr>\n",
       "  </tbody>\n",
       "</table>\n",
       "</div>"
      ],
      "text/plain": [
       "   Pclass     Sex   Age  SibSp     Fare  Name_length\n",
       "0       3    male  34.5      0   7.8292           16\n",
       "1       3  female  47.0      1   7.0000           32\n",
       "2       2    male  62.0      0   9.6875           25\n",
       "3       3    male  27.0      0   8.6625           16\n",
       "4       3  female  22.0      1  12.2875           44"
      ]
     },
     "execution_count": 577,
     "metadata": {},
     "output_type": "execute_result"
    }
   ],
   "source": [
    "X_test.head()"
   ]
  },
  {
   "cell_type": "markdown",
   "id": "3c95c12f",
   "metadata": {},
   "source": [
    "## 5. Feature Engineering"
   ]
  },
  {
   "cell_type": "markdown",
   "id": "e726b51a",
   "metadata": {},
   "source": [
    "Steps according to Features: \n",
    "    \n",
    "    Pclass: one hot encoding (converting categorical variables into binary features)\n",
    "    Sex: one hot encoding \n",
    "    Age: Imputation (filling missing values) + scaling (normalize the data to the range 0.0 - 1.0)\n",
    "    SibSp: one hot encoding   \n",
    "    Fare: Imputation + scaling\n",
    "    Name_length: scaling\n",
    "        \n",
    "Steps according to FE techniques:  \n",
    "\n",
    "    Imputer: filling missing values in [Age] and [Fare] with mean\n",
    "    OneHotEncoder: converting categorical variables into numbers in [Pclass], [Sex], [SibSp]\n",
    "    MinMaxScaler: scale numerical colums in [Age], [Name_length] and [Fare]\n",
    "    \n",
    "Since [Age] and [Fare] needs imputation and scaling, I apply pipeline for combining the 2 techniques.  \n"
   ]
  },
  {
   "cell_type": "code",
   "execution_count": 563,
   "id": "25dc1650",
   "metadata": {},
   "outputs": [],
   "source": [
    "impute_scale_pipeline = Pipeline([\n",
    "    ('imputer', SimpleImputer(strategy='mean')),\n",
    "    ('scaler', MinMaxScaler())\n",
    "]) "
   ]
  },
  {
   "cell_type": "code",
   "execution_count": 580,
   "id": "56645dc3",
   "metadata": {},
   "outputs": [],
   "source": [
    "column_transformer = ColumnTransformer([\n",
    "    ('impute_scale_pipeline', impute_scale_pipeline, ['Age', 'Fare']),\n",
    "    ('cat_ohe', OneHotEncoder(), ['Pclass', 'Sex', 'SibSp']),\n",
    "    ('num_scaler', MinMaxScaler(), ['Name_length'])\n",
    "])"
   ]
  },
  {
   "cell_type": "code",
   "execution_count": 581,
   "id": "56698139",
   "metadata": {},
   "outputs": [
    {
     "data": {
      "text/plain": [
       "Index(['Pclass', 'Sex', 'Age', 'SibSp', 'Fare', 'Name_length'], dtype='object')"
      ]
     },
     "execution_count": 581,
     "metadata": {},
     "output_type": "execute_result"
    }
   ],
   "source": [
    "X_train.columns"
   ]
  },
  {
   "cell_type": "code",
   "execution_count": 582,
   "id": "47801f28",
   "metadata": {},
   "outputs": [],
   "source": [
    "column_transformer.fit(X_train)\n",
    "X_train_fe = column_transformer.transform(X_train)\n",
    "X_test_fe = column_transformer.transform(X_test)"
   ]
  },
  {
   "cell_type": "code",
   "execution_count": 583,
   "id": "aa001455",
   "metadata": {},
   "outputs": [
    {
     "data": {
      "text/plain": [
       "array([[0.27117366, 0.01415106, 0.        , ..., 0.        , 0.        ,\n",
       "        0.15714286],\n",
       "       [0.4722292 , 0.13913574, 1.        , ..., 0.        , 0.        ,\n",
       "        0.55714286],\n",
       "       [0.32143755, 0.01546857, 0.        , ..., 0.        , 0.        ,\n",
       "        0.14285714],\n",
       "       ...,\n",
       "       [0.36792055, 0.04577135, 0.        , ..., 0.        , 0.        ,\n",
       "        0.4       ],\n",
       "       [0.32143755, 0.0585561 , 1.        , ..., 0.        , 0.        ,\n",
       "        0.12857143],\n",
       "       [0.39683338, 0.01512699, 0.        , ..., 0.        , 0.        ,\n",
       "        0.1       ]])"
      ]
     },
     "execution_count": 583,
     "metadata": {},
     "output_type": "execute_result"
    }
   ],
   "source": [
    "X_train_fe"
   ]
  },
  {
   "cell_type": "markdown",
   "id": "52781e9a",
   "metadata": {},
   "source": [
    "## 6. Training Model, calculating accuracy score and predict"
   ]
  },
  {
   "cell_type": "code",
   "execution_count": 588,
   "id": "8aff01ef",
   "metadata": {},
   "outputs": [
    {
     "data": {
      "text/plain": [
       "LogisticRegression()"
      ]
     },
     "execution_count": 588,
     "metadata": {},
     "output_type": "execute_result"
    }
   ],
   "source": [
    "# train the model using Logistic regression \n",
    "\n",
    "LogReg = LogisticRegression()\n",
    "LogReg.fit(X_train_fe, y_train)"
   ]
  },
  {
   "cell_type": "code",
   "execution_count": 592,
   "id": "2f705534",
   "metadata": {},
   "outputs": [
    {
     "data": {
      "text/plain": [
       "0.8047138047138047"
      ]
     },
     "execution_count": 592,
     "metadata": {},
     "output_type": "execute_result"
    }
   ],
   "source": [
    "# Evaluating the model \n",
    "LogReg.score(X_train_fe, y_train)"
   ]
  },
  {
   "cell_type": "code",
   "execution_count": 596,
   "id": "e4c644de",
   "metadata": {},
   "outputs": [],
   "source": [
    "# Predicting y value (Survived) of the test dataset \n",
    "y_pred = LogReg.predict(X_test_fe)"
   ]
  },
  {
   "cell_type": "code",
   "execution_count": 597,
   "id": "db9e9393",
   "metadata": {},
   "outputs": [
    {
     "data": {
      "text/plain": [
       "array([0, 0, 0, 0, 1, 0, 1, 0, 1, 0, 0, 0, 1, 0, 1, 1, 0, 0, 1, 1, 0, 0,\n",
       "       1, 1, 1, 0, 1, 0, 0, 0, 0, 0, 1, 1, 0, 0, 1, 1, 0, 0, 0, 0, 0, 1,\n",
       "       1, 0, 0, 0, 1, 1, 1, 0, 1, 1, 0, 0, 0, 0, 0, 1, 0, 0, 0, 1, 1, 1,\n",
       "       1, 0, 0, 1, 1, 0, 1, 0, 1, 0, 0, 1, 0, 1, 0, 0, 0, 0, 0, 0, 1, 1,\n",
       "       1, 0, 1, 0, 1, 0, 0, 0, 1, 0, 1, 0, 1, 0, 0, 0, 1, 0, 0, 0, 0, 0,\n",
       "       0, 1, 1, 1, 1, 0, 0, 1, 0, 1, 1, 0, 1, 0, 0, 1, 0, 0, 0, 0, 0, 0,\n",
       "       1, 0, 0, 0, 0, 0, 1, 0, 0, 1, 0, 0, 0, 0, 0, 0, 0, 0, 1, 0, 0, 1,\n",
       "       0, 0, 1, 1, 0, 1, 1, 0, 1, 0, 0, 1, 0, 0, 1, 1, 0, 0, 0, 0, 0, 1,\n",
       "       1, 0, 1, 1, 0, 0, 1, 0, 1, 0, 1, 0, 0, 0, 0, 0, 0, 0, 0, 0, 1, 1,\n",
       "       0, 1, 1, 0, 0, 1, 0, 0, 1, 0, 1, 0, 0, 0, 0, 1, 0, 0, 1, 0, 1, 0,\n",
       "       1, 0, 1, 0, 1, 1, 0, 1, 0, 0, 0, 1, 0, 0, 0, 0, 0, 0, 1, 1, 1, 1,\n",
       "       0, 0, 0, 0, 1, 0, 1, 1, 1, 0, 1, 0, 0, 0, 0, 0, 1, 0, 0, 0, 1, 1,\n",
       "       0, 0, 0, 0, 1, 0, 0, 0, 1, 1, 0, 1, 0, 0, 0, 0, 1, 0, 1, 1, 1, 0,\n",
       "       0, 1, 0, 0, 0, 1, 0, 0, 0, 0, 1, 0, 0, 0, 0, 0, 0, 0, 1, 1, 1, 0,\n",
       "       0, 1, 0, 0, 0, 1, 1, 1, 0, 0, 0, 0, 0, 0, 0, 0, 1, 0, 1, 0, 0, 0,\n",
       "       1, 0, 0, 1, 0, 0, 0, 0, 0, 0, 0, 0, 0, 1, 0, 1, 0, 1, 0, 1, 1, 0,\n",
       "       0, 0, 1, 0, 1, 0, 0, 1, 0, 1, 1, 0, 1, 1, 0, 1, 1, 0, 0, 1, 0, 0,\n",
       "       1, 1, 1, 0, 0, 0, 0, 0, 1, 1, 0, 1, 0, 0, 0, 0, 1, 1, 0, 0, 0, 1,\n",
       "       0, 1, 0, 0, 1, 0, 1, 1, 0, 0, 0, 0, 1, 1, 1, 1, 1, 0, 1, 0, 0, 0])"
      ]
     },
     "execution_count": 597,
     "metadata": {},
     "output_type": "execute_result"
    }
   ],
   "source": [
    "y_pred"
   ]
  },
  {
   "cell_type": "code",
   "execution_count": 599,
   "id": "7c297573",
   "metadata": {},
   "outputs": [
    {
     "data": {
      "text/plain": [
       "array([[0.92104439, 0.07895561],\n",
       "       [0.50914738, 0.49085262],\n",
       "       [0.89127322, 0.10872678],\n",
       "       [0.90386109, 0.09613891],\n",
       "       [0.29666724, 0.70333276],\n",
       "       [0.84811451, 0.15188549],\n",
       "       [0.44425802, 0.55574198],\n",
       "       [0.72239426, 0.27760574],\n",
       "       [0.29358983, 0.70641017],\n",
       "       [0.89941094, 0.10058906],\n",
       "       [0.91044461, 0.08955539],\n",
       "       [0.65459589, 0.34540411],\n",
       "       [0.05169683, 0.94830317],\n",
       "       [0.8945274 , 0.1054726 ],\n",
       "       [0.08745041, 0.91254959],\n",
       "       [0.13660235, 0.86339765],\n",
       "       [0.80938425, 0.19061575],\n",
       "       [0.8865497 , 0.1134503 ],\n",
       "       [0.38273756, 0.61726244],\n",
       "       [0.48858734, 0.51141266],\n",
       "       [0.70419576, 0.29580424],\n",
       "       [0.83183642, 0.16816358],\n",
       "       [0.07763356, 0.92236644],\n",
       "       [0.45202566, 0.54797434],\n",
       "       [0.08044125, 0.91955875],\n",
       "       [0.93932108, 0.06067892],\n",
       "       [0.06831843, 0.93168157],\n",
       "       [0.89079846, 0.10920154],\n",
       "       [0.63070205, 0.36929795],\n",
       "       [0.92632516, 0.07367484],\n",
       "       [0.83850347, 0.16149653],\n",
       "       [0.76391756, 0.23608244],\n",
       "       [0.37781622, 0.62218378],\n",
       "       [0.32518871, 0.67481129],\n",
       "       [0.53092269, 0.46907731],\n",
       "       [0.82131984, 0.17868016],\n",
       "       [0.44566447, 0.55433553],\n",
       "       [0.38859784, 0.61140216],\n",
       "       [0.90001853, 0.09998147],\n",
       "       [0.90936782, 0.09063218],\n",
       "       [0.9294884 , 0.0705116 ],\n",
       "       [0.53919087, 0.46080913],\n",
       "       [0.92881813, 0.07118187],\n",
       "       [0.18440723, 0.81559277],\n",
       "       [0.09207424, 0.90792576],\n",
       "       [0.8767879 , 0.1232121 ],\n",
       "       [0.653827  , 0.346173  ],\n",
       "       [0.90031948, 0.09968052],\n",
       "       [0.13906949, 0.86093051],\n",
       "       [0.39009437, 0.60990563],\n",
       "       [0.48734789, 0.51265211],\n",
       "       [0.7683391 , 0.2316609 ],\n",
       "       [0.19421355, 0.80578645],\n",
       "       [0.2636737 , 0.7363263 ],\n",
       "       [0.74144005, 0.25855995],\n",
       "       [0.95042715, 0.04957285],\n",
       "       [0.92313105, 0.07686895],\n",
       "       [0.87998634, 0.12001366],\n",
       "       [0.89347665, 0.10652335],\n",
       "       [0.08058127, 0.91941873],\n",
       "       [0.87763899, 0.12236101],\n",
       "       [0.775613  , 0.224387  ],\n",
       "       [0.85894488, 0.14105512],\n",
       "       [0.36087878, 0.63912122],\n",
       "       [0.41174373, 0.58825627],\n",
       "       [0.15288117, 0.84711883],\n",
       "       [0.35155136, 0.64844864],\n",
       "       [0.64319955, 0.35680045],\n",
       "       [0.53313798, 0.46686202],\n",
       "       [0.12833097, 0.87166903],\n",
       "       [0.38464275, 0.61535725],\n",
       "       [0.88497085, 0.11502915],\n",
       "       [0.40107953, 0.59892047],\n",
       "       [0.51552729, 0.48447271],\n",
       "       [0.09118981, 0.90881019],\n",
       "       [0.53780534, 0.46219466],\n",
       "       [0.91042972, 0.08957028],\n",
       "       [0.14973125, 0.85026875],\n",
       "       [0.75204759, 0.24795241],\n",
       "       [0.39521045, 0.60478955],\n",
       "       [0.82101119, 0.17898881],\n",
       "       [0.74609242, 0.25390758],\n",
       "       [0.68663606, 0.31336394],\n",
       "       [0.90549605, 0.09450395],\n",
       "       [0.7750308 , 0.2249692 ],\n",
       "       [0.90311854, 0.09688146],\n",
       "       [0.43033634, 0.56966366],\n",
       "       [0.34144641, 0.65855359],\n",
       "       [0.43116907, 0.56883093],\n",
       "       [0.5722584 , 0.4277416 ],\n",
       "       [0.25213492, 0.74786508],\n",
       "       [0.90801218, 0.09198782],\n",
       "       [0.06750783, 0.93249217],\n",
       "       [0.90921475, 0.09078525],\n",
       "       [0.53535396, 0.46464604],\n",
       "       [0.88458191, 0.11541809],\n",
       "       [0.17932699, 0.82067301],\n",
       "       [0.89713096, 0.10286904],\n",
       "       [0.3477435 , 0.6522565 ],\n",
       "       [0.90341047, 0.09658953],\n",
       "       [0.08365582, 0.91634418],\n",
       "       [0.75706266, 0.24293734],\n",
       "       [0.90801465, 0.09198535],\n",
       "       [0.86847125, 0.13152875],\n",
       "       [0.27167711, 0.72832289],\n",
       "       [0.89281462, 0.10718538],\n",
       "       [0.8834639 , 0.1165361 ],\n",
       "       [0.91045869, 0.08954131],\n",
       "       [0.88905953, 0.11094047],\n",
       "       [0.72567436, 0.27432564],\n",
       "       [0.81920404, 0.18079596],\n",
       "       [0.42029964, 0.57970036],\n",
       "       [0.10747312, 0.89252688],\n",
       "       [0.35160017, 0.64839983],\n",
       "       [0.13877523, 0.86122477],\n",
       "       [0.85372204, 0.14627796],\n",
       "       [0.91058534, 0.08941466],\n",
       "       [0.21801969, 0.78198031],\n",
       "       [0.59471572, 0.40528428],\n",
       "       [0.15081655, 0.84918345],\n",
       "       [0.14758256, 0.85241744],\n",
       "       [0.9050908 , 0.0949092 ],\n",
       "       [0.08872417, 0.91127583],\n",
       "       [0.89729538, 0.10270462],\n",
       "       [0.90924408, 0.09075592],\n",
       "       [0.33952626, 0.66047374],\n",
       "       [0.87870991, 0.12129009],\n",
       "       [0.50185381, 0.49814619],\n",
       "       [0.83219378, 0.16780622],\n",
       "       [0.89055969, 0.10944031],\n",
       "       [0.90730095, 0.09269905],\n",
       "       [0.7009001 , 0.2990999 ],\n",
       "       [0.40445939, 0.59554061],\n",
       "       [0.9000189 , 0.0999811 ],\n",
       "       [0.93157126, 0.06842874],\n",
       "       [0.88315574, 0.11684426],\n",
       "       [0.89041523, 0.10958477],\n",
       "       [0.76095497, 0.23904503],\n",
       "       [0.39182612, 0.60817388],\n",
       "       [0.90979937, 0.09020063],\n",
       "       [0.61971483, 0.38028517],\n",
       "       [0.09233462, 0.90766538],\n",
       "       [0.67689212, 0.32310788],\n",
       "       [0.74953475, 0.25046525],\n",
       "       [0.53103087, 0.46896913],\n",
       "       [0.97882636, 0.02117364],\n",
       "       [0.53173374, 0.46826626],\n",
       "       [0.89075123, 0.10924877],\n",
       "       [0.54654062, 0.45345938],\n",
       "       [0.76193356, 0.23806644],\n",
       "       [0.06050937, 0.93949063],\n",
       "       [0.90549605, 0.09450395],\n",
       "       [0.95861679, 0.04138321],\n",
       "       [0.3911422 , 0.6088578 ],\n",
       "       [0.94873986, 0.05126014],\n",
       "       [0.8906174 , 0.1093826 ],\n",
       "       [0.08026551, 0.91973449],\n",
       "       [0.38134656, 0.61865344],\n",
       "       [0.63500133, 0.36499867],\n",
       "       [0.36173481, 0.63826519],\n",
       "       [0.4494186 , 0.5505814 ],\n",
       "       [0.80278003, 0.19721997],\n",
       "       [0.20584591, 0.79415409],\n",
       "       [0.90808882, 0.09191118],\n",
       "       [0.80835304, 0.19164696],\n",
       "       [0.32506323, 0.67493677],\n",
       "       [0.68697765, 0.31302235],\n",
       "       [0.89019012, 0.10980988],\n",
       "       [0.05674077, 0.94325923],\n",
       "       [0.3605408 , 0.6394592 ],\n",
       "       [0.90803444, 0.09196556],\n",
       "       [0.900084  , 0.099916  ],\n",
       "       [0.87570251, 0.12429749],\n",
       "       [0.91050897, 0.08949103],\n",
       "       [0.89584218, 0.10415782],\n",
       "       [0.14562104, 0.85437896],\n",
       "       [0.17515995, 0.82484005],\n",
       "       [0.67043102, 0.32956898],\n",
       "       [0.18113828, 0.81886172],\n",
       "       [0.14118419, 0.85881581],\n",
       "       [0.76559554, 0.23440446],\n",
       "       [0.54381819, 0.45618181],\n",
       "       [0.03662721, 0.96337279],\n",
       "       [0.90924408, 0.09075592],\n",
       "       [0.04335012, 0.95664988],\n",
       "       [0.81250828, 0.18749172],\n",
       "       [0.14942221, 0.85057779],\n",
       "       [0.89745607, 0.10254393],\n",
       "       [0.8053203 , 0.1946797 ],\n",
       "       [0.83452338, 0.16547662],\n",
       "       [0.78708819, 0.21291181],\n",
       "       [0.55768704, 0.44231296],\n",
       "       [0.81593878, 0.18406122],\n",
       "       [0.89939267, 0.10060733],\n",
       "       [0.61569868, 0.38430132],\n",
       "       [0.89677514, 0.10322486],\n",
       "       [0.32990803, 0.67009197],\n",
       "       [0.33819729, 0.66180271],\n",
       "       [0.71342698, 0.28657302],\n",
       "       [0.37415084, 0.62584916],\n",
       "       [0.44714351, 0.55285649],\n",
       "       [0.75580614, 0.24419386],\n",
       "       [0.60805934, 0.39194066],\n",
       "       [0.11726993, 0.88273007],\n",
       "       [0.7423476 , 0.2576524 ],\n",
       "       [0.54677787, 0.45322213],\n",
       "       [0.46503047, 0.53496953],\n",
       "       [0.72518683, 0.27481317],\n",
       "       [0.09346249, 0.90653751],\n",
       "       [0.89612621, 0.10387379],\n",
       "       [0.90067412, 0.09932588],\n",
       "       [0.90931247, 0.09068753],\n",
       "       [0.67693246, 0.32306754],\n",
       "       [0.31085281, 0.68914719],\n",
       "       [0.73522124, 0.26477876],\n",
       "       [0.64089901, 0.35910099],\n",
       "       [0.42027079, 0.57972921],\n",
       "       [0.68354151, 0.31645849],\n",
       "       [0.09326398, 0.90673602],\n",
       "       [0.89058823, 0.10941177],\n",
       "       [0.1925617 , 0.8074383 ],\n",
       "       [0.87878261, 0.12121739],\n",
       "       [0.17508862, 0.82491138],\n",
       "       [0.86733437, 0.13266563],\n",
       "       [0.12127267, 0.87872733],\n",
       "       [0.341599  , 0.658401  ],\n",
       "       [0.87860506, 0.12139494],\n",
       "       [0.4348047 , 0.5651953 ],\n",
       "       [0.92319258, 0.07680742],\n",
       "       [0.77243843, 0.22756157],\n",
       "       [0.65345445, 0.34654555],\n",
       "       [0.07308431, 0.92691569],\n",
       "       [0.87198882, 0.12801118],\n",
       "       [0.90549773, 0.09450227],\n",
       "       [0.58679127, 0.41320873],\n",
       "       [0.87572443, 0.12427557],\n",
       "       [0.74586395, 0.25413605],\n",
       "       [0.88055761, 0.11944239],\n",
       "       [0.16208956, 0.83791044],\n",
       "       [0.10043264, 0.89956736],\n",
       "       [0.13945418, 0.86054582],\n",
       "       [0.27709322, 0.72290678],\n",
       "       [0.59946115, 0.40053885],\n",
       "       [0.90800105, 0.09199895],\n",
       "       [0.86773888, 0.13226112],\n",
       "       [0.61315723, 0.38684277],\n",
       "       [0.15118786, 0.84881214],\n",
       "       [0.81745773, 0.18254227],\n",
       "       [0.16457823, 0.83542177],\n",
       "       [0.35413693, 0.64586307],\n",
       "       [0.1043968 , 0.8956032 ],\n",
       "       [0.84368565, 0.15631435],\n",
       "       [0.48609006, 0.51390994],\n",
       "       [0.88449737, 0.11550263],\n",
       "       [0.91316842, 0.08683158],\n",
       "       [0.89765158, 0.10234842],\n",
       "       [0.91165863, 0.08834137],\n",
       "       [0.89990754, 0.10009246],\n",
       "       [0.16876289, 0.83123711],\n",
       "       [0.87562759, 0.12437241],\n",
       "       [0.89632638, 0.10367362],\n",
       "       [0.86732642, 0.13267358],\n",
       "       [0.15381988, 0.84618012],\n",
       "       [0.22662476, 0.77337524],\n",
       "       [0.72936528, 0.27063472],\n",
       "       [0.9042212 , 0.0957788 ],\n",
       "       [0.51010986, 0.48989014],\n",
       "       [0.89628303, 0.10371697],\n",
       "       [0.41661792, 0.58338208],\n",
       "       [0.87432295, 0.12567705],\n",
       "       [0.63445208, 0.36554792],\n",
       "       [0.91045869, 0.08954131],\n",
       "       [0.05275295, 0.94724705],\n",
       "       [0.43498418, 0.56501582],\n",
       "       [0.90428998, 0.09571002],\n",
       "       [0.14085432, 0.85914568],\n",
       "       [0.7474151 , 0.2525849 ],\n",
       "       [0.81221339, 0.18778661],\n",
       "       [0.76831992, 0.23168008],\n",
       "       [0.72262018, 0.27737982],\n",
       "       [0.38813066, 0.61186934],\n",
       "       [0.77321266, 0.22678734],\n",
       "       [0.43844737, 0.56155263],\n",
       "       [0.27440084, 0.72559916],\n",
       "       [0.23262713, 0.76737287],\n",
       "       [0.92098699, 0.07901301],\n",
       "       [0.88017104, 0.11982896],\n",
       "       [0.47337298, 0.52662702],\n",
       "       [0.90169531, 0.09830469],\n",
       "       [0.91042972, 0.08957028],\n",
       "       [0.50578984, 0.49421016],\n",
       "       [0.37997615, 0.62002385],\n",
       "       [0.90929497, 0.09070503],\n",
       "       [0.68961072, 0.31038928],\n",
       "       [0.91406549, 0.08593451],\n",
       "       [0.89603463, 0.10396537],\n",
       "       [0.10308688, 0.89691312],\n",
       "       [0.92632516, 0.07367484],\n",
       "       [0.53943432, 0.46056568],\n",
       "       [0.90505352, 0.09494648],\n",
       "       [0.90480779, 0.09519221],\n",
       "       [0.77927033, 0.22072967],\n",
       "       [0.82005997, 0.17994003],\n",
       "       [0.89474675, 0.10525325],\n",
       "       [0.39528046, 0.60471954],\n",
       "       [0.13449209, 0.86550791],\n",
       "       [0.45885564, 0.54114436],\n",
       "       [0.79534354, 0.20465646],\n",
       "       [0.683031  , 0.316969  ],\n",
       "       [0.45582067, 0.54417933],\n",
       "       [0.8725774 , 0.1274226 ],\n",
       "       [0.88495162, 0.11504838],\n",
       "       [0.9067878 , 0.0932122 ],\n",
       "       [0.49780102, 0.50219898],\n",
       "       [0.13142624, 0.86857376],\n",
       "       [0.35519932, 0.64480068],\n",
       "       [0.67211816, 0.32788184],\n",
       "       [0.70198867, 0.29801133],\n",
       "       [0.89173251, 0.10826749],\n",
       "       [0.75617456, 0.24382544],\n",
       "       [0.88598843, 0.11401157],\n",
       "       [0.89199358, 0.10800642],\n",
       "       [0.76363828, 0.23636172],\n",
       "       [0.59504965, 0.40495035],\n",
       "       [0.09849299, 0.90150701],\n",
       "       [0.89640221, 0.10359779],\n",
       "       [0.16028986, 0.83971014],\n",
       "       [0.58043194, 0.41956806],\n",
       "       [0.73711268, 0.26288732],\n",
       "       [0.73394927, 0.26605073],\n",
       "       [0.22248643, 0.77751357],\n",
       "       [0.59985631, 0.40014369],\n",
       "       [0.90682283, 0.09317717],\n",
       "       [0.29952698, 0.70047302],\n",
       "       [0.90772896, 0.09227104],\n",
       "       [0.55250038, 0.44749962],\n",
       "       [0.77312912, 0.22687088],\n",
       "       [0.92899657, 0.07100343],\n",
       "       [0.74886508, 0.25113492],\n",
       "       [0.90428955, 0.09571045],\n",
       "       [0.6864826 , 0.3135174 ],\n",
       "       [0.90354485, 0.09645515],\n",
       "       [0.89308855, 0.10691145],\n",
       "       [0.06700177, 0.93299823],\n",
       "       [0.87874135, 0.12125865],\n",
       "       [0.32553326, 0.67446674],\n",
       "       [0.74159245, 0.25840755],\n",
       "       [0.40270981, 0.59729019],\n",
       "       [0.75850272, 0.24149728],\n",
       "       [0.22348347, 0.77651653],\n",
       "       [0.10039856, 0.89960144],\n",
       "       [0.73950504, 0.26049496],\n",
       "       [0.70207443, 0.29792557],\n",
       "       [0.84817988, 0.15182012],\n",
       "       [0.19402452, 0.80597548],\n",
       "       [0.68642442, 0.31357558],\n",
       "       [0.17309405, 0.82690595],\n",
       "       [0.90675734, 0.09324266],\n",
       "       [0.90551083, 0.09448917],\n",
       "       [0.32263851, 0.67736149],\n",
       "       [0.96441654, 0.03558346],\n",
       "       [0.14604738, 0.85395262],\n",
       "       [0.17203537, 0.82796463],\n",
       "       [0.90256656, 0.09743344],\n",
       "       [0.05703144, 0.94296856],\n",
       "       [0.37677396, 0.62322604],\n",
       "       [0.90440609, 0.09559391],\n",
       "       [0.30019991, 0.69980009],\n",
       "       [0.10773654, 0.89226346],\n",
       "       [0.74926967, 0.25073033],\n",
       "       [0.73333906, 0.26666094],\n",
       "       [0.08343434, 0.91656566],\n",
       "       [0.6900653 , 0.3099347 ],\n",
       "       [0.83601971, 0.16398029],\n",
       "       [0.12980599, 0.87019401],\n",
       "       [0.1059926 , 0.8940074 ],\n",
       "       [0.45855887, 0.54144113],\n",
       "       [0.70749563, 0.29250437],\n",
       "       [0.70135819, 0.29864181],\n",
       "       [0.93725984, 0.06274016],\n",
       "       [0.90423615, 0.09576385],\n",
       "       [0.90010275, 0.09989725],\n",
       "       [0.41836144, 0.58163856],\n",
       "       [0.30568757, 0.69431243],\n",
       "       [0.7504653 , 0.2495347 ],\n",
       "       [0.18420386, 0.81579614],\n",
       "       [0.87530595, 0.12469405],\n",
       "       [0.89136948, 0.10863052],\n",
       "       [0.88193933, 0.11806067],\n",
       "       [0.95624847, 0.04375153],\n",
       "       [0.47521478, 0.52478522],\n",
       "       [0.11688735, 0.88311265],\n",
       "       [0.83668559, 0.16331441],\n",
       "       [0.85162277, 0.14837723],\n",
       "       [0.97782512, 0.02217488],\n",
       "       [0.0456127 , 0.9543873 ],\n",
       "       [0.89065201, 0.10934799],\n",
       "       [0.07897511, 0.92102489],\n",
       "       [0.86891992, 0.13108008],\n",
       "       [0.90361463, 0.09638537],\n",
       "       [0.0807978 , 0.9192022 ],\n",
       "       [0.81786704, 0.18213296],\n",
       "       [0.06664697, 0.93335303],\n",
       "       [0.46087137, 0.53912863],\n",
       "       [0.61595658, 0.38404342],\n",
       "       [0.6490536 , 0.3509464 ],\n",
       "       [0.71845376, 0.28154624],\n",
       "       [0.6188828 , 0.3811172 ],\n",
       "       [0.4023898 , 0.5976102 ],\n",
       "       [0.24459314, 0.75540686],\n",
       "       [0.4348047 , 0.5651953 ],\n",
       "       [0.07261615, 0.92738385],\n",
       "       [0.39426358, 0.60573642],\n",
       "       [0.90798497, 0.09201503],\n",
       "       [0.10141427, 0.89858573],\n",
       "       [0.91637939, 0.08362061],\n",
       "       [0.90674024, 0.09325976],\n",
       "       [0.89417856, 0.10582144]])"
      ]
     },
     "execution_count": 599,
     "metadata": {},
     "output_type": "execute_result"
    }
   ],
   "source": [
    "# showing the calculated probabilities of the 2 values of the target variable (Survived or deceased) of test dataset\n",
    "# indicates the likeliness of an observation to belong to each class\n",
    "\n",
    "LogReg.predict_proba(X_test_fe)"
   ]
  },
  {
   "cell_type": "markdown",
   "id": "c6c5ccbf",
   "metadata": {},
   "source": [
    "## 7. Cross validation Model Assesment"
   ]
  },
  {
   "cell_type": "code",
   "execution_count": 602,
   "id": "0b5e13aa",
   "metadata": {},
   "outputs": [],
   "source": [
    "kf = KFold(n_splits=10, shuffle=True,random_state=42)"
   ]
  },
  {
   "cell_type": "code",
   "execution_count": 610,
   "id": "ee01e230",
   "metadata": {},
   "outputs": [],
   "source": [
    "cross_accuracy_log = cross_val_score(LogReg, X_train_fe, y_train, cv=10, scoring='accuracy'\n",
    ")"
   ]
  },
  {
   "cell_type": "code",
   "execution_count": 611,
   "id": "073e3daf",
   "metadata": {},
   "outputs": [
    {
     "data": {
      "text/plain": [
       "array([0.81111111, 0.7752809 , 0.7752809 , 0.82022472, 0.83146067,\n",
       "       0.79775281, 0.7752809 , 0.7752809 , 0.80898876, 0.78651685])"
      ]
     },
     "execution_count": 611,
     "metadata": {},
     "output_type": "execute_result"
    }
   ],
   "source": [
    "cross_accuracy_log"
   ]
  },
  {
   "cell_type": "code",
   "execution_count": 612,
   "id": "f5737b4b",
   "metadata": {},
   "outputs": [
    {
     "data": {
      "text/plain": [
       "'Cross-validation mean 79.572 +- 2.013'"
      ]
     },
     "execution_count": 612,
     "metadata": {},
     "output_type": "execute_result"
    }
   ],
   "source": [
    "f\"Cross-validation mean {100 * cross_accuracy_log.mean():5.3f} +- {100 * cross_accuracy_log.std():5.3f}\""
   ]
  },
  {
   "cell_type": "code",
   "execution_count": 608,
   "id": "998724a4",
   "metadata": {},
   "outputs": [
    {
     "name": "stdout",
     "output_type": "stream",
     "text": [
      "   fit_time  score_time  test_score  train_score\n",
      "0  0.028013    0.000960    0.811111     0.801498\n",
      "1  0.028352    0.001013    0.775281     0.802993\n",
      "2  0.024312    0.000537    0.775281     0.809227\n",
      "3  0.017641    0.000495    0.820225     0.794264\n",
      "4  0.016075    0.000503    0.831461     0.804239\n",
      "5  0.015192    0.000486    0.797753     0.804239\n",
      "6  0.015826    0.000489    0.775281     0.799252\n",
      "7  0.014853    0.000486    0.775281     0.806733\n",
      "8  0.015929    0.000505    0.808989     0.801746\n",
      "9  0.016511    0.000488    0.786517     0.802993\n"
     ]
    }
   ],
   "source": [
    "cv = cross_validate(LogReg, X_train_fe, y_train,\n",
    "                    cv=10,\n",
    "                    scoring='accuracy',\n",
    "                    return_train_score=True\n",
    ")\n",
    "# convert the dictionary of lists into a DataFrame\n",
    "cv = pd.DataFrame(cv)\n",
    "print(cv)\n"
   ]
  },
  {
   "cell_type": "markdown",
   "id": "f9508a6d",
   "metadata": {},
   "source": [
    "## 8. Submitting the predictions to Kaggle"
   ]
  },
  {
   "cell_type": "code",
   "execution_count": 615,
   "id": "840542ab",
   "metadata": {},
   "outputs": [],
   "source": [
    "predictions = pd.DataFrame({'PassengerId': df_test.PassengerId, 'Survived': y_pred})\n",
    "predictions.to_csv('predictions3.csv',index=False) "
   ]
  },
  {
   "cell_type": "code",
   "execution_count": 616,
   "id": "bb2ee148",
   "metadata": {},
   "outputs": [
    {
     "data": {
      "text/html": [
       "<div>\n",
       "<style scoped>\n",
       "    .dataframe tbody tr th:only-of-type {\n",
       "        vertical-align: middle;\n",
       "    }\n",
       "\n",
       "    .dataframe tbody tr th {\n",
       "        vertical-align: top;\n",
       "    }\n",
       "\n",
       "    .dataframe thead th {\n",
       "        text-align: right;\n",
       "    }\n",
       "</style>\n",
       "<table border=\"1\" class=\"dataframe\">\n",
       "  <thead>\n",
       "    <tr style=\"text-align: right;\">\n",
       "      <th></th>\n",
       "      <th>PassengerId</th>\n",
       "      <th>Survived</th>\n",
       "    </tr>\n",
       "  </thead>\n",
       "  <tbody>\n",
       "    <tr>\n",
       "      <th>0</th>\n",
       "      <td>892</td>\n",
       "      <td>0</td>\n",
       "    </tr>\n",
       "    <tr>\n",
       "      <th>1</th>\n",
       "      <td>893</td>\n",
       "      <td>0</td>\n",
       "    </tr>\n",
       "    <tr>\n",
       "      <th>2</th>\n",
       "      <td>894</td>\n",
       "      <td>0</td>\n",
       "    </tr>\n",
       "    <tr>\n",
       "      <th>3</th>\n",
       "      <td>895</td>\n",
       "      <td>0</td>\n",
       "    </tr>\n",
       "    <tr>\n",
       "      <th>4</th>\n",
       "      <td>896</td>\n",
       "      <td>1</td>\n",
       "    </tr>\n",
       "    <tr>\n",
       "      <th>...</th>\n",
       "      <td>...</td>\n",
       "      <td>...</td>\n",
       "    </tr>\n",
       "    <tr>\n",
       "      <th>413</th>\n",
       "      <td>1305</td>\n",
       "      <td>0</td>\n",
       "    </tr>\n",
       "    <tr>\n",
       "      <th>414</th>\n",
       "      <td>1306</td>\n",
       "      <td>1</td>\n",
       "    </tr>\n",
       "    <tr>\n",
       "      <th>415</th>\n",
       "      <td>1307</td>\n",
       "      <td>0</td>\n",
       "    </tr>\n",
       "    <tr>\n",
       "      <th>416</th>\n",
       "      <td>1308</td>\n",
       "      <td>0</td>\n",
       "    </tr>\n",
       "    <tr>\n",
       "      <th>417</th>\n",
       "      <td>1309</td>\n",
       "      <td>0</td>\n",
       "    </tr>\n",
       "  </tbody>\n",
       "</table>\n",
       "<p>418 rows × 2 columns</p>\n",
       "</div>"
      ],
      "text/plain": [
       "     PassengerId  Survived\n",
       "0            892         0\n",
       "1            893         0\n",
       "2            894         0\n",
       "3            895         0\n",
       "4            896         1\n",
       "..           ...       ...\n",
       "413         1305         0\n",
       "414         1306         1\n",
       "415         1307         0\n",
       "416         1308         0\n",
       "417         1309         0\n",
       "\n",
       "[418 rows x 2 columns]"
      ]
     },
     "execution_count": 616,
     "metadata": {},
     "output_type": "execute_result"
    }
   ],
   "source": [
    "predictions"
   ]
  },
  {
   "cell_type": "code",
   "execution_count": null,
   "id": "71c29748",
   "metadata": {},
   "outputs": [],
   "source": []
  }
 ],
 "metadata": {
  "kernelspec": {
   "display_name": "Python 3",
   "language": "python",
   "name": "python3"
  },
  "language_info": {
   "codemirror_mode": {
    "name": "ipython",
    "version": 3
   },
   "file_extension": ".py",
   "mimetype": "text/x-python",
   "name": "python",
   "nbconvert_exporter": "python",
   "pygments_lexer": "ipython3",
   "version": "3.8.8"
  }
 },
 "nbformat": 4,
 "nbformat_minor": 5
}

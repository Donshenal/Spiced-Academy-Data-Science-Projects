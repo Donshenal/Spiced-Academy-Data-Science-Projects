{
 "cells": [
  {
   "cell_type": "markdown",
   "metadata": {},
   "source": [
    "# 9.5. Convolutional Neural Networks\n"
   ]
  },
  {
   "cell_type": "markdown",
   "metadata": {},
   "source": [
    "### 1. Convolutional Layers"
   ]
  },
  {
   "cell_type": "markdown",
   "metadata": {},
   "source": [
    "Convolutional Layers apply a sliding window that processes only a portion of the input at a time. They therefore represent spatial relationships between pixels.\n",
    "\n",
    "A Convolutional Layer contains not just one set of neurons for processing a portion of the input. They contain many sets that are called feature maps or filters. During training, each feature map specializes in a particular feature of the input.\n",
    "\n",
    "In an early Convolutional Layer these features might be dots, straight lines and angles. The following Convolutional Layers combine the features of the previous Layers so that they recognize more complex geometrical shapes, and ultimately entire objects."
   ]
  },
  {
   "cell_type": "markdown",
   "metadata": {},
   "source": [
    "### 2. MaxPooling"
   ]
  },
  {
   "cell_type": "markdown",
   "metadata": {},
   "source": [
    "Max Pooling condenses the information in a CNN by selecting only the largest value in a sliding 2D window."
   ]
  },
  {
   "cell_type": "markdown",
   "metadata": {},
   "source": [
    "Pooling serves two main purposes:\n",
    "\n",
    "- the data size gets smaller\n",
    "\n",
    "- small variations (shifts by few pixels) get averaged out\n"
   ]
  },
  {
   "cell_type": "markdown",
   "metadata": {},
   "source": [
    "### 3. Hyperparameters"
   ]
  },
  {
   "cell_type": "markdown",
   "metadata": {},
   "source": [
    "Some hyperparameters of a convolutional layer are:\n",
    "\n",
    "- The size of the sliding window (also called convolutional kernel)\n",
    "\n",
    "- The stride or step width in which the sliding window moves\n",
    "\n",
    "- The number of feature maps (filters)\n",
    "\n",
    "- What kind of padding is applied on the borders of the input (e.g. filling it with zeroes to reach the corners).\n",
    "\n",
    "Convolutional Layers with two dimensions are the most common, but 1D layers also exist (they are useful for audio processing)."
   ]
  },
  {
   "cell_type": "code",
   "execution_count": 1,
   "metadata": {},
   "outputs": [],
   "source": [
    "from tensorflow.keras.datasets import mnist\n",
    "from tensorflow.keras.models import Sequential\n",
    "from tensorflow.keras.layers import Input, Dense, Flatten, Conv2D, MaxPooling2D, Activation\n",
    "from tensorflow.keras.utils import to_categorical\n",
    "from tensorflow.keras.callbacks import EarlyStopping\n",
    "from tensorflow.keras.layers import Dropout\n",
    "\n",
    "import numpy as np\n",
    "import matplotlib.pyplot as plt"
   ]
  },
  {
   "cell_type": "code",
   "execution_count": 2,
   "metadata": {},
   "outputs": [],
   "source": [
    "# loading mnist data\n",
    "(X_train, y_train), (X_test, y_test) = mnist.load_data()"
   ]
  },
  {
   "cell_type": "code",
   "execution_count": 3,
   "metadata": {},
   "outputs": [
    {
     "data": {
      "text/plain": [
       "(60000, 28, 28)"
      ]
     },
     "execution_count": 3,
     "metadata": {},
     "output_type": "execute_result"
    }
   ],
   "source": [
    "X_train.shape"
   ]
  },
  {
   "cell_type": "code",
   "execution_count": 4,
   "metadata": {},
   "outputs": [
    {
     "data": {
      "text/plain": [
       "(10000, 28, 28)"
      ]
     },
     "execution_count": 4,
     "metadata": {},
     "output_type": "execute_result"
    }
   ],
   "source": [
    "X_test.shape"
   ]
  },
  {
   "cell_type": "markdown",
   "metadata": {},
   "source": [
    "#### Reshaping X and y\n",
    "* For X, we need to add a 4th dimension using `np.expand_dims`\n",
    "* For y, we need to factorize our labels using `to_categorical`"
   ]
  },
  {
   "cell_type": "code",
   "execution_count": 5,
   "metadata": {},
   "outputs": [],
   "source": [
    "X_train_reshaped = np.expand_dims(X_train, axis=3)\n",
    "X_test_reshaped = np.expand_dims(X_test, axis=3)\n",
    "y_train_to_cat = to_categorical(y_train)\n",
    "y_test_to_cat = to_categorical(y_test)"
   ]
  },
  {
   "cell_type": "code",
   "execution_count": 6,
   "metadata": {},
   "outputs": [
    {
     "data": {
      "text/plain": [
       "(60000, 28, 28, 1)"
      ]
     },
     "execution_count": 6,
     "metadata": {},
     "output_type": "execute_result"
    }
   ],
   "source": [
    "X_train_reshaped.shape"
   ]
  },
  {
   "cell_type": "code",
   "execution_count": 7,
   "metadata": {},
   "outputs": [
    {
     "data": {
      "text/plain": [
       "array([[0., 0., 0., ..., 0., 0., 0.],\n",
       "       [1., 0., 0., ..., 0., 0., 0.],\n",
       "       [0., 0., 0., ..., 0., 0., 0.],\n",
       "       ...,\n",
       "       [0., 0., 0., ..., 0., 0., 0.],\n",
       "       [0., 0., 0., ..., 0., 0., 0.],\n",
       "       [0., 0., 0., ..., 0., 1., 0.]], dtype=float32)"
      ]
     },
     "execution_count": 7,
     "metadata": {},
     "output_type": "execute_result"
    }
   ],
   "source": [
    "y_train_to_cat"
   ]
  },
  {
   "cell_type": "markdown",
   "metadata": {},
   "source": [
    "### Intentiating model"
   ]
  },
  {
   "cell_type": "code",
   "execution_count": 8,
   "metadata": {},
   "outputs": [],
   "source": [
    "# this was our model before \n",
    "# model = Sequential([\n",
    "#     Dense(60, input_shape=(784,)),\n",
    "#     Activation('relu'),\n",
    "#     Dense(20),\n",
    "#     Activation('relu'),\n",
    "#     Dense(10),\n",
    "#     Activation('softmax')  \n",
    "# ])"
   ]
  },
  {
   "cell_type": "markdown",
   "metadata": {},
   "source": [
    "- replace the Dense layers by 2D Convolutional layers\n",
    "\n",
    "- add MaxPooling layers after the convolutionals\n",
    "\n",
    "- add a Flatten layer before the final dense/softmax layer"
   ]
  },
  {
   "cell_type": "code",
   "execution_count": 9,
   "metadata": {},
   "outputs": [
    {
     "name": "stderr",
     "output_type": "stream",
     "text": [
      "2022-03-06 16:37:11.473915: I tensorflow/compiler/jit/xla_cpu_device.cc:41] Not creating XLA devices, tf_xla_enable_xla_devices not set\n",
      "2022-03-06 16:37:11.474109: I tensorflow/core/platform/cpu_feature_guard.cc:142] This TensorFlow binary is optimized with oneAPI Deep Neural Network Library (oneDNN) to use the following CPU instructions in performance-critical operations:  SSE4.1 SSE4.2 AVX AVX2 FMA\n",
      "To enable them in other operations, rebuild TensorFlow with the appropriate compiler flags.\n",
      "2022-03-06 16:37:11.476575: I tensorflow/core/common_runtime/process_util.cc:146] Creating new thread pool with default inter op setting: 2. Tune using inter_op_parallelism_threads for best performance.\n"
     ]
    }
   ],
   "source": [
    "model = Sequential([\n",
    "    Conv2D(filters=40,             # aka neurons/kernels/feature maps\n",
    "           kernel_size=(3,3),      # The size of the sliding window (3,3) kernel has 9+1 parameters\n",
    "           strides=(2,2),          # bigger > smaller output [default:(1,1) and use MaxPool aftwerwards]\n",
    "                                   # The stride or step width in which the sliding window moves\n",
    "           activation='relu',      # ReLu great first choice. ELU for optimization\n",
    "           input_shape=(28,28,1)), # have to specify input shape in first layer <- shape of X\n",
    "    Conv2D(filters=20, kernel_size=(3,3), strides=(2,2), activation='relu'),\n",
    "    MaxPooling2D(pool_size=(3,3), strides=(2,2)),\n",
    "    Flatten(),\n",
    "    Dense(10, activation='softmax')])"
   ]
  },
  {
   "cell_type": "code",
   "execution_count": 10,
   "metadata": {},
   "outputs": [
    {
     "name": "stdout",
     "output_type": "stream",
     "text": [
      "Model: \"sequential\"\n",
      "_________________________________________________________________\n",
      "Layer (type)                 Output Shape              Param #   \n",
      "=================================================================\n",
      "conv2d (Conv2D)              (None, 13, 13, 40)        400       \n",
      "_________________________________________________________________\n",
      "conv2d_1 (Conv2D)            (None, 6, 6, 20)          7220      \n",
      "_________________________________________________________________\n",
      "max_pooling2d (MaxPooling2D) (None, 2, 2, 20)          0         \n",
      "_________________________________________________________________\n",
      "flatten (Flatten)            (None, 80)                0         \n",
      "_________________________________________________________________\n",
      "dense (Dense)                (None, 10)                810       \n",
      "=================================================================\n",
      "Total params: 8,430\n",
      "Trainable params: 8,430\n",
      "Non-trainable params: 0\n",
      "_________________________________________________________________\n"
     ]
    }
   ],
   "source": [
    "model.summary()"
   ]
  },
  {
   "cell_type": "code",
   "execution_count": 11,
   "metadata": {},
   "outputs": [],
   "source": [
    "model.compile(optimizer='adam', loss='categorical_crossentropy', metrics=['accuracy'])"
   ]
  },
  {
   "cell_type": "code",
   "execution_count": 12,
   "metadata": {},
   "outputs": [
    {
     "name": "stderr",
     "output_type": "stream",
     "text": [
      "2022-03-06 16:37:11.893631: I tensorflow/compiler/mlir/mlir_graph_optimization_pass.cc:116] None of the MLIR optimization passes are enabled (registered 2)\n",
      "2022-03-06 16:37:11.913042: I tensorflow/core/platform/profile_utils/cpu_utils.cc:112] CPU Frequency: 2699905000 Hz\n"
     ]
    },
    {
     "name": "stdout",
     "output_type": "stream",
     "text": [
      "Epoch 1/30\n",
      "96/96 [==============================] - 13s 125ms/step - loss: 19.8019 - accuracy: 0.1756 - val_loss: 1.9141 - val_accuracy: 0.3433\n",
      "Epoch 2/30\n",
      "96/96 [==============================] - 13s 132ms/step - loss: 1.8449 - accuracy: 0.3709 - val_loss: 1.4669 - val_accuracy: 0.5094\n",
      "Epoch 3/30\n",
      "96/96 [==============================] - 13s 136ms/step - loss: 1.3964 - accuracy: 0.5380 - val_loss: 1.0429 - val_accuracy: 0.6600\n",
      "Epoch 4/30\n",
      "96/96 [==============================] - 13s 135ms/step - loss: 1.0054 - accuracy: 0.6813 - val_loss: 0.8012 - val_accuracy: 0.7473\n",
      "Epoch 5/30\n",
      "96/96 [==============================] - 13s 135ms/step - loss: 0.7772 - accuracy: 0.7584 - val_loss: 0.5944 - val_accuracy: 0.8177\n",
      "Epoch 6/30\n",
      "96/96 [==============================] - 13s 130ms/step - loss: 0.6228 - accuracy: 0.8120 - val_loss: 0.5275 - val_accuracy: 0.8358\n",
      "Epoch 7/30\n",
      "96/96 [==============================] - 13s 135ms/step - loss: 0.5267 - accuracy: 0.8389 - val_loss: 0.4795 - val_accuracy: 0.8508\n",
      "Epoch 8/30\n",
      "96/96 [==============================] - 12s 127ms/step - loss: 0.4734 - accuracy: 0.8543 - val_loss: 0.4449 - val_accuracy: 0.8602\n",
      "Epoch 9/30\n",
      "96/96 [==============================] - 12s 128ms/step - loss: 0.4412 - accuracy: 0.8640 - val_loss: 0.4066 - val_accuracy: 0.8734\n",
      "Epoch 10/30\n",
      "96/96 [==============================] - 13s 135ms/step - loss: 0.4082 - accuracy: 0.8745 - val_loss: 0.3808 - val_accuracy: 0.8827\n",
      "Epoch 11/30\n",
      "96/96 [==============================] - 12s 130ms/step - loss: 0.3775 - accuracy: 0.8839 - val_loss: 0.3650 - val_accuracy: 0.8878\n",
      "Epoch 12/30\n",
      "96/96 [==============================] - 13s 132ms/step - loss: 0.3535 - accuracy: 0.8899 - val_loss: 0.3387 - val_accuracy: 0.8974\n",
      "Epoch 13/30\n",
      "96/96 [==============================] - 12s 120ms/step - loss: 0.3279 - accuracy: 0.8982 - val_loss: 0.3245 - val_accuracy: 0.9009\n",
      "Epoch 14/30\n",
      "96/96 [==============================] - 12s 126ms/step - loss: 0.3089 - accuracy: 0.9036 - val_loss: 0.3086 - val_accuracy: 0.9042\n",
      "Epoch 15/30\n",
      "96/96 [==============================] - 12s 122ms/step - loss: 0.2980 - accuracy: 0.9046 - val_loss: 0.3026 - val_accuracy: 0.9060\n",
      "Epoch 16/30\n",
      "96/96 [==============================] - 11s 116ms/step - loss: 0.2956 - accuracy: 0.9074 - val_loss: 0.2914 - val_accuracy: 0.9092\n",
      "Epoch 17/30\n",
      "96/96 [==============================] - 12s 124ms/step - loss: 0.2839 - accuracy: 0.9107 - val_loss: 0.2924 - val_accuracy: 0.9131\n",
      "Epoch 18/30\n",
      "96/96 [==============================] - 11s 119ms/step - loss: 0.2739 - accuracy: 0.9150 - val_loss: 0.2755 - val_accuracy: 0.9175\n",
      "Epoch 19/30\n",
      "96/96 [==============================] - 12s 122ms/step - loss: 0.2606 - accuracy: 0.9172 - val_loss: 0.2690 - val_accuracy: 0.9157\n",
      "Epoch 20/30\n",
      "96/96 [==============================] - 12s 127ms/step - loss: 0.2501 - accuracy: 0.9206 - val_loss: 0.2626 - val_accuracy: 0.9200\n",
      "Epoch 21/30\n",
      "96/96 [==============================] - 12s 127ms/step - loss: 0.2425 - accuracy: 0.9240 - val_loss: 0.2559 - val_accuracy: 0.9223\n",
      "Epoch 22/30\n",
      "96/96 [==============================] - 12s 125ms/step - loss: 0.2306 - accuracy: 0.9277 - val_loss: 0.2568 - val_accuracy: 0.9217\n",
      "Epoch 23/30\n",
      "96/96 [==============================] - 12s 125ms/step - loss: 0.2300 - accuracy: 0.9286 - val_loss: 0.2624 - val_accuracy: 0.9220\n",
      "Epoch 24/30\n",
      "96/96 [==============================] - 11s 113ms/step - loss: 0.2285 - accuracy: 0.9277 - val_loss: 0.2383 - val_accuracy: 0.9290\n",
      "Epoch 25/30\n",
      "96/96 [==============================] - 11s 119ms/step - loss: 0.2173 - accuracy: 0.9313 - val_loss: 0.2437 - val_accuracy: 0.9257\n",
      "Epoch 26/30\n",
      "96/96 [==============================] - 11s 115ms/step - loss: 0.2061 - accuracy: 0.9334 - val_loss: 0.2428 - val_accuracy: 0.9273\n",
      "Epoch 27/30\n",
      "96/96 [==============================] - 11s 117ms/step - loss: 0.2078 - accuracy: 0.9328 - val_loss: 0.2443 - val_accuracy: 0.9259\n"
     ]
    }
   ],
   "source": [
    "callback = EarlyStopping(monitor='val_loss', patience=3)\n",
    "h = model.fit(X_train_reshaped, y_train_to_cat, epochs=30, batch_size=500, callbacks=[callback], validation_split=0.2)"
   ]
  },
  {
   "cell_type": "code",
   "execution_count": 17,
   "metadata": {},
   "outputs": [
    {
     "name": "stdout",
     "output_type": "stream",
     "text": [
      "20/20 [==============================] - 0s 20ms/step - loss: 0.2373 - accuracy: 0.9268\n"
     ]
    },
    {
     "data": {
      "text/plain": [
       "[0.23733589053153992, 0.926800012588501]"
      ]
     },
     "execution_count": 17,
     "metadata": {},
     "output_type": "execute_result"
    }
   ],
   "source": [
    "# test loss and score\n",
    "model.evaluate(X_test_reshaped, y_test_to_cat, batch_size=500)"
   ]
  },
  {
   "cell_type": "code",
   "execution_count": 18,
   "metadata": {},
   "outputs": [
    {
     "data": {
      "text/plain": [
       "<matplotlib.legend.Legend at 0x7fd2786a9eb0>"
      ]
     },
     "execution_count": 18,
     "metadata": {},
     "output_type": "execute_result"
    },
    {
     "data": {
      "image/png": "[encoded data removed]",
      "text/plain": [
       "<Figure size 432x288 with 1 Axes>"
      ]
     },
     "metadata": {
      "needs_background": "light"
     },
     "output_type": "display_data"
    }
   ],
   "source": [
    "plt.plot(h.history['loss'])\n",
    "plt.plot(h.history['val_loss'])\n",
    "plt.legend(['loss', 'val_loss'])"
   ]
  },
  {
   "cell_type": "code",
   "execution_count": 19,
   "metadata": {},
   "outputs": [
    {
     "data": {
      "text/plain": [
       "<matplotlib.legend.Legend at 0x7fd2785676d0>"
      ]
     },
     "execution_count": 19,
     "metadata": {},
     "output_type": "execute_result"
    },
    {
     "data": {
      "image/png": "[encoded data removed]",
      "text/plain": [
       "<Figure size 432x288 with 1 Axes>"
      ]
     },
     "metadata": {
      "needs_background": "light"
     },
     "output_type": "display_data"
    }
   ],
   "source": [
    "plt.plot(h.history['accuracy'])\n",
    "plt.plot(h.history['val_accuracy'])\n",
    "plt.legend(['training accuracy', 'validation accuracy'])"
   ]
  },
  {
   "cell_type": "code",
   "execution_count": 20,
   "metadata": {},
   "outputs": [
    {
     "name": "stdout",
     "output_type": "stream",
     "text": [
      "[[4.6573298e-08 1.6553435e-05 2.7185028e-05 7.4155544e-08 5.6009312e-11\n",
      "  8.1849284e-12 1.1299569e-14 9.9995601e-01 4.6446420e-09 8.1369407e-08]\n",
      " [5.7892002e-02 2.5813540e-02 7.8717321e-01 2.0397927e-03 3.7596710e-08\n",
      "  4.5327659e-05 3.2596611e-03 2.0444555e-05 1.2373153e-01 2.4461044e-05]\n",
      " [4.1993302e-05 9.9886060e-01 1.6962999e-06 1.4221087e-08 9.5520180e-04\n",
      "  4.8557331e-07 6.7656372e-05 2.3373595e-05 4.4975226e-05 4.0696705e-06]\n",
      " [9.9982077e-01 1.5049282e-07 4.2379622e-07 3.9632432e-06 3.0593252e-08\n",
      "  3.3272665e-06 1.4508275e-06 2.9430732e-06 1.6660032e-04 2.8822194e-07]\n",
      " [1.6139559e-06 7.0518504e-06 5.8837054e-07 4.2296190e-08 9.9991822e-01\n",
      "  5.5519408e-08 1.7145550e-05 4.9327577e-05 1.2686165e-07 5.7499078e-06]\n",
      " [1.6379911e-04 9.9934345e-01 1.3948211e-05 1.1144993e-08 1.8928248e-04\n",
      "  1.3262544e-07 1.8329787e-05 8.0289545e-05 1.1072170e-04 8.0105914e-05]\n",
      " [1.0671059e-06 5.8525256e-05 5.3763473e-03 9.3958632e-05 9.6174157e-01\n",
      "  8.2168281e-06 4.1118325e-04 2.8067418e-05 7.1098394e-04 3.1570006e-02]\n",
      " [5.9078975e-05 7.5611774e-06 3.3124788e-03 3.0809574e-02 2.5457129e-02\n",
      "  2.7569118e-03 4.7504104e-06 1.5564479e-02 9.8178936e-03 9.1221017e-01]\n",
      " [2.1926733e-05 2.2300737e-09 1.4433582e-05 2.3422072e-07 9.9747649e-06\n",
      "  9.8114759e-01 2.2958580e-05 1.1336132e-06 7.5021747e-04 1.8031433e-02]\n",
      " [6.1265854e-03 6.2593163e-06 4.8550516e-03 1.8434097e-03 1.5095668e-05\n",
      "  9.9248616e-03 1.2599586e-06 6.6026849e-01 5.7661276e-02 2.5929776e-01]]\n"
     ]
    }
   ],
   "source": [
    "# prediction on new data points\n",
    "print(model.predict(X_test_reshaped[:10]))"
   ]
  },
  {
   "cell_type": "code",
   "execution_count": null,
   "metadata": {},
   "outputs": [],
   "source": []
  }
 ],
 "metadata": {
  "interpreter": {
   "hash": "f1d95f50d32b83a8e06ba73b00ad9d468e5c3e6dcab077ea7f9218ac99de71c8"
  },
  "kernelspec": {
   "display_name": "Python 3.9.7 ('tf')",
   "language": "python",
   "name": "python3"
  },
  "language_info": {
   "codemirror_mode": {
    "name": "ipython",
    "version": 3
   },
   "file_extension": ".py",
   "mimetype": "text/x-python",
   "name": "python",
   "nbconvert_exporter": "python",
   "pygments_lexer": "ipython3",
   "version": "3.9.7"
  },
  "orig_nbformat": 4
 },
 "nbformat": 4,
 "nbformat_minor": 2
}
